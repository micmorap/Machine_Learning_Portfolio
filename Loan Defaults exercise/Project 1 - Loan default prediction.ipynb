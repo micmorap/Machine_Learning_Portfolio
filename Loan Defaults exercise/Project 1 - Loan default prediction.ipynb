{
 "cells": [
  {
   "cell_type": "markdown",
   "metadata": {},
   "source": [
    "# Loan default Predictions\n",
    "## Machine Learning Projects"
   ]
  },
  {
   "cell_type": "markdown",
   "metadata": {},
   "source": [
    "## 1. Defining the mail objective\n",
    "\n",
    "The main objective is regarding loan default predictions using Machine Learning techniques for predict and classify when a loan taker is in default or not. For this excercise I searched in Kaggle a dataset with ten thousand records strongly modified because is important to preserve the personal information of customers."
   ]
  },
  {
   "cell_type": "markdown",
   "metadata": {},
   "source": [
    "This excercise has proposals purely academics and for apply Machine learning techniques (Supervised Algorithms for this case) in the financial field because loans are an essential product for banking.\n",
    "Finally, I have been reading the Book \"Hands-on Machine Learning with Scikit-Learn, Keras and TensorFlow\", among others resources how papers, interactive courses how guide in my custom track in AI."
   ]
  },
  {
   "cell_type": "markdown",
   "metadata": {},
   "source": [
    "### What's technique has been used?\n",
    "For the excercise and considering that the frame of this problem can be adapt how a task classification and  I know the final output, I'll used the Logistic Regression and Random Forest Classifiers through Python and Scikit-Learn because is a problem of machine learning supervised with data labeled."
   ]
  },
  {
   "cell_type": "markdown",
   "metadata": {},
   "source": [
    "#### Import packages and get the data\n",
    "The data can be found in the url: https://www.kaggle.com/kmldas/loan-default-prediction?select=Default_Fin.csv with the description of the problema and its features."
   ]
  },
  {
   "cell_type": "code",
   "execution_count": 1,
   "metadata": {},
   "outputs": [],
   "source": [
    "import pandas as pd\n",
    "import numpy as np\n",
    "from sklearn.linear_model import LogisticRegression\n",
    "from sklearn.model_selection import train_test_split\n",
    "from sklearn.metrics import confusion_matrix, accuracy_score, classification_report\n",
    "import matplotlib.pyplot as plt\n",
    "%matplotlib inline\n",
    "import seaborn as sns\n",
    "from sklearn.ensemble import RandomForestClassifier\n"
   ]
  },
  {
   "cell_type": "markdown",
   "metadata": {},
   "source": [
    "#### Import the dataset in csv format"
   ]
  },
  {
   "cell_type": "code",
   "execution_count": 2,
   "metadata": {},
   "outputs": [],
   "source": [
    "dataset = pd.read_csv(\"Default_Fin.csv\", index_col = \"Index\")"
   ]
  },
  {
   "cell_type": "markdown",
   "metadata": {},
   "source": [
    "## 2. Exploratory Data Analysis (EDA)"
   ]
  },
  {
   "cell_type": "markdown",
   "metadata": {},
   "source": [
    "Previously, I should look at the big picture in general and a bit of basic statistics and a sample of the data:"
   ]
  },
  {
   "cell_type": "code",
   "execution_count": 3,
   "metadata": {},
   "outputs": [
    {
     "data": {
      "text/html": [
       "<div>\n",
       "<style scoped>\n",
       "    .dataframe tbody tr th:only-of-type {\n",
       "        vertical-align: middle;\n",
       "    }\n",
       "\n",
       "    .dataframe tbody tr th {\n",
       "        vertical-align: top;\n",
       "    }\n",
       "\n",
       "    .dataframe thead th {\n",
       "        text-align: right;\n",
       "    }\n",
       "</style>\n",
       "<table border=\"1\" class=\"dataframe\">\n",
       "  <thead>\n",
       "    <tr style=\"text-align: right;\">\n",
       "      <th></th>\n",
       "      <th>Employed</th>\n",
       "      <th>Bank Balance</th>\n",
       "      <th>Annual Salary</th>\n",
       "      <th>Defaulted?</th>\n",
       "    </tr>\n",
       "    <tr>\n",
       "      <th>Index</th>\n",
       "      <th></th>\n",
       "      <th></th>\n",
       "      <th></th>\n",
       "      <th></th>\n",
       "    </tr>\n",
       "  </thead>\n",
       "  <tbody>\n",
       "    <tr>\n",
       "      <th>316</th>\n",
       "      <td>1</td>\n",
       "      <td>0.00</td>\n",
       "      <td>364326.60</td>\n",
       "      <td>0</td>\n",
       "    </tr>\n",
       "    <tr>\n",
       "      <th>4689</th>\n",
       "      <td>1</td>\n",
       "      <td>0.00</td>\n",
       "      <td>603102.48</td>\n",
       "      <td>0</td>\n",
       "    </tr>\n",
       "    <tr>\n",
       "      <th>7691</th>\n",
       "      <td>1</td>\n",
       "      <td>7917.72</td>\n",
       "      <td>476555.52</td>\n",
       "      <td>0</td>\n",
       "    </tr>\n",
       "    <tr>\n",
       "      <th>7350</th>\n",
       "      <td>0</td>\n",
       "      <td>12843.96</td>\n",
       "      <td>240636.36</td>\n",
       "      <td>0</td>\n",
       "    </tr>\n",
       "    <tr>\n",
       "      <th>9405</th>\n",
       "      <td>0</td>\n",
       "      <td>3260.04</td>\n",
       "      <td>168969.00</td>\n",
       "      <td>0</td>\n",
       "    </tr>\n",
       "  </tbody>\n",
       "</table>\n",
       "</div>"
      ],
      "text/plain": [
       "       Employed  Bank Balance  Annual Salary  Defaulted?\n",
       "Index                                                   \n",
       "316           1          0.00      364326.60           0\n",
       "4689          1          0.00      603102.48           0\n",
       "7691          1       7917.72      476555.52           0\n",
       "7350          0      12843.96      240636.36           0\n",
       "9405          0       3260.04      168969.00           0"
      ]
     },
     "execution_count": 3,
     "metadata": {},
     "output_type": "execute_result"
    }
   ],
   "source": [
    "dataset.sample(5)"
   ]
  },
  {
   "cell_type": "code",
   "execution_count": 4,
   "metadata": {},
   "outputs": [
    {
     "data": {
      "text/html": [
       "<div>\n",
       "<style scoped>\n",
       "    .dataframe tbody tr th:only-of-type {\n",
       "        vertical-align: middle;\n",
       "    }\n",
       "\n",
       "    .dataframe tbody tr th {\n",
       "        vertical-align: top;\n",
       "    }\n",
       "\n",
       "    .dataframe thead th {\n",
       "        text-align: right;\n",
       "    }\n",
       "</style>\n",
       "<table border=\"1\" class=\"dataframe\">\n",
       "  <thead>\n",
       "    <tr style=\"text-align: right;\">\n",
       "      <th></th>\n",
       "      <th>Employed</th>\n",
       "      <th>Bank Balance</th>\n",
       "      <th>Annual Salary</th>\n",
       "      <th>Defaulted?</th>\n",
       "    </tr>\n",
       "  </thead>\n",
       "  <tbody>\n",
       "    <tr>\n",
       "      <th>count</th>\n",
       "      <td>10000.000000</td>\n",
       "      <td>10000.000000</td>\n",
       "      <td>10000.000000</td>\n",
       "      <td>10000.000000</td>\n",
       "    </tr>\n",
       "    <tr>\n",
       "      <th>mean</th>\n",
       "      <td>0.705600</td>\n",
       "      <td>10024.498524</td>\n",
       "      <td>402203.782224</td>\n",
       "      <td>0.033300</td>\n",
       "    </tr>\n",
       "    <tr>\n",
       "      <th>std</th>\n",
       "      <td>0.455795</td>\n",
       "      <td>5804.579486</td>\n",
       "      <td>160039.674988</td>\n",
       "      <td>0.179428</td>\n",
       "    </tr>\n",
       "    <tr>\n",
       "      <th>min</th>\n",
       "      <td>0.000000</td>\n",
       "      <td>0.000000</td>\n",
       "      <td>9263.640000</td>\n",
       "      <td>0.000000</td>\n",
       "    </tr>\n",
       "    <tr>\n",
       "      <th>25%</th>\n",
       "      <td>0.000000</td>\n",
       "      <td>5780.790000</td>\n",
       "      <td>256085.520000</td>\n",
       "      <td>0.000000</td>\n",
       "    </tr>\n",
       "    <tr>\n",
       "      <th>50%</th>\n",
       "      <td>1.000000</td>\n",
       "      <td>9883.620000</td>\n",
       "      <td>414631.740000</td>\n",
       "      <td>0.000000</td>\n",
       "    </tr>\n",
       "    <tr>\n",
       "      <th>75%</th>\n",
       "      <td>1.000000</td>\n",
       "      <td>13995.660000</td>\n",
       "      <td>525692.760000</td>\n",
       "      <td>0.000000</td>\n",
       "    </tr>\n",
       "    <tr>\n",
       "      <th>max</th>\n",
       "      <td>1.000000</td>\n",
       "      <td>31851.840000</td>\n",
       "      <td>882650.760000</td>\n",
       "      <td>1.000000</td>\n",
       "    </tr>\n",
       "  </tbody>\n",
       "</table>\n",
       "</div>"
      ],
      "text/plain": [
       "           Employed  Bank Balance  Annual Salary    Defaulted?\n",
       "count  10000.000000  10000.000000   10000.000000  10000.000000\n",
       "mean       0.705600  10024.498524  402203.782224      0.033300\n",
       "std        0.455795   5804.579486  160039.674988      0.179428\n",
       "min        0.000000      0.000000    9263.640000      0.000000\n",
       "25%        0.000000   5780.790000  256085.520000      0.000000\n",
       "50%        1.000000   9883.620000  414631.740000      0.000000\n",
       "75%        1.000000  13995.660000  525692.760000      0.000000\n",
       "max        1.000000  31851.840000  882650.760000      1.000000"
      ]
     },
     "execution_count": 4,
     "metadata": {},
     "output_type": "execute_result"
    }
   ],
   "source": [
    "dataset.describe()"
   ]
  },
  {
   "cell_type": "markdown",
   "metadata": {},
   "source": [
    "####  The shape of data: Ten thousand records with five columns:"
   ]
  },
  {
   "cell_type": "code",
   "execution_count": 5,
   "metadata": {},
   "outputs": [
    {
     "data": {
      "text/plain": [
       "(10000, 4)"
      ]
     },
     "execution_count": 5,
     "metadata": {},
     "output_type": "execute_result"
    }
   ],
   "source": [
    "dataset.shape"
   ]
  },
  {
   "cell_type": "markdown",
   "metadata": {},
   "source": [
    "#### Now, a briefly description of each column:"
   ]
  },
  {
   "cell_type": "code",
   "execution_count": 6,
   "metadata": {},
   "outputs": [
    {
     "data": {
      "text/plain": [
       "Index(['Employed', 'Bank Balance', 'Annual Salary', 'Defaulted?'], dtype='object')"
      ]
     },
     "execution_count": 6,
     "metadata": {},
     "output_type": "execute_result"
    }
   ],
   "source": [
    "dataset.columns"
   ]
  },
  {
   "cell_type": "markdown",
   "metadata": {},
   "source": [
    "#### Index:\n",
    "This is the \"primary key\" of our database\n",
    "#### Employed: \n",
    "Is a boolean variable: 1 is employed and 0 is unemployed\n",
    "#### Bank Balance:\n",
    "Balance of  loan taker in the moment of the request (numerical variable)\n",
    "#### Annual salary:\n",
    "Incomes of loan taker in a year\n",
    "#### Defaulted: \n",
    "This is the target variable, 0 is equal to defaulted and 1 not defaulted"
   ]
  },
  {
   "cell_type": "markdown",
   "metadata": {},
   "source": [
    "In general terms, this data has a good structure (this is important for the algorithm and Scikit-learn library given that for use techniques all data must be numerical)\n",
    "\n",
    "With the next line code, I have been confirmed that there isn't missing values in all columns"
   ]
  },
  {
   "cell_type": "markdown",
   "metadata": {},
   "source": [
    "#### In general the datatype columns are numericals:"
   ]
  },
  {
   "cell_type": "code",
   "execution_count": 7,
   "metadata": {},
   "outputs": [
    {
     "name": "stdout",
     "output_type": "stream",
     "text": [
      "<class 'pandas.core.frame.DataFrame'>\n",
      "Int64Index: 10000 entries, 1 to 10000\n",
      "Data columns (total 4 columns):\n",
      " #   Column         Non-Null Count  Dtype  \n",
      "---  ------         --------------  -----  \n",
      " 0   Employed       10000 non-null  int64  \n",
      " 1   Bank Balance   10000 non-null  float64\n",
      " 2   Annual Salary  10000 non-null  float64\n",
      " 3   Defaulted?     10000 non-null  int64  \n",
      "dtypes: float64(2), int64(2)\n",
      "memory usage: 390.6 KB\n"
     ]
    }
   ],
   "source": [
    "dataset.info()"
   ]
  },
  {
   "cell_type": "code",
   "execution_count": 8,
   "metadata": {},
   "outputs": [
    {
     "data": {
      "text/plain": [
       "Employed         0\n",
       "Bank Balance     0\n",
       "Annual Salary    0\n",
       "Defaulted?       0\n",
       "dtype: int64"
      ]
     },
     "execution_count": 8,
     "metadata": {},
     "output_type": "execute_result"
    }
   ],
   "source": [
    "dataset.isna().sum()"
   ]
  },
  {
   "cell_type": "markdown",
   "metadata": {},
   "source": [
    "Now, I'll use the method hist() for visualize a histogram for each numerical column:"
   ]
  },
  {
   "cell_type": "code",
   "execution_count": 9,
   "metadata": {},
   "outputs": [
    {
     "data": {
      "image/png": "[encoded data removed]",
      "text/plain": [
       "<Figure size 1440x1080 with 4 Axes>"
      ]
     },
     "metadata": {
      "needs_background": "light"
     },
     "output_type": "display_data"
    }
   ],
   "source": [
    "dataset.hist(bins=50, figsize=(20,15), color='green')\n",
    "plt.show()"
   ]
  },
  {
   "cell_type": "markdown",
   "metadata": {},
   "source": [
    "What's the percentage of defaults and not defaults in Defaulted and Employed columns?"
   ]
  },
  {
   "cell_type": "markdown",
   "metadata": {},
   "source": [
    "For our dataset, the majority of data (70.6%) is from people that they have a job, to the contrary, 29.4% don't have a job."
   ]
  },
  {
   "cell_type": "code",
   "execution_count": 10,
   "metadata": {},
   "outputs": [
    {
     "name": "stdout",
     "output_type": "stream",
     "text": [
      "Employed         0.7056\n",
      "Bank Balance     0.7056\n",
      "Annual Salary    0.7056\n",
      "Defaulted?       0.7056\n",
      "dtype: float64\n",
      "Employed         0.2944\n",
      "Bank Balance     0.2944\n",
      "Annual Salary    0.2944\n",
      "Defaulted?       0.2944\n",
      "dtype: float64\n"
     ]
    }
   ],
   "source": [
    "employees   = dataset[(dataset.Employed == 1)].count() / dataset.Employed.count()\n",
    "unemployees = dataset[(dataset.Employed == 0)].count() / dataset.Employed.count()\n",
    "print(employees)\n",
    "print(unemployees)\n"
   ]
  },
  {
   "cell_type": "markdown",
   "metadata": {},
   "source": [
    "Moreover, the 3.3% of the data had been in default whereas the 96.7% of the loans haven't been any problem"
   ]
  },
  {
   "cell_type": "code",
   "execution_count": 11,
   "metadata": {},
   "outputs": [
    {
     "name": "stdout",
     "output_type": "stream",
     "text": [
      "Employed         0.0333\n",
      "Bank Balance     0.0333\n",
      "Annual Salary    0.0333\n",
      "Defaulted?       0.0333\n",
      "dtype: float64\n",
      "Employed         0.9667\n",
      "Bank Balance     0.9667\n",
      "Annual Salary    0.9667\n",
      "Defaulted?       0.9667\n",
      "dtype: float64\n"
     ]
    }
   ],
   "source": [
    "defaulted = dataset[(dataset['Defaulted?'] == 1)].count() / dataset['Defaulted?'].count()\n",
    "print(defaulted)\n",
    "\n",
    "not_defaulted = dataset[(dataset['Defaulted?'] == 0)].count() / dataset['Defaulted?'].count()\n",
    "print(not_defaulted)"
   ]
  },
  {
   "cell_type": "markdown",
   "metadata": {},
   "source": [
    "Then, if we look at the bank balance and annual salary columns, the data has a well distribution with a bit bias. \n",
    "Maybe in the Bank balance columns, you can see a important count of people that has a littlest balance.\n",
    "\n",
    "Other important aspect to consider, is that the percentage of defaulted loans is low, therefore we can try use later, the K-folds technique for avoid and overfitting.\n",
    "\n",
    "Now, I'll try stablish the correlation between variables:"
   ]
  },
  {
   "cell_type": "code",
   "execution_count": 12,
   "metadata": {},
   "outputs": [
    {
     "data": {
      "image/png": "[encoded data removed]",
      "text/plain": [
       "<Figure size 432x288 with 2 Axes>"
      ]
     },
     "metadata": {
      "needs_background": "light"
     },
     "output_type": "display_data"
    }
   ],
   "source": [
    "corr_matrix =  dataset.drop(['Defaulted?'], axis=1).corr()\n",
    "sns.heatmap(corr_matrix, annot=True)\n",
    "plt.show()"
   ]
  },
  {
   "cell_type": "markdown",
   "metadata": {},
   "source": [
    "In the above matrix, I can verify that there is a strong correlation between Annual Salary and Bank Balance and also Defaulted and Bank Balanced (although to a minor extent).\n",
    "\n",
    "In the next scatter plot, also verify that there isn't outliers in our data. With the alpha parameter I can identify the data concentrations in this two columns:"
   ]
  },
  {
   "cell_type": "code",
   "execution_count": 13,
   "metadata": {},
   "outputs": [
    {
     "data": {
      "image/png": "[encoded data removed]",
      "text/plain": [
       "<Figure size 432x288 with 1 Axes>"
      ]
     },
     "metadata": {
      "needs_background": "light"
     },
     "output_type": "display_data"
    }
   ],
   "source": [
    "plt.scatter(dataset[\"Bank Balance\"], dataset[\"Annual Salary\"], alpha=0.1, color='r')\n",
    "plt.show()"
   ]
  },
  {
   "cell_type": "markdown",
   "metadata": {},
   "source": [
    "For this variables, I'll need realize a Multicollinearity analysis with VIF (Variance Inflation Factor) technique:"
   ]
  },
  {
   "cell_type": "code",
   "execution_count": 14,
   "metadata": {},
   "outputs": [],
   "source": [
    "from statsmodels.stats.outliers_influence import variance_inflation_factor"
   ]
  },
  {
   "cell_type": "code",
   "execution_count": 15,
   "metadata": {},
   "outputs": [
    {
     "data": {
      "text/plain": [
       "Index(['Employed', 'Bank Balance', 'Annual Salary', 'Defaulted?'], dtype='object')"
      ]
     },
     "execution_count": 15,
     "metadata": {},
     "output_type": "execute_result"
    }
   ],
   "source": [
    "dataset.columns"
   ]
  },
  {
   "cell_type": "code",
   "execution_count": 16,
   "metadata": {},
   "outputs": [],
   "source": [
    "vif_Data = pd.DataFrame()\n",
    "vif_Data[\"Feature\"] = dataset.columns"
   ]
  },
  {
   "cell_type": "code",
   "execution_count": 17,
   "metadata": {},
   "outputs": [],
   "source": [
    "vif_Data['VIF'] = [variance_inflation_factor(dataset.values, i)\n",
    "                      for i in range(len(dataset.columns))]"
   ]
  },
  {
   "cell_type": "code",
   "execution_count": 18,
   "metadata": {},
   "outputs": [
    {
     "name": "stdout",
     "output_type": "stream",
     "text": [
      "         Feature        VIF\n",
      "0       Employed   7.990309\n",
      "1   Bank Balance   2.961159\n",
      "2  Annual Salary  11.126084\n",
      "3     Defaulted?   1.152220\n"
     ]
    }
   ],
   "source": [
    "print(vif_Data)"
   ]
  },
  {
   "cell_type": "markdown",
   "metadata": {},
   "source": [
    "As you can see the Employed and Annual Salary have a higher VIF (Is equal or greater than five, when VIF is less than five, not necessarily We must not adjust nothing), therefore these variables are highly correlationed, i.e. with multicollinearity. When the independent variables has a high correlation among themselves, this implies that the powerful, parameters and quality of the model can be poor. For these reasons, I should resolve this problem through Feature Scaling technique."
   ]
  },
  {
   "cell_type": "markdown",
   "metadata": {},
   "source": [
    "### 3 Feature Scaling for reduce Multicollinearity between independent variables\n",
    "\n",
    "For this exercise, I'll standarize the Annual Salary feature (is a continue variable) substracting the mean for all observed values. However, in the context of present exercise and considering that isn't appropriate produce negative values for this column, thoses values will be negative with this standarization, remained the original values. I'll import newly the dataset adjusted:"
   ]
  },
  {
   "cell_type": "code",
   "execution_count": 19,
   "metadata": {},
   "outputs": [],
   "source": [
    "dataframe = pd.read_excel(\"Default_fin.xlsx\", index_col = \"Index\")    "
   ]
  },
  {
   "cell_type": "code",
   "execution_count": 20,
   "metadata": {},
   "outputs": [
    {
     "data": {
      "text/plain": [
       "Index(['Employed', ' Bank Balance ', 'AS', 'Defaulted?'], dtype='object')"
      ]
     },
     "execution_count": 20,
     "metadata": {},
     "output_type": "execute_result"
    }
   ],
   "source": [
    "dataframe.columns"
   ]
  },
  {
   "cell_type": "code",
   "execution_count": 21,
   "metadata": {},
   "outputs": [],
   "source": [
    "vif_Dataframe = pd.DataFrame()\n",
    "vif_Dataframe[\"Feature\"] = dataframe.columns"
   ]
  },
  {
   "cell_type": "code",
   "execution_count": 22,
   "metadata": {},
   "outputs": [],
   "source": [
    "vif_Dataframe['VIF'] = [variance_inflation_factor(dataframe.values, i)\n",
    "                      for i in range(len(dataframe.columns))]"
   ]
  },
  {
   "cell_type": "code",
   "execution_count": 23,
   "metadata": {},
   "outputs": [
    {
     "name": "stdout",
     "output_type": "stream",
     "text": [
      "          Feature       VIF\n",
      "0        Employed  2.147575\n",
      "1   Bank Balance   2.931854\n",
      "2              AS  2.806271\n",
      "3      Defaulted?  1.153074\n"
     ]
    }
   ],
   "source": [
    "print(vif_Dataframe)"
   ]
  },
  {
   "cell_type": "markdown",
   "metadata": {},
   "source": [
    "With these last results, we have been obtained  a VIF result less than 5, therefore it is already possible use all variables for the model. If running newly the correlation matrix, the results are:\n"
   ]
  },
  {
   "cell_type": "code",
   "execution_count": 24,
   "metadata": {},
   "outputs": [
    {
     "data": {
      "image/png": "[encoded data removed]",
      "text/plain": [
       "<Figure size 432x288 with 2 Axes>"
      ]
     },
     "metadata": {
      "needs_background": "light"
     },
     "output_type": "display_data"
    }
   ],
   "source": [
    "corr_matrix =  dataframe.drop(['Defaulted?'], axis=1).corr()\n",
    "sns.heatmap(corr_matrix, annot=True)\n",
    "plt.show()"
   ]
  },
  {
   "cell_type": "markdown",
   "metadata": {},
   "source": [
    "## 4  Imbalanced classes for defaulted loans\n",
    "\n",
    "Other problem with the data is that number of a defaulted loans is only a 3% of the data, i.e. this class is imbalanced and therefore the model would have problems during the training. A possible solution for the imbalanced in defaulted column, I'll try generate a proposal with \"SMOTE\" Technique with the version 0.8.0. from imblearn package.\n",
    "\n",
    "This technique consists in oversampling the examples in the minority class."
   ]
  },
  {
   "cell_type": "code",
   "execution_count": 25,
   "metadata": {},
   "outputs": [
    {
     "name": "stdout",
     "output_type": "stream",
     "text": [
      "Requirement already satisfied: imbalanced-learn in c:\\users\\teletrabajo\\anaconda3\\lib\\site-packages (0.8.0)\n",
      "Requirement already satisfied: numpy>=1.13.3 in c:\\users\\teletrabajo\\anaconda3\\lib\\site-packages (from imbalanced-learn) (1.19.2)\n",
      "Requirement already satisfied: joblib>=0.11 in c:\\users\\teletrabajo\\anaconda3\\lib\\site-packages (from imbalanced-learn) (0.17.0)\n",
      "Requirement already satisfied: scikit-learn>=0.24 in c:\\users\\teletrabajo\\anaconda3\\lib\\site-packages (from imbalanced-learn) (0.24.2)\n",
      "Requirement already satisfied: scipy>=0.19.1 in c:\\users\\teletrabajo\\anaconda3\\lib\\site-packages (from imbalanced-learn) (1.5.2)\n",
      "Requirement already satisfied: threadpoolctl>=2.0.0 in c:\\users\\teletrabajo\\anaconda3\\lib\\site-packages (from scikit-learn>=0.24->imbalanced-learn) (2.1.0)\n",
      "Note: you may need to restart the kernel to use updated packages.\n"
     ]
    }
   ],
   "source": [
    "pip install imbalanced-learn"
   ]
  },
  {
   "cell_type": "markdown",
   "metadata": {},
   "source": [
    "With this package, We will use the version 0.8.0"
   ]
  },
  {
   "cell_type": "code",
   "execution_count": 26,
   "metadata": {},
   "outputs": [
    {
     "name": "stdout",
     "output_type": "stream",
     "text": [
      "0.8.0\n"
     ]
    }
   ],
   "source": [
    "import imblearn\n",
    "print(imblearn.__version__)"
   ]
  },
  {
   "cell_type": "markdown",
   "metadata": {},
   "source": [
    "Now, I'll import other functions and packages and also split the data in two parts: X data (represent the independent variables) and y data (the target variable):"
   ]
  },
  {
   "cell_type": "code",
   "execution_count": 27,
   "metadata": {},
   "outputs": [],
   "source": [
    "from numpy import mean\n",
    "from collections import Counter\n",
    "from sklearn.datasets import make_classification\n",
    "from sklearn.model_selection import cross_val_score\n",
    "from sklearn.model_selection import RepeatedStratifiedKFold\n",
    "from sklearn.tree import DecisionTreeClassifier\n",
    "from imblearn.pipeline import Pipeline\n",
    "from imblearn.over_sampling import SMOTE\n",
    "from imblearn.under_sampling import RandomUnderSampler\n",
    "from sklearn.model_selection import train_test_split\n",
    "# define dataset\n",
    "#X = dataframe.iloc[:, :-1].values\n",
    "#y = dataframe.iloc[:, -1].values\n",
    "X = dataframe.loc[:, dataframe.columns != 'Defaulted?']\n",
    "y = dataframe.loc[:, dataframe.columns == 'Defaulted?']\n",
    "#X_train, X_test, y_train, y_test = train_test_split(X, y, test_size=0.3, random_state=0)"
   ]
  },
  {
   "cell_type": "markdown",
   "metadata": {},
   "source": [
    "Now, I'll apply the recommended steps for undersampling with the respective functions and also train the data:"
   ]
  },
  {
   "cell_type": "code",
   "execution_count": 28,
   "metadata": {},
   "outputs": [],
   "source": [
    "#Define the variables for build the Pipeline Steps\n",
    "model = DecisionTreeClassifier()\n",
    "over = SMOTE(sampling_strategy=0.5)\n",
    "#under = RandomUnderSampler(sampling_strategy=0.5)\n",
    "X_train, X_test, y_train, y_test = train_test_split(X, y, test_size=0.3, random_state=0)\n",
    "x_columns = X_train.columns\n",
    "y_columns = y_train.columns"
   ]
  },
  {
   "cell_type": "markdown",
   "metadata": {},
   "source": [
    "The next lines code creates two dataframes in xlsx format with the objective of review the first data with the new records:"
   ]
  },
  {
   "cell_type": "code",
   "execution_count": 29,
   "metadata": {},
   "outputs": [],
   "source": [
    "#steps = [('over', over), ('under', under), ('model', model)]\n",
    "#pipeline = Pipeline(steps=steps)\n",
    "over_sampling_X, over_sampling_y = over.fit_resample(X_train, y_train) \n",
    "over_sampling_X = pd.DataFrame(data=over_sampling_X, columns= x_columns )\n",
    "over_sampling_y = pd.DataFrame(data=over_sampling_y, columns= y_columns )\n"
   ]
  },
  {
   "cell_type": "markdown",
   "metadata": {},
   "source": [
    "Now, I can see the new sample of training set after applied the SMOTE function:"
   ]
  },
  {
   "cell_type": "code",
   "execution_count": 30,
   "metadata": {},
   "outputs": [
    {
     "name": "stdout",
     "output_type": "stream",
     "text": [
      "length of oversampled data is  10170\n",
      "Number of non defaulted loans in oversampled data Defaulted?\n",
      "0.0           6780\n",
      "dtype: int64\n"
     ]
    }
   ],
   "source": [
    "# Evaluate the pipeline\n",
    "#cv = RepeatedStratifiedKFold(n_splits=10, n_repeats=3, random_state=1)\n",
    "#scores = cross_val_score(pipeline, X, y, scoring='roc_auc', cv=cv, n_jobs=-1)\n",
    "#print('Mean ROC AUC: %.3f' % mean(scores))\n",
    "\n",
    "\n",
    "print(\"length of oversampled data is \",len(over_sampling_X))\n",
    "print(\"Number of non defaulted loans in oversampled data\", over_sampling_y[over_sampling_y==0].value_counts())"
   ]
  },
  {
   "cell_type": "code",
   "execution_count": 31,
   "metadata": {},
   "outputs": [
    {
     "name": "stdout",
     "output_type": "stream",
     "text": [
      "Number of defaulted loans Defaulted?\n",
      "1.0           3390\n",
      "dtype: int64\n",
      "Proportion of defaulted loans in oversampled data is  Defaulted?\n",
      "1.0           0.333333\n",
      "dtype: float64\n"
     ]
    }
   ],
   "source": [
    "print(\"Number of defaulted loans\",over_sampling_y[over_sampling_y==1].value_counts())\n",
    "print(\"Proportion of defaulted loans in oversampled data is \",over_sampling_y[over_sampling_y==1].value_counts()/len(over_sampling_X))"
   ]
  },
  {
   "cell_type": "code",
   "execution_count": 32,
   "metadata": {},
   "outputs": [],
   "source": [
    "#resultado_oversampling_os_X = over_sampling_X.to_excel(excel_writer='resultado_oversampling_os_X.xlsx')\n",
    "#resultado_oversampling_os_y = over_sampling_y.to_excel(excel_writer='resultado_oversampling_os_y.xlsx') \n"
   ]
  },
  {
   "cell_type": "markdown",
   "metadata": {},
   "source": [
    "If I'll plot newly the independent variables, We can confirm a better distribution of the data:"
   ]
  },
  {
   "cell_type": "code",
   "execution_count": 33,
   "metadata": {},
   "outputs": [
    {
     "data": {
      "image/png": "[encoded data removed]",
      "text/plain": [
       "<Figure size 1440x1080 with 4 Axes>"
      ]
     },
     "metadata": {
      "needs_background": "light"
     },
     "output_type": "display_data"
    }
   ],
   "source": [
    "over_sampling_X.hist(bins=50, figsize=(20,15), color='blue')\n",
    "plt.show()"
   ]
  },
  {
   "cell_type": "code",
   "execution_count": 34,
   "metadata": {},
   "outputs": [
    {
     "data": {
      "image/png": "[encoded data removed]",
      "text/plain": [
       "<Figure size 504x504 with 1 Axes>"
      ]
     },
     "metadata": {
      "needs_background": "light"
     },
     "output_type": "display_data"
    }
   ],
   "source": [
    "over_sampling_y.hist(bins=50, figsize=(7,7), color='blue')\n",
    "plt.show()"
   ]
  },
  {
   "cell_type": "markdown",
   "metadata": {},
   "source": [
    "# 5 Implementing the model with statsmodels\n",
    "With the next result, We can use all variables for train the models:"
   ]
  },
  {
   "cell_type": "code",
   "execution_count": 35,
   "metadata": {},
   "outputs": [
    {
     "name": "stdout",
     "output_type": "stream",
     "text": [
      "Optimization terminated successfully.\n",
      "         Current function value: 0.434193\n",
      "         Iterations 7\n"
     ]
    }
   ],
   "source": [
    "import statsmodels.api as sm\n",
    "logit_model=sm.Logit(over_sampling_y, over_sampling_X).fit()\n",
    "#result=logit_model.fit()\n",
    "#print(result.summary2())\n"
   ]
  },
  {
   "cell_type": "code",
   "execution_count": 36,
   "metadata": {},
   "outputs": [
    {
     "name": "stdout",
     "output_type": "stream",
     "text": [
      "                           Logit Regression Results                           \n",
      "==============================================================================\n",
      "Dep. Variable:             Defaulted?   No. Observations:                10170\n",
      "Model:                          Logit   Df Residuals:                    10167\n",
      "Method:                           MLE   Df Model:                            2\n",
      "Date:                Mon, 31 May 2021   Pseudo R-squ.:                  0.3179\n",
      "Time:                        21:35:58   Log-Likelihood:                -4415.7\n",
      "converged:                       True   LL-Null:                       -6473.3\n",
      "Covariance Type:            nonrobust   LLR p-value:                     0.000\n",
      "==================================================================================\n",
      "                     coef    std err          z      P>|z|      [0.025      0.975]\n",
      "----------------------------------------------------------------------------------\n",
      "Employed          -2.0683      0.049    -42.261      0.000      -2.164      -1.972\n",
      " Bank Balance      0.0002   3.74e-06     46.612      0.000       0.000       0.000\n",
      "AS             -9.724e-06    2.6e-07    -37.457      0.000   -1.02e-05   -9.21e-06\n",
      "==================================================================================\n"
     ]
    }
   ],
   "source": [
    "print(logit_model.summary())"
   ]
  },
  {
   "cell_type": "code",
   "execution_count": 37,
   "metadata": {},
   "outputs": [],
   "source": [
    "yhat = logit_model.predict(X_test)\n",
    "prediction = list(map(round, yhat))"
   ]
  },
  {
   "cell_type": "code",
   "execution_count": 38,
   "metadata": {},
   "outputs": [
    {
     "name": "stdout",
     "output_type": "stream",
     "text": [
      "Confusion Matrix : \n",
      " [[2314  573]\n",
      " [  42   71]]\n",
      "Test accuracy =  0.795\n"
     ]
    }
   ],
   "source": [
    "cm = confusion_matrix(y_test, prediction)\n",
    "print (\"Confusion Matrix : \\n\", cm)\n",
    "print('Test accuracy = ', accuracy_score(y_test, prediction))\n"
   ]
  },
  {
   "cell_type": "markdown",
   "metadata": {},
   "source": [
    "# 6 Implementing Logistic Regression the model with Scikit-learn"
   ]
  },
  {
   "cell_type": "code",
   "execution_count": 39,
   "metadata": {},
   "outputs": [],
   "source": [
    "from sklearn.linear_model import LogisticRegression\n",
    "logreg = LogisticRegression()"
   ]
  },
  {
   "cell_type": "code",
   "execution_count": 40,
   "metadata": {},
   "outputs": [
    {
     "name": "stderr",
     "output_type": "stream",
     "text": [
      "C:\\Users\\Teletrabajo\\anaconda3\\lib\\site-packages\\sklearn\\utils\\validation.py:63: DataConversionWarning: A column-vector y was passed when a 1d array was expected. Please change the shape of y to (n_samples, ), for example using ravel().\n",
      "  return f(*args, **kwargs)\n"
     ]
    },
    {
     "data": {
      "text/plain": [
       "LogisticRegression()"
      ]
     },
     "execution_count": 40,
     "metadata": {},
     "output_type": "execute_result"
    }
   ],
   "source": [
    "logreg.fit(over_sampling_X, over_sampling_y)"
   ]
  },
  {
   "cell_type": "code",
   "execution_count": 41,
   "metadata": {},
   "outputs": [],
   "source": [
    "ov_sam_reshape_y = np.array(over_sampling_y)"
   ]
  },
  {
   "cell_type": "code",
   "execution_count": 42,
   "metadata": {},
   "outputs": [
    {
     "name": "stderr",
     "output_type": "stream",
     "text": [
      "C:\\Users\\Teletrabajo\\anaconda3\\lib\\site-packages\\sklearn\\utils\\validation.py:63: DataConversionWarning: A column-vector y was passed when a 1d array was expected. Please change the shape of y to (n_samples, ), for example using ravel().\n",
      "  return f(*args, **kwargs)\n"
     ]
    },
    {
     "data": {
      "text/plain": [
       "LogisticRegression()"
      ]
     },
     "execution_count": 42,
     "metadata": {},
     "output_type": "execute_result"
    }
   ],
   "source": [
    "logreg.fit(over_sampling_X, ov_sam_reshape_y)"
   ]
  },
  {
   "cell_type": "code",
   "execution_count": 43,
   "metadata": {},
   "outputs": [],
   "source": [
    "y_pred = logreg.predict(X_test)\n"
   ]
  },
  {
   "cell_type": "code",
   "execution_count": 44,
   "metadata": {},
   "outputs": [
    {
     "name": "stdout",
     "output_type": "stream",
     "text": [
      "Accuracy of logistic regression classifier on test set: 0.72\n"
     ]
    }
   ],
   "source": [
    "print('Accuracy of logistic regression classifier on test set: {:.2f}'.format(logreg.score(X_test, y_test)))"
   ]
  },
  {
   "cell_type": "code",
   "execution_count": 45,
   "metadata": {},
   "outputs": [
    {
     "name": "stdout",
     "output_type": "stream",
     "text": [
      "[[2070  817]\n",
      " [  34   79]]\n"
     ]
    }
   ],
   "source": [
    "confusion_matrix = confusion_matrix(y_test, y_pred)\n",
    "print(confusion_matrix)"
   ]
  },
  {
   "cell_type": "code",
   "execution_count": 46,
   "metadata": {},
   "outputs": [
    {
     "name": "stdout",
     "output_type": "stream",
     "text": [
      "              precision    recall  f1-score   support\n",
      "\n",
      "           0       0.98      0.72      0.83      2887\n",
      "           1       0.09      0.70      0.16       113\n",
      "\n",
      "    accuracy                           0.72      3000\n",
      "   macro avg       0.54      0.71      0.49      3000\n",
      "weighted avg       0.95      0.72      0.80      3000\n",
      "\n"
     ]
    }
   ],
   "source": [
    "print(classification_report(y_test, y_pred))\n"
   ]
  },
  {
   "cell_type": "markdown",
   "metadata": {},
   "source": [
    "The final result of this algorithm, the effectiveness is low, therefore I'll apply other algorithm:"
   ]
  },
  {
   "cell_type": "markdown",
   "metadata": {},
   "source": [
    "# 7. Implementing Random Forest Classifiers  model with Scikit-learn"
   ]
  },
  {
   "cell_type": "code",
   "execution_count": 48,
   "metadata": {},
   "outputs": [
    {
     "name": "stderr",
     "output_type": "stream",
     "text": [
      "<ipython-input-48-6a6526c5b6f3>:3: DataConversionWarning: A column-vector y was passed when a 1d array was expected. Please change the shape of y to (n_samples,), for example using ravel().\n",
      "  clf.fit(over_sampling_X,over_sampling_y)\n"
     ]
    },
    {
     "data": {
      "text/plain": [
       "RandomForestClassifier()"
      ]
     },
     "execution_count": 48,
     "metadata": {},
     "output_type": "execute_result"
    }
   ],
   "source": [
    "from sklearn import metrics\n",
    "clf=RandomForestClassifier(n_estimators=100)\n",
    "clf.fit(over_sampling_X,over_sampling_y)\n"
   ]
  },
  {
   "cell_type": "code",
   "execution_count": 49,
   "metadata": {},
   "outputs": [],
   "source": [
    "y_pred_RFC=clf.predict(X_test)\n"
   ]
  },
  {
   "cell_type": "code",
   "execution_count": 50,
   "metadata": {},
   "outputs": [
    {
     "name": "stdout",
     "output_type": "stream",
     "text": [
      "Accuracy: 0.9206666666666666\n"
     ]
    }
   ],
   "source": [
    "print(\"Accuracy:\",metrics.accuracy_score(y_test, y_pred_RFC))\n"
   ]
  },
  {
   "cell_type": "markdown",
   "metadata": {},
   "source": [
    "This result is apparently better that Logistic Regression. For prove both results, I'll apply The ROC curve because the curves of different models can be compared directly in general:"
   ]
  },
  {
   "cell_type": "markdown",
   "metadata": {},
   "source": [
    "# 6 ROC CURVE"
   ]
  },
  {
   "cell_type": "code",
   "execution_count": 51,
   "metadata": {},
   "outputs": [
    {
     "data": {
      "image/png": "[encoded data removed]",
      "text/plain": [
       "<Figure size 432x288 with 1 Axes>"
      ]
     },
     "metadata": {
      "needs_background": "light"
     },
     "output_type": "display_data"
    }
   ],
   "source": [
    "from sklearn.metrics import roc_auc_score\n",
    "from sklearn.metrics import roc_curve\n",
    "from sklearn.metrics import plot_roc_curve\n",
    "ax = plt.gca()\n",
    "rfc_roc_auc = plot_roc_curve(clf, X_test, y_test, ax=ax, alpha=0.8)\n",
    "logreg_roc_auc = plot_roc_curve(logreg, X_test, y_test, ax=ax, alpha=0.8)\n",
    "\n",
    "#logit_roc_auc = roc_auc_score(y_test, logreg.predict(X_test))\n",
    "#fpr, tpr, thresholds = roc_curve(y_test, logreg.predict_proba(X_test)[:,1])\n",
    "#plt.figure()\n",
    "#plt.plot(fpr, tpr, label='Logistic Regression (area = %0.2f)' % logit_roc_auc)\n",
    "plt.plot([0, 1], [0, 1],'r--')\n",
    "#plt.xlim([0.0, 1.0])\n",
    "#plt.ylim([0.0, 1.05])\n",
    "#plt.xlabel('False Positive Rate')\n",
    "#plt.ylabel('True Positive Rate')\n",
    "plt.title('Receiver operating characteristic')\n",
    "#plt.legend(loc=\"lower right\")\n",
    "#plt.savefig('Log_ROC')\n",
    "plt.show()"
   ]
  },
  {
   "cell_type": "markdown",
   "metadata": {},
   "source": [
    "# Conclusions:\n",
    "\n",
    "Finally, with this exercise, I can conclude that:\n",
    "\n",
    "1. The Exploratory Data Analysis is fundamental to examine the data quality, possible bias, the data distribution,among others.\n",
    "\n",
    "2. It's important define the objective and the target variable. Regard to regressors is a decisive factor,study about the   correlation between variables and the statistical analysis.\n",
    "\n",
    "3. When you can understand the data distribution in a concrete context, this knowledge helps to better build and train of the model and therefore you can better understand the algorithms applied. In this case, I consider that was important consider the resampling of the data for avoid the under or overfitting of the algorithms. It was difficult because I've been researching about the SMOTE Technique and its application through Python, I had never thought about this particularity with this dataset.\n",
    "\n",
    "4. Morerover of the accuracy of both models, the ROC curve helps to understand the quality models of a graphical form.\n",
    "\n",
    "5. With the above plot, We can confirm that the Random Forest Classifier performs better than the previous one.\n",
    "\n"
   ]
  },
  {
   "cell_type": "markdown",
   "metadata": {},
   "source": [
    "# References\n",
    "\n",
    "https://www.geeksforgeeks.org/logistic-regression-using-statsmodels/#:~:text=Statsmodels%20provides%20a%20Logit(),then%20fitted%20to%20the%20data.&text=In%20the%20output%2C%20'Iterations',trying%20to%20optimise%20the%20model.\n",
    "\n",
    "[1] Brownlee, J.(2021). SMOTE for Imbalanced Classification with Python. Taken from: https://machinelearningmastery.com/smote-oversampling-for-imbalanced-classification/\n",
    "\n",
    "\n",
    "[2] Brownlee, J.(2021). How to Use ROC Curves and Precision-Recall Curves for Classification in Python. Taken from: https://machinelearningmastery.com/roc-curves-and-precision-recall-curves-for-classification-in-python/\n",
    "\n",
    "[3] Scikit-learn. SMOTE.Taken from: https://imbalanced-learn.org/stable/references/generated/imblearn.over_sampling.SMOTE.html\n",
    "\n",
    "[4] GeeksforGeeks.(2020). Logistic Regression using Statsmodels. Taken from:https://www.geeksforgeeks.org/logistic-regression-using-tatsmodels/#:~:text=Statsmodels%20provides%20a%20Logit(),then%20fitted%20to%20the%20data.&text=In%20the%20output%2C%20'Iterations',trying%20to%20optimise%20the%20model.\n",
    "\n",
    "[5] Zhao, S.(2020). Predicting Loan Defaults Using Logistic Regression. Taken from: https://selenaezhao.medium.com/predicting-loan-defaults-using-logistic-regression-71b7482a8cf7\n",
    "\n",
    "[5] Jia, H.(2018). Bank Loan Default Prediction with Machine Learning. Taken from: https://medium.com/henry-jia/bank-loan-default-prediction-with-machine-learning-e9336d19dffa\n",
    "\n",
    "[6] Li, S.(2017). Building A Logistic Regression in Python, Step by Step. Taken from: https://towardsdatascience.com/building-a-logistic-regression-in-python-step-by-step-becd4d56c9c8\n",
    "\n",
    "\n",
    "\n"
   ]
  }
 ],
 "metadata": {
  "kernelspec": {
   "display_name": "Python 3",
   "language": "python",
   "name": "python3"
  },
  "language_info": {
   "codemirror_mode": {
    "name": "ipython",
    "version": 3
   },
   "file_extension": ".py",
   "mimetype": "text/x-python",
   "name": "python",
   "nbconvert_exporter": "python",
   "pygments_lexer": "ipython3",
   "version": "3.8.5"
  }
 },
 "nbformat": 4,
 "nbformat_minor": 4
}
