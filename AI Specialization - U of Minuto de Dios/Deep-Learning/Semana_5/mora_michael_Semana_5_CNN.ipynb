{
 "cells": [
  {
   "cell_type": "markdown",
   "id": "20316136",
   "metadata": {},
   "source": [
    "# Trabajo Semana 5 - Deep learning\n",
    "\n",
    "Asignatura: Deep Learning\n",
    "\n",
    "Especialización en Inteligencia Artificial\n",
    "\n",
    "Realizado por: Michael Andrés Mora Poveda\n",
    "\n",
    "El objectivo de este trabajo es construir una red neuronal secuencial para el dataset de dígitos escritos a manos, conocido como MNIST. Además, la idea es generar un file exportable para la productivización del modelo entrenado. Para esto utilizaremos Tensorflow y Keras.\n",
    "\n",
    "Nota: Se toma como referencia algunos libros guía junto al notebook compartido para esta semana por parte del Docente.\n",
    "\n"
   ]
  },
  {
   "cell_type": "markdown",
   "id": "c6c6a10b",
   "metadata": {},
   "source": [
    "### 1. Descripción del dataset e importación de librerías\n",
    "\n",
    "Para empezar, vamos a importar las librerías clásicas y el dataset correspondiente:"
   ]
  },
  {
   "cell_type": "code",
   "execution_count": 1,
   "id": "eac73a30",
   "metadata": {},
   "outputs": [
    {
     "name": "stderr",
     "output_type": "stream",
     "text": [
      "2023-06-10 01:22:06.534786: I tensorflow/core/platform/cpu_feature_guard.cc:182] This TensorFlow binary is optimized to use available CPU instructions in performance-critical operations.\n",
      "To enable the following instructions: SSE4.1 SSE4.2, in other operations, rebuild TensorFlow with the appropriate compiler flags.\n"
     ]
    },
    {
     "name": "stdout",
     "output_type": "stream",
     "text": [
      "Intel MKL WARNING: Support of Intel(R) Streaming SIMD Extensions 4.2 (Intel(R) SSE4.2) enabled only processors has been deprecated. Intel oneAPI Math Kernel Library 2025.0 will require Intel(R) Advanced Vector Extensions (Intel(R) AVX) instructions.\n",
      "Intel MKL WARNING: Support of Intel(R) Streaming SIMD Extensions 4.2 (Intel(R) SSE4.2) enabled only processors has been deprecated. Intel oneAPI Math Kernel Library 2025.0 will require Intel(R) Advanced Vector Extensions (Intel(R) AVX) instructions.\n"
     ]
    }
   ],
   "source": [
    "import tensorflow as tf"
   ]
  },
  {
   "cell_type": "code",
   "execution_count": 2,
   "id": "8fa92c8b",
   "metadata": {},
   "outputs": [],
   "source": [
    "from tensorflow.keras.datasets import mnist\n",
    "from tensorflow.keras.models import Sequential\n",
    "from tensorflow.keras.layers import Dense, Flatten, Dropout"
   ]
  },
  {
   "cell_type": "code",
   "execution_count": 3,
   "id": "14a9c525-ca60-49ab-9158-70d89c5035da",
   "metadata": {},
   "outputs": [],
   "source": [
    "import numpy as np\n",
    "import matplotlib.pyplot as plt\n",
    "from tensorflow.keras.optimizers import SGD\n",
    "from keras.utils import np_utils\n",
    "import logging\n",
    "logging.basicConfig(level=logging.INFO)\n",
    "from colorlog import ColoredFormatter"
   ]
  },
  {
   "cell_type": "code",
   "execution_count": 4,
   "id": "1cb30b2a-d90b-4fc3-92c5-86b620cc8856",
   "metadata": {},
   "outputs": [],
   "source": [
    "logger = logging.getLogger()\n",
    "formatter = ColoredFormatter(\n",
    "    \"%(log_color)s%(levelname)s:%(message)s%(reset)s\",\n",
    "    datefmt=None,\n",
    "    reset=True,\n",
    "    log_colors={\n",
    "        'DEBUG':    'cyan',\n",
    "        'INFO':     'green',\n",
    "        'WARNING':  'yellow',\n",
    "        'ERROR':    'red',\n",
    "        'CRITICAL': 'red,bg_white',\n",
    "    },\n",
    "    secondary_log_colors={},\n",
    "    style='%'\n",
    ")\n",
    "\n",
    "handler = logging.StreamHandler()\n",
    "handler.setFormatter(formatter)\n",
    "\n",
    "logger.addHandler(handler)\n"
   ]
  },
  {
   "cell_type": "markdown",
   "id": "9708a22b-518f-403b-860d-cf7ef7553402",
   "metadata": {},
   "source": [
    "Upload the MNIST Dataset:"
   ]
  },
  {
   "cell_type": "code",
   "execution_count": 5,
   "id": "f9a1ba44",
   "metadata": {},
   "outputs": [],
   "source": [
    "(x_train, y_train), (x_test, y_test) = mnist.load_data()"
   ]
  },
  {
   "cell_type": "markdown",
   "id": "95683820-c9b0-4299-9100-ee01ee59de6f",
   "metadata": {},
   "source": [
    "Ahora, normalizamos nuestras imágenes de 28x28 píxeles para que queden entre 0 y 1:"
   ]
  },
  {
   "cell_type": "code",
   "execution_count": 6,
   "id": "1be77226",
   "metadata": {},
   "outputs": [],
   "source": [
    "x_train = x_train / 255\n",
    "x_test = x_test / 255"
   ]
  },
  {
   "cell_type": "markdown",
   "id": "450312ec-c911-47f8-8a07-2ff493014656",
   "metadata": {},
   "source": [
    "Vamos a imprimir de forma iterativa algunas imágenes aleatorias en escala de grises:"
   ]
  },
  {
   "cell_type": "code",
   "execution_count": 7,
   "id": "18823283-9b01-460e-8b60-4d3421a830cc",
   "metadata": {},
   "outputs": [
    {
     "data": {
      "image/png": "[encoded data removed]",
      "text/plain": [
       "<Figure size 640x480 with 6 Axes>"
      ]
     },
     "metadata": {},
     "output_type": "display_data"
    }
   ],
   "source": [
    "for k in range(1, 7):\n",
    "    plt.subplot(2,3,k)\n",
    "    plt.imshow(x_train[k + 36], cmap=plt.get_cmap('gray'))\n",
    "    # ------------------\n",
    "plt.show()"
   ]
  },
  {
   "cell_type": "markdown",
   "id": "c837bbe0-105e-4444-b135-4e1063d8a556",
   "metadata": {},
   "source": [
    "Dimensiones de nuestro dataset (Veremos que el 85% de las imágenes son para el training):"
   ]
  },
  {
   "cell_type": "code",
   "execution_count": 8,
   "id": "a1293664-c752-4f50-840b-6697bf698348",
   "metadata": {},
   "outputs": [
    {
     "name": "stderr",
     "output_type": "stream",
     "text": [
      "INFO:root:La dimensión del dataset x_train es de: (60000, 28, 28)\n",
      "\u001b[32mINFO:La dimensión del dataset x_train es de: (60000, 28, 28)\u001b[0m\n",
      "INFO:root:La dimensión del dataset x_test es de: (10000, 28, 28)\n",
      "\u001b[32mINFO:La dimensión del dataset x_test es de: (10000, 28, 28)\u001b[0m\n",
      "INFO:root:La dimensión del dataset x_train es de: (60000,)\n",
      "\u001b[32mINFO:La dimensión del dataset x_train es de: (60000,)\u001b[0m\n",
      "INFO:root:La dimensión del dataset x_test es de: (10000,)\n",
      "\u001b[32mINFO:La dimensión del dataset x_test es de: (10000,)\u001b[0m\n"
     ]
    }
   ],
   "source": [
    "logging.info(\"La dimensión del dataset x_train es de: {}\".format(x_train.shape))\n",
    "logging.info(\"La dimensión del dataset x_test es de: {}\".format(x_test.shape))\n",
    "logging.info(\"La dimensión del dataset x_train es de: {}\".format(y_train.shape))\n",
    "logging.info(\"La dimensión del dataset x_test es de: {}\".format(y_test.shape))"
   ]
  },
  {
   "cell_type": "markdown",
   "id": "c62913c4-86cf-4eb4-bc3b-43e575840434",
   "metadata": {
    "tags": []
   },
   "source": [
    "### 2. Construcción y entrenamiento del modelo:\n",
    "\n",
    "Para empezar, vamos a importar las librerías clásicas y el dataset correspondiente:"
   ]
  },
  {
   "cell_type": "markdown",
   "id": "e6880b02-919f-4038-81e7-98f78a8187b9",
   "metadata": {},
   "source": [
    "Luego, construiremos la arquitectura de la red neuronal con las siguientes especificaciones:\n",
    "\n",
    "* Se instancia una red neuronal secuencial\n",
    "* Se aplana a través de Flatten el vector de 2D a 1D\n",
    "* Se establece una capa intermedia de 128 neuronas (nodos) para el training\n",
    "* Se genera un ouput layer o capa final con 10 salidas para los 10 dígitos"
   ]
  },
  {
   "cell_type": "code",
   "execution_count": 9,
   "id": "7fe13181",
   "metadata": {},
   "outputs": [],
   "source": [
    "modelo = Sequential()\n",
    "modelo.add(Flatten(input_shape=(28, 28)))\n",
    "modelo.add(Dense(128, activation='relu'))\n",
    "modelo.add(Dense(10, activation='softmax'))"
   ]
  },
  {
   "cell_type": "markdown",
   "id": "67194d0e-e4dd-4f90-87df-0d616f787b88",
   "metadata": {},
   "source": [
    "Con esta instanciación, compilamos y entrenamos el modelo, para esto utilizaremos el optimizador Adam para utilizar\n",
    "el gradiente estocástico descendente para llegar a la convergencia del modelo.\n",
    "\n",
    "Además, vamos a entrenar el modelo 10 veces (epochs) con lotes de 32 muestras (batch size):"
   ]
  },
  {
   "cell_type": "code",
   "execution_count": 10,
   "id": "b7da9170",
   "metadata": {},
   "outputs": [],
   "source": [
    "optimizer_adam = tf.keras.optimizers.Adam(learning_rate=0.02)"
   ]
  },
  {
   "cell_type": "code",
   "execution_count": 11,
   "id": "179bdfa8",
   "metadata": {},
   "outputs": [],
   "source": [
    "modelo.compile(optimizer = optimizer_adam, \n",
    "               loss = 'sparse_categorical_crossentropy',\n",
    "               metrics=['accuracy']\n",
    "              )"
   ]
  },
  {
   "cell_type": "code",
   "execution_count": 12,
   "id": "d68d68fa",
   "metadata": {},
   "outputs": [
    {
     "name": "stdout",
     "output_type": "stream",
     "text": [
      "Epoch 1/10\n",
      "1875/1875 [==============================] - 3s 1ms/step - loss: 0.3293 - accuracy: 0.9110 - val_loss: 0.2776 - val_accuracy: 0.9255\n",
      "Epoch 2/10\n",
      "1875/1875 [==============================] - 2s 1ms/step - loss: 0.2564 - accuracy: 0.9355 - val_loss: 0.2510 - val_accuracy: 0.9420\n",
      "Epoch 3/10\n",
      "1875/1875 [==============================] - 2s 1ms/step - loss: 0.2423 - accuracy: 0.9405 - val_loss: 0.2710 - val_accuracy: 0.9361\n",
      "Epoch 4/10\n",
      "1875/1875 [==============================] - 2s 1ms/step - loss: 0.2380 - accuracy: 0.9428 - val_loss: 0.3058 - val_accuracy: 0.9301\n",
      "Epoch 5/10\n",
      "1875/1875 [==============================] - 2s 1ms/step - loss: 0.2272 - accuracy: 0.9458 - val_loss: 0.3113 - val_accuracy: 0.9427\n",
      "Epoch 6/10\n",
      "1875/1875 [==============================] - 2s 1ms/step - loss: 0.2268 - accuracy: 0.9464 - val_loss: 0.2803 - val_accuracy: 0.9424\n",
      "Epoch 7/10\n",
      "1875/1875 [==============================] - 2s 1ms/step - loss: 0.2247 - accuracy: 0.9487 - val_loss: 0.3074 - val_accuracy: 0.9458\n",
      "Epoch 8/10\n",
      "1875/1875 [==============================] - 2s 1ms/step - loss: 0.2201 - accuracy: 0.9484 - val_loss: 0.3061 - val_accuracy: 0.9445\n",
      "Epoch 9/10\n",
      "1875/1875 [==============================] - 2s 1ms/step - loss: 0.2053 - accuracy: 0.9524 - val_loss: 0.2922 - val_accuracy: 0.9509\n",
      "Epoch 10/10\n",
      "1875/1875 [==============================] - 2s 1ms/step - loss: 0.2035 - accuracy: 0.9534 - val_loss: 0.3033 - val_accuracy: 0.9444\n"
     ]
    },
    {
     "data": {
      "text/plain": [
       "<keras.callbacks.History at 0x18a7b7b50>"
      ]
     },
     "execution_count": 12,
     "metadata": {},
     "output_type": "execute_result"
    }
   ],
   "source": [
    "modelo.fit(x_train, y_train, epochs=10, batch_size=32, validation_data=(x_test, y_test))"
   ]
  },
  {
   "cell_type": "code",
   "execution_count": 13,
   "id": "414b5cb5-2157-4133-ae29-1d1873f05927",
   "metadata": {},
   "outputs": [
    {
     "name": "stdout",
     "output_type": "stream",
     "text": [
      "313/313 [==============================] - 0s 598us/step - loss: 0.3033 - accuracy: 0.9444\n",
      "Pérdida en el conjunto de prueba: 0.3032649755477905\n",
      "Precisión en el conjunto de prueba: 0.9444000124931335\n"
     ]
    }
   ],
   "source": [
    "test_loss, test_accuracy = modelo.evaluate(x_test, y_test)\n",
    "print(f\"Pérdida en el conjunto de prueba: {test_loss}\")\n",
    "print(f\"Precisión en el conjunto de prueba: {test_accuracy}\")"
   ]
  },
  {
   "cell_type": "markdown",
   "id": "d7e18217-0940-4a5d-9e53-1e9127fda957",
   "metadata": {},
   "source": [
    "Después de que el algoritmo recorrió la red neuronal 10 veces con 1875 iteraciones por cada epoch, vemos que el progreso en obtener un mejor performance del modelo tuvo los siguientes resultados:\n",
    "\n",
    "* Tiempo de ejecución: 2.1 Segundos por cada step\n",
    "* Pérdida final (Loss) de 0.0164, resultado de la diferencia entre valores reales y las predicciones\n",
    "* Accuracy: 0.9949, este valor indica que tan bien se ajustó el modelo al training set\n",
    "* Pérdida final del validation set (val_loss) de 0.0747\n",
    "* Val_accuracy: 0.9813, este valor indica que tan bien se ajustó el modelo al validation set\n",
    "\n",
    "En general, vemos un buen rendimiento del modelo tanto en calidad y tiempos de procesamiento, pero debemos tener cuidado con un posible overfitting."
   ]
  },
  {
   "cell_type": "markdown",
   "id": "28895676-1abe-42f9-8ae3-d1d3d100bd2b",
   "metadata": {},
   "source": [
    "### 3. Exportación del modelo con hp5y\n",
    "\n",
    "Ahora, vamos a exportar nuestro modelo con extensión h5py, para luego importarlo (simulando una parte del deploy en producción del modelo utilizándolo para nuevas predicciones):"
   ]
  },
  {
   "cell_type": "code",
   "execution_count": 14,
   "id": "02077544-d80c-46fe-8b66-9f460b6ae404",
   "metadata": {},
   "outputs": [],
   "source": [
    "import h5py\n",
    "from keras.models import load_model"
   ]
  },
  {
   "cell_type": "code",
   "execution_count": 15,
   "id": "c8e8817b-81cd-443a-b417-f18d865a912a",
   "metadata": {},
   "outputs": [],
   "source": [
    "# Nota: Este modelo se guarda en la misma ubicación que el notebook actual:\n",
    "modelo.save('red_neuronal_mnist.h5')"
   ]
  },
  {
   "cell_type": "markdown",
   "id": "c93de84f-0051-438d-9d4d-4bcccfb260d3",
   "metadata": {},
   "source": [
    "#### 3.1 Carga del modelo:\n",
    "\n",
    "Vamos a cargar el modelo y correr de nuevo algunas líneas de validación sobre su calidad:"
   ]
  },
  {
   "cell_type": "code",
   "execution_count": 16,
   "id": "5b83a604-4715-46a3-8775-4a4e7056d8f0",
   "metadata": {},
   "outputs": [],
   "source": [
    "# Carga del modelo:\n",
    "productive_model = load_model('red_neuronal_mnist.h5')"
   ]
  },
  {
   "cell_type": "code",
   "execution_count": 17,
   "id": "b882321e-0caf-49bd-a8d8-651e5a0f0891",
   "metadata": {},
   "outputs": [
    {
     "name": "stdout",
     "output_type": "stream",
     "text": [
      "313/313 [==============================] - 0s 604us/step - loss: 0.3033 - accuracy: 0.9444\n",
      "\n",
      "test loss 0.3032649755477905\n",
      "accuracy 0.9444000124931335\n"
     ]
    }
   ],
   "source": [
    "# Evaluación el modelo.\n",
    "loss,accuracy = productive_model.evaluate(x_test,y_test)\n",
    " \n",
    "print('\\ntest loss',loss)\n",
    "print('accuracy',accuracy)"
   ]
  },
  {
   "cell_type": "code",
   "execution_count": 18,
   "id": "bfa199e3-3919-4ca3-b6b2-2e1ae3edfc05",
   "metadata": {},
   "outputs": [
    {
     "name": "stdout",
     "output_type": "stream",
     "text": [
      "Epoch 1/2\n",
      "938/938 [==============================] - 1s 1ms/step - loss: 0.1400 - accuracy: 0.9644\n",
      "Epoch 2/2\n",
      "938/938 [==============================] - 1s 1ms/step - loss: 0.1356 - accuracy: 0.9656\n"
     ]
    },
    {
     "data": {
      "text/plain": [
       "<keras.callbacks.History at 0x18afb5b90>"
      ]
     },
     "execution_count": 18,
     "metadata": {},
     "output_type": "execute_result"
    }
   ],
   "source": [
    "# Modelo de entrenamiento,ajustar el modelo\n",
    "productive_model.fit(x_train,y_train,batch_size=64,epochs=2)"
   ]
  },
  {
   "cell_type": "markdown",
   "id": "838420b3-9353-4535-99a8-c35bd9906670",
   "metadata": {},
   "source": [
    "En la anterior línea podemos apreciar que gracias a este modelo importado, la función de pérdida y accuracy son bastante buenas en general. (Tener cuidado con el overfitting!).\n",
    "\n",
    "Ahora, guardaremos los pesos (weights) asociados a las redes neuronales y los cargaremos de nuevo:"
   ]
  },
  {
   "cell_type": "code",
   "execution_count": 19,
   "id": "2c8f9521-1d72-46c4-acc7-8d631f314625",
   "metadata": {},
   "outputs": [],
   "source": [
    "# Guardar y cargar weights (pesos), se generan en la misma ubicación que este notebook:\n",
    "productive_model.save_weights('productive_model_weights.h5')\n",
    "productive_model.load_weights('productive_model_weights.h5')"
   ]
  },
  {
   "cell_type": "code",
   "execution_count": 20,
   "id": "035ba943-ba70-4d77-a654-47172a308e60",
   "metadata": {},
   "outputs": [
    {
     "name": "stdout",
     "output_type": "stream",
     "text": [
      "{\"class_name\": \"Sequential\", \"config\": {\"name\": \"sequential\", \"layers\": [{\"class_name\": \"InputLayer\", \"config\": {\"batch_input_shape\": [null, 28, 28], \"dtype\": \"float32\", \"sparse\": false, \"ragged\": false, \"name\": \"flatten_input\"}}, {\"class_name\": \"Flatten\", \"config\": {\"name\": \"flatten\", \"trainable\": true, \"dtype\": \"float32\", \"batch_input_shape\": [null, 28, 28], \"data_format\": \"channels_last\"}}, {\"class_name\": \"Dense\", \"config\": {\"name\": \"dense\", \"trainable\": true, \"dtype\": \"float32\", \"units\": 128, \"activation\": \"relu\", \"use_bias\": true, \"kernel_initializer\": {\"class_name\": \"GlorotUniform\", \"config\": {\"seed\": null}}, \"bias_initializer\": {\"class_name\": \"Zeros\", \"config\": {}}, \"kernel_regularizer\": null, \"bias_regularizer\": null, \"activity_regularizer\": null, \"kernel_constraint\": null, \"bias_constraint\": null}}, {\"class_name\": \"Dense\", \"config\": {\"name\": \"dense_1\", \"trainable\": true, \"dtype\": \"float32\", \"units\": 10, \"activation\": \"softmax\", \"use_bias\": true, \"kernel_initializer\": {\"class_name\": \"GlorotUniform\", \"config\": {\"seed\": null}}, \"bias_initializer\": {\"class_name\": \"Zeros\", \"config\": {}}, \"kernel_regularizer\": null, \"bias_regularizer\": null, \"activity_regularizer\": null, \"kernel_constraint\": null, \"bias_constraint\": null}}]}, \"keras_version\": \"2.12.0\", \"backend\": \"tensorflow\"}\n"
     ]
    }
   ],
   "source": [
    "# Guardar la estructura de la red y visualizarla en formato JSON:\n",
    "from keras.models import model_from_json\n",
    "json_string = productive_model.to_json() \n",
    "print(json_string)"
   ]
  },
  {
   "cell_type": "markdown",
   "id": "07af2088-6f01-4d85-a17f-f90460d7448b",
   "metadata": {},
   "source": [
    "Ahora, a través de la función summary podemos ver todas las capas del modelo y el total de parámetros:"
   ]
  },
  {
   "cell_type": "code",
   "execution_count": 21,
   "id": "c81dcee0-6379-4dbd-a53b-f33bbf5b0222",
   "metadata": {},
   "outputs": [
    {
     "name": "stdout",
     "output_type": "stream",
     "text": [
      "Model: \"sequential\"\n",
      "_________________________________________________________________\n",
      " Layer (type)                Output Shape              Param #   \n",
      "=================================================================\n",
      " flatten (Flatten)           (None, 784)               0         \n",
      "                                                                 \n",
      " dense (Dense)               (None, 128)               100480    \n",
      "                                                                 \n",
      " dense_1 (Dense)             (None, 10)                1290      \n",
      "                                                                 \n",
      "=================================================================\n",
      "Total params: 101,770\n",
      "Trainable params: 101,770\n",
      "Non-trainable params: 0\n",
      "_________________________________________________________________\n",
      "None\n"
     ]
    }
   ],
   "source": [
    "print(productive_model.summary())"
   ]
  },
  {
   "cell_type": "code",
   "execution_count": 22,
   "id": "3078ad4c-1ab4-4023-a6b9-0bf8bceb02a6",
   "metadata": {},
   "outputs": [
    {
     "name": "stdout",
     "output_type": "stream",
     "text": [
      "313/313 [==============================] - 0s 616us/step\n"
     ]
    }
   ],
   "source": [
    "prediccion = productive_model.predict(x_test)"
   ]
  },
  {
   "cell_type": "markdown",
   "id": "379ae4d0-3ba4-4530-ba6d-7d4be538e91c",
   "metadata": {},
   "source": [
    "Ahora, vamos a ingresar a nuestro modelo las imágenes que visualizamos previamente en la celda 7:"
   ]
  },
  {
   "cell_type": "code",
   "execution_count": 23,
   "id": "dcbd15fc-e4a8-410d-ac10-887c752838e4",
   "metadata": {},
   "outputs": [
    {
     "name": "stdout",
     "output_type": "stream",
     "text": [
      "--- Array de la predicción de la imagen número 1\n",
      "Array con probabilidad para cad dígito: \n",
      "[9.3147519e-30 9.9926168e-01 7.2327338e-04 1.3767991e-14 1.7057412e-06\n",
      " 6.2124336e-06 7.6895029e-10 7.1552490e-06 3.9298226e-12 1.9182216e-09]\n",
      "--- Suma total de la predicción para la imagen número 1.0\n",
      "------------------\n",
      "--- Array de la predicción de la imagen número 2\n",
      "Array con probabilidad para cad dígito: \n",
      "[2.1844344e-36 1.3292941e-08 2.6272079e-02 9.7372788e-01 0.0000000e+00\n",
      " 2.3520296e-20 3.4283704e-31 9.6734169e-08 2.0626768e-14 2.3648140e-35]\n",
      "--- Suma total de la predicción para la imagen número 1.0\n",
      "------------------\n",
      "--- Array de la predicción de la imagen número 3\n",
      "Array con probabilidad para cad dígito: \n",
      "[0.0000000e+00 1.0000000e+00 1.7014215e-14 2.0603507e-25 7.0588787e-12\n",
      " 1.1616410e-15 1.1987761e-15 1.3540906e-17 4.5600900e-21 3.4240569e-25]\n",
      "--- Suma total de la predicción para la imagen número 1.0\n",
      "------------------\n",
      "--- Array de la predicción de la imagen número 4\n",
      "Array con probabilidad para cad dígito: \n",
      "[1.2913600e-34 9.9989963e-01 9.8863682e-05 2.6545385e-16 3.3698063e-07\n",
      " 6.3360608e-07 8.8832608e-11 5.8166256e-07 7.7207107e-14 9.5979891e-11]\n",
      "--- Suma total de la predicción para la imagen número 1.0000001192092896\n",
      "------------------\n",
      "--- Array de la predicción de la imagen número 5\n",
      "Array con probabilidad para cad dígito: \n",
      "[0.0000000e+00 5.9529703e-10 1.1795844e-09 1.0287880e-07 1.6834486e-13\n",
      " 4.1474169e-14 5.6907913e-38 9.9999988e-01 1.2281205e-25 3.4990897e-14]\n",
      "--- Suma total de la predicción para la imagen número 1.0\n",
      "------------------\n",
      "--- Array de la predicción de la imagen número 6\n",
      "Array con probabilidad para cad dígito: \n",
      "[1.4712707e-10 3.3048359e-08 1.8356226e-06 1.9509522e-12 9.9964166e-01\n",
      " 5.0902301e-08 3.2185307e-14 6.2511624e-08 2.6410523e-09 3.5643167e-04]\n",
      "--- Suma total de la predicción para la imagen número 1.0\n",
      "------------------\n"
     ]
    },
    {
     "data": {
      "image/png": "[encoded data removed]",
      "text/plain": [
       "<Figure size 640x480 with 6 Axes>"
      ]
     },
     "metadata": {},
     "output_type": "display_data"
    }
   ],
   "source": [
    "for k in range(1, 7):\n",
    "    print(\"--- Array de la predicción de la imagen número {}\".format(k))\n",
    "    print(\"Array con probabilidad para cad dígito: \")\n",
    "    print(prediccion[k + 36])\n",
    "    print(\"--- Suma total de la predicción para la imagen número {}\".format(np.sum(prediccion[k + 36])))\n",
    "    print(\"------------------\")\n",
    "    plt.subplot(2,3,k)\n",
    "    plt.imshow(x_train[k + 36], cmap=plt.get_cmap('gray'))\n",
    "    # ------------------\n",
    "plt.show()"
   ]
  },
  {
   "cell_type": "markdown",
   "id": "aeed28e9-e6bf-4ef0-bc68-a34e9d96201f",
   "metadata": {},
   "source": [
    "## Parte dos:"
   ]
  },
  {
   "cell_type": "markdown",
   "id": "392a0f5e-323d-4094-879e-2b3eaaf174b6",
   "metadata": {
    "id": "nxIyPCIboIDf",
    "tags": []
   },
   "source": [
    "### **Realice lo siguiente:**"
   ]
  },
  {
   "cell_type": "markdown",
   "id": "e97ec1e9-bc9d-4ef5-9031-e634033f09e6",
   "metadata": {
    "id": "dGRAuAkLViGm"
   },
   "source": [
    "\n",
    "*   Modifique el tipo de optimizador por ejemplo optimizer='adam'\n",
    "*   Modifique los valores de learning rate, ejemplo lr=0.001\n",
    "\n",
    "*   Modifique epochs,batch_size,ejemplo epochs=10, batch_size=200\n",
    "\n",
    "*   Agregue una capa oculta al modelo con 784 neuronas.\n",
    "\n",
    "*   Modifique Dropout, ejemplo Dropout=0.2. Esto permite excluir aleatoriamente el 20% de las neuronas en el entrenamiento para evitar el sobreajuste\n",
    "\n",
    "*    Evalue el modelo con loss y accuracy\n",
    "loss,accuracy = model.evaluate(x_test,y_test)\n",
    "\n",
    "\n",
    "\n",
    "*   Modifique loss dentro de model.compile(), ejemplo loss='categorical_crossentropy'\n",
    "\n",
    "*   Imprima las capas de neuronas del modelo print(model.summary())\n",
    "\n",
    "*   Guarde el modelo model.save('modeloinicial.h5')# pip install h5py\n",
    "\n",
    "*  Guarde los pesos del modelo mediante: model.save_weights('model_pesos.h5')\n",
    "\n"
   ]
  },
  {
   "cell_type": "code",
   "execution_count": 25,
   "id": "4ea3e622-6356-416a-b7d2-9445f3f9cd30",
   "metadata": {},
   "outputs": [
    {
     "name": "stdout",
     "output_type": "stream",
     "text": [
      "Epoch 1/10\n",
      "300/300 [==============================] - 0s 820us/step - loss: 0.7923 - accuracy: 0.8101\n",
      "Epoch 2/10\n",
      "300/300 [==============================] - 0s 797us/step - loss: 0.4005 - accuracy: 0.8948\n",
      "Epoch 3/10\n",
      "300/300 [==============================] - 0s 852us/step - loss: 0.3442 - accuracy: 0.9064\n",
      "Epoch 4/10\n",
      "300/300 [==============================] - 0s 790us/step - loss: 0.3179 - accuracy: 0.9129\n",
      "Epoch 5/10\n",
      "300/300 [==============================] - 0s 843us/step - loss: 0.3023 - accuracy: 0.9165\n",
      "Epoch 6/10\n",
      "300/300 [==============================] - 0s 782us/step - loss: 0.2923 - accuracy: 0.9189\n",
      "Epoch 7/10\n",
      "300/300 [==============================] - 0s 788us/step - loss: 0.2846 - accuracy: 0.9211\n",
      "Epoch 8/10\n",
      "300/300 [==============================] - 0s 788us/step - loss: 0.2783 - accuracy: 0.9223\n",
      "Epoch 9/10\n",
      "300/300 [==============================] - 0s 788us/step - loss: 0.2739 - accuracy: 0.9242\n",
      "Epoch 10/10\n",
      "300/300 [==============================] - 0s 798us/step - loss: 0.2701 - accuracy: 0.9249\n",
      "313/313 [==============================] - 0s 451us/step - loss: 0.2698 - accuracy: 0.9244\n",
      "\n",
      "test loss 0.2697713375091553\n",
      "accuracy 0.9243999719619751\n"
     ]
    }
   ],
   "source": [
    "# Cargar datos\n",
    "(x_train_2,y_train_2),(x_test_2,y_test_2) = mnist.load_data()\n",
    "x_train_2 = x_train_2.reshape(x_train.shape[0],-1)/255.0 #(se divide por 255 pixeles,para tener numeros entre 0 y 1)\n",
    "x_test_2 = x_test_2.reshape(x_test.shape[0],-1)/255.0\n",
    "y_train_2 = np_utils.to_categorical(y_train,num_classes=10)\n",
    "y_test_2 = np_utils.to_categorical(y_test,num_classes=10)\n",
    " \n",
    "model = Sequential([\n",
    "        Dense(units=10,input_dim=784,bias_initializer='one',activation='softmax')\n",
    "    ])\n",
    "\n",
    "\n",
    "# Definir optimizador sgd (stochastic gradient descent),  lr( learning rate) o (tasa de aprendizaje =.02)\n",
    "optimizer_adam = tf.keras.optimizers.Adam(learning_rate=0.001) # varie este valor\n",
    " \n",
    "# Definir optimizador, funciÃ³n de pÃ©rdida, precisiÃ³n de cÃ¡lculo durante el entrenamiento\n",
    "model.compile(\n",
    "    optimizer = optimizer_adam,\n",
    "    loss = 'categorical_crossentropy',# funcion de perdida mse(error cuadratico media)\n",
    "    metrics=['accuracy'],# metrica, efectividad del modelo\n",
    ")\n",
    "\n",
    "\n",
    "model.fit(x_train_2,y_train_2,batch_size=200,epochs=10)\n",
    " \n",
    "#  EvaluaciÃ³n del modelo con loss y accuracy\n",
    "loss,accuracy = model.evaluate(x_test_2,y_test_2)\n",
    " \n",
    "print('\\ntest loss',loss)\n",
    "print('accuracy',accuracy)\n"
   ]
  },
  {
   "cell_type": "code",
   "execution_count": 26,
   "id": "52f08672-02ef-4e61-876e-d3c394a94d52",
   "metadata": {},
   "outputs": [
    {
     "name": "stdout",
     "output_type": "stream",
     "text": [
      "Model: \"sequential_2\"\n",
      "_________________________________________________________________\n",
      " Layer (type)                Output Shape              Param #   \n",
      "=================================================================\n",
      " dense_3 (Dense)             (None, 10)                7850      \n",
      "                                                                 \n",
      "=================================================================\n",
      "Total params: 7,850\n",
      "Trainable params: 7,850\n",
      "Non-trainable params: 0\n",
      "_________________________________________________________________\n",
      "None\n"
     ]
    }
   ],
   "source": [
    "print(model.summary())"
   ]
  },
  {
   "cell_type": "code",
   "execution_count": 27,
   "id": "e70a6788-6870-4dfa-a4fa-e3c321ee1a00",
   "metadata": {},
   "outputs": [],
   "source": [
    "# Guardar el modelo y sus pesos con extension .h5\n",
    "model.save('modelo_ejercicio_2.h5')\n",
    "model.save_weights('modelo_ejercicio_2.h5')\n",
    "model.load_weights('modelo_ejercicio_2.h5')"
   ]
  },
  {
   "cell_type": "markdown",
   "id": "83120111-28c7-43de-acf5-631ceaca76d0",
   "metadata": {},
   "source": [
    "Para este ejercicio modificado de acuerdo a la solicitud del ejercicio 2, podemos ver que la función de pérdida es considerable a pesar de que este modelo tiene un accuracy sobresaliente."
   ]
  },
  {
   "cell_type": "markdown",
   "id": "848d34c4-6b3f-4b72-9a2a-b67cc9f445b0",
   "metadata": {},
   "source": [
    "# Conclusiones:\n",
    "\n",
    "En general logramos ver y aplicar todo el proceso de construcción de una red neuronal y ver sus componente internos relacionados con su arquitectura flexible, tiempo ágil de compilación, resultados de validación y entrenamiento, resumen de capas y parámetros, entre otros.\n",
    "\n",
    "Además, vimos como exportar el modelo y sus componentes, esto nos puede servir a la hora de implementación en producción del modelo (MLOps) y para ser un archivo práctico de predicciones para futuras imágenes y ejercicios diferentes al entrenamiento actual."
   ]
  },
  {
   "cell_type": "markdown",
   "id": "1e34cf73-2d0a-4203-90d4-7a41801489ed",
   "metadata": {
    "tags": []
   },
   "source": [
    "### Referencias:\n",
    "    \n",
    "* Bonaccorso, G. (2018). Mastering Machine Learning Algorithms: Expert Techniques to Implement Popular \n",
    "Machine Learning Algorithms and Fine-Tune your Models. PP. 441-470.\n",
    "\n",
    "* Fandango, A. (2018). Mastering TensorFlow 1. x: Advanced Machine Learning and Deep Learning Concepts \n",
    "Using TensorFlow 1. x and Keras.Pp. 73-111."
   ]
  },
  {
   "cell_type": "markdown",
   "id": "336e4aa3-3496-425f-8166-67798dc72919",
   "metadata": {},
   "source": [
    "## Nota:\n",
    "\n",
    "La siguiente imagen muestra en el panel izquierdo los archivos generados de los modelos entrenados en formato h5py:"
   ]
  },
  {
   "cell_type": "code",
   "execution_count": 29,
   "id": "8818a9c2-2f07-44d4-818e-ad49819222d5",
   "metadata": {},
   "outputs": [
    {
     "data": {
      "image/png": "[encoded data removed]",
      "text/plain": [
       "<Figure size 640x480 with 1 Axes>"
      ]
     },
     "metadata": {},
     "output_type": "display_data"
    }
   ],
   "source": [
    "import matplotlib.pyplot as plt\n",
    "import matplotlib.image as mpimg\n",
    "\n",
    "# Ruta de la imagen\n",
    "image_path = 'artifacts.png'\n",
    "\n",
    "# Lee la imagen\n",
    "image = mpimg.imread(image_path)\n",
    "\n",
    "# Muestra la imagen\n",
    "plt.imshow(image)\n",
    "plt.axis('off')  # Opcional: para ocultar los ejes\n",
    "plt.show()"
   ]
  }
 ],
 "metadata": {
  "kernelspec": {
   "display_name": "Python 3.9.16 64-bit ('3.9.16')",
   "language": "python",
   "name": "python3"
  },
  "language_info": {
   "codemirror_mode": {
    "name": "ipython",
    "version": 3
   },
   "file_extension": ".py",
   "mimetype": "text/x-python",
   "name": "python",
   "nbconvert_exporter": "python",
   "pygments_lexer": "ipython3",
   "version": "3.9.16"
  },
  "vscode": {
   "interpreter": {
    "hash": "b439e6198b3e936149d4de3b865794144d690961860165056bb74611ccdf0d6a"
   }
  }
 },
 "nbformat": 4,
 "nbformat_minor": 5
}
