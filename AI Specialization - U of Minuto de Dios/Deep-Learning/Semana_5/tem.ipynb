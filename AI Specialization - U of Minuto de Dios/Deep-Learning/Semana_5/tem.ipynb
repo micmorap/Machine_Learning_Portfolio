{
 "cells": [
  {
   "cell_type": "markdown",
   "metadata": {
    "id": "9nL_0H702XOs"
   },
   "source": [
    "# OptimizaciÃ³n de Parametros."
   ]
  },
  {
   "cell_type": "markdown",
   "metadata": {
    "id": "CU7pIgkhneIZ"
   },
   "source": [
    "# Entrenar el modelo con keras y tensorflow"
   ]
  },
  {
   "cell_type": "markdown",
   "metadata": {
    "id": "IvGoUK9gnW7N"
   },
   "source": [
    "1. **Cargue las librerias que necesite:numpy, matplotlib.pyplot,etc.**\n",
    "\n",
    "\n",
    "2. **Para cargar las librerias utilice  import seguido del nombre de la libreria y de un alias (as).Ejemplo import pandas as pd**\n",
    "\n",
    "\n",
    "3.   **Ejecute de forma secuencial de arriba hacia abajo las celdas de cÃ³digo dando click al boton play o ctrl+enter**\n",
    "   \n",
    "4. **Al ejecutar la celda debe marcar un check en color verde al lado izquierdo de la celda de cÃ³digo y en el menu de google colab en la parte superior derecha, se debe activar Ram y Disco con un check verde.**\n",
    "\n",
    "\n",
    "5. **El simbolo # es para comentarios dentro del cÃ³digo.**\n",
    "\n",
    "6. **Para subir un archivo a google colab se puede hacer click en la parte izquierda, donde aparace una carpeta y le da click al simbolo de una hoja con la flecha hacia arriba cargar archivo al almacenamiento de sesiÃ³n.** "
   ]
  },
  {
   "cell_type": "markdown",
   "metadata": {
    "id": "n6VL35K55Xg-"
   },
   "source": [
    "Mnist un conjunto que esta dentro de keras.\n",
    "\n",
    "Conjunto de nÃºmeros escritos a mano digitalizados.\n",
    "\n",
    "Los nÃºmeros son:0,1,2,3,4,5,6,7,8,9\n",
    "\n",
    "En total son 10 nÃºmeros.\n",
    "\n",
    "Estos nÃºmeros estan en un dataset en keras.\n",
    "\n",
    "Cada imagen tiene 28 x 28 pÃ­xeles cuadrados (784 pÃ­xeles en total por cada imÃ¡gen). Se utiliza una divisiÃ³n  del conjunto de datos para evaluar y comparar modelos, en la que se utilizan 60.000 imÃ¡genes para formar un modelo(training) y un conjunto separado de 10.000 imÃ¡genes para probarlo(test)"
   ]
  },
  {
   "cell_type": "markdown",
   "metadata": {
    "id": "cXOwVB_v6NG0"
   },
   "source": [
    "**Para guardar el modelo se instala la libreria h5py**"
   ]
  },
  {
   "cell_type": "code",
   "execution_count": null,
   "metadata": {
    "colab": {
     "base_uri": "https://localhost:8080/"
    },
    "id": "OpnT0cgpu_ci",
    "outputId": "d9e69dd7-dd07-4f1b-8a0e-fabc774a181f"
   },
   "outputs": [
    {
     "name": "stdout",
     "output_type": "stream",
     "text": [
      "Requirement already satisfied: h5py in /usr/local/lib/python3.7/dist-packages (3.1.0)\n",
      "Requirement already satisfied: cached-property in /usr/local/lib/python3.7/dist-packages (from h5py) (1.5.2)\n",
      "Requirement already satisfied: numpy>=1.14.5 in /usr/local/lib/python3.7/dist-packages (from h5py) (1.19.5)\n"
     ]
    }
   ],
   "source": [
    "pip install h5py"
   ]
  },
  {
   "cell_type": "markdown",
   "metadata": {
    "id": "Q7bTPv1I6uCb"
   },
   "source": [
    "**Observemos las imÃ¡genes de los numeros en escala de grises**"
   ]
  },
  {
   "cell_type": "markdown",
   "metadata": {
    "id": "M7eT-TOu7C28"
   },
   "source": [
    "\n",
    "1.   x_train:entrada de la red neuronal(entrenar la red)\n",
    "2.   y_train:salida de la red neuronal(entrenar la red)\n",
    "3. x_test:entrada de prueba del red neuronal(probrando la red neuronal)\n",
    "4. y_test:salida de prueba de la red neuronal(probrando la red neuronal)\n",
    "5. mnist.load_data():Carga los nÃºmeros\n",
    "\n"
   ]
  },
  {
   "cell_type": "markdown",
   "metadata": {
    "id": "mnB_4B5K8teK"
   },
   "source": [
    "Para graficar los nÃºmeros.\n",
    "\n",
    "* Se puede escribir subplot(224) Ã³ subplot(2,2,4)\n",
    "* Especifica num_filas, num_columnas, numplot\n",
    "\n"
   ]
  },
  {
   "cell_type": "code",
   "execution_count": 1,
   "metadata": {
    "colab": {
     "base_uri": "https://localhost:8080/",
     "height": 341
    },
    "id": "k_riTeoB3FLG",
    "outputId": "2af86954-c2cb-400b-add3-3f4abda611f3"
   },
   "outputs": [
    {
     "name": "stdout",
     "output_type": "stream",
     "text": [
      "Downloading data from https://storage.googleapis.com/tensorflow/tf-keras-datasets/mnist.npz\n",
      "11493376/11490434 [==============================] - 0s 0us/step\n",
      "11501568/11490434 [==============================] - 0s 0us/step\n"
     ]
    },
    {
     "data": {
      "image/png": "[encoded data removed]",
      "text/plain": [
       "<Figure size 432x288 with 4 Axes>"
      ]
     },
     "metadata": {
      "needs_background": "light"
     },
     "output_type": "display_data"
    }
   ],
   "source": [
    "from keras.datasets import mnist\n",
    "import matplotlib.pyplot as plt\n",
    "# cargar (descargar si es necesario) el conjunto de datos MNIST\n",
    "(x_train, y_train), (x_test, y_test) = mnist.load_data()\n",
    "# plot 4 imagenes en escala de grises\n",
    "plt.subplot(2,2,1)\n",
    "plt.imshow(x_train[1], cmap=plt.get_cmap('gray'))\n",
    "plt.subplot(2,2,2)\n",
    "plt.imshow(x_train[15], cmap=plt.get_cmap('gray'))\n",
    "plt.subplot(2,2,3)\n",
    "plt.imshow(x_train[35], cmap=plt.get_cmap('gray'))\n",
    "plt.subplot(224)\n",
    "plt.imshow(x_train[25], cmap=plt.get_cmap('gray'))\n",
    "# Muestra el grÃ¡fico de los 4 numeros\n",
    "plt.show()"
   ]
  },
  {
   "cell_type": "code",
   "execution_count": 2,
   "metadata": {
    "colab": {
     "base_uri": "https://localhost:8080/"
    },
    "id": "FIX-OJowr548",
    "outputId": "fc155658-f551-4844-ff9c-45f00d919172"
   },
   "outputs": [
    {
     "name": "stdout",
     "output_type": "stream",
     "text": [
      "x_shape: (60000, 28, 28)\n",
      "y_shape: (60000,)\n"
     ]
    },
    {
     "name": "stderr",
     "output_type": "stream",
     "text": [
      "/usr/local/lib/python3.7/dist-packages/keras/optimizer_v2/optimizer_v2.py:356: UserWarning: The `lr` argument is deprecated, use `learning_rate` instead.\n",
      "  \"The `lr` argument is deprecated, use `learning_rate` instead.\")\n"
     ]
    },
    {
     "name": "stdout",
     "output_type": "stream",
     "text": [
      "Epoch 1/5\n",
      "938/938 [==============================] - 2s 1ms/step - loss: 0.0502 - accuracy: 0.6878\n",
      "Epoch 2/5\n",
      "938/938 [==============================] - 1s 1ms/step - loss: 0.0257 - accuracy: 0.8588\n",
      "Epoch 3/5\n",
      "938/938 [==============================] - 1s 1ms/step - loss: 0.0213 - accuracy: 0.8775\n",
      "Epoch 4/5\n",
      "938/938 [==============================] - 1s 1ms/step - loss: 0.0193 - accuracy: 0.8859\n",
      "Epoch 5/5\n",
      "938/938 [==============================] - 1s 1ms/step - loss: 0.0181 - accuracy: 0.8911\n",
      "313/313 [==============================] - 0s 1ms/step - loss: 0.0167 - accuracy: 0.9001\n",
      "\n",
      "test loss 0.016736574470996857\n",
      "accuracy 0.9000999927520752\n"
     ]
    }
   ],
   "source": [
    "import numpy as np\n",
    "from keras.datasets import mnist\n",
    "from keras.utils import np_utils\n",
    "from keras.models import Sequential\n",
    "from keras.layers import Dense\n",
    "from tensorflow.keras.optimizers import SGD\n",
    " \n",
    "# Cargar datos\n",
    "(x_train,y_train),(x_test,y_test) = mnist.load_data()\n",
    "# (60000,28,28)\n",
    "print('x_shape:',x_train.shape)\n",
    "# (60000)\n",
    "print('y_shape:',y_train.shape)\n",
    "# (60000,28,28)->(60000,784)(salida)\n",
    "x_train = x_train.reshape(x_train.shape[0],-1)/255.0 #(se divide por 255 pixeles,para tener numeros entre 0 y 1)\n",
    "x_test = x_test.reshape(x_test.shape[0],-1)/255.0\n",
    "# Cambiar a un formato por categorias (10 debibo a los numeros 0,1,2..9)\n",
    "y_train = np_utils.to_categorical(y_train,num_classes=10)\n",
    "y_test = np_utils.to_categorical(y_test,num_classes=10)\n",
    " \n",
    "# Cree un modelo, ingrese 784 neuronas y genere 10 neuronas\n",
    "# la activacion softmax es para dar la probabilidad del numero \n",
    "model = Sequential([\n",
    "        Dense(units=10,input_dim=784,bias_initializer='one',activation='softmax')\n",
    "    ])\n",
    " \n",
    "# Definir optimizador sgd (stochastic gradient descent),  lr( learning rate) o (tasa de aprendizaje =.02)\n",
    "sgd = SGD(lr=0.2) # varie este valor\n",
    " \n",
    "# Definir optimizador, funciÃ³n de pÃ©rdida, precisiÃ³n de cÃ¡lculo durante el entrenamiento\n",
    "model.compile(\n",
    "    optimizer = sgd,\n",
    "    loss = 'mse',# funcion de perdida mse(error cuadratico media)\n",
    "    metrics=['accuracy'],# metrica, efectividad del modelo\n",
    ")\n",
    " \n",
    "#  Entrenamiento del modelo\n",
    "# batch_size= Es el numero de datos que tiene cada iteraciÃ³n \n",
    "#de un ciclo (epoch), esto es util porquÃ© la red \n",
    "#neuronal actualiza los parametros W (pesos)\n",
    "\n",
    "\n",
    "# epochs=Este es el nÃºmero de veces que se ejecutaran los algoritmos de forwardpropagation y backpropagation. \n",
    "#En cada ciclo (epoch) todos los datos de entrenamiento pasan por la red neuronal\n",
    "# para que esta aprenda sobre ellos, si existen 10 ciclos y 1000 datos, \n",
    "# en cada ciclo los 1000 datos pasaran por la red neuronal\n",
    "\n",
    "model.fit(x_train,y_train,batch_size=64,epochs=5)\n",
    " \n",
    "#  EvaluaciÃ³n del modelo con loss y accuracy\n",
    "loss,accuracy = model.evaluate(x_test,y_test)\n",
    " \n",
    "print('\\ntest loss',loss)\n",
    "print('accuracy',accuracy)\n",
    "# Guardar el modelo con extension .h5\n",
    "model.save('modeloinicial.h5')# pip install h5py"
   ]
  },
  {
   "cell_type": "code",
   "execution_count": null,
   "metadata": {
    "colab": {
     "base_uri": "https://localhost:8080/"
    },
    "id": "oNz-kfHmzx9t",
    "outputId": "fba856a1-7173-4996-f292-eafa29967028"
   },
   "outputs": [
    {
     "data": {
      "text/plain": [
       "(60000, 784)"
      ]
     },
     "execution_count": 10,
     "metadata": {},
     "output_type": "execute_result"
    }
   ],
   "source": [
    "x_train.shape"
   ]
  },
  {
   "cell_type": "code",
   "execution_count": null,
   "metadata": {
    "colab": {
     "base_uri": "https://localhost:8080/"
    },
    "id": "NdIPYfBjz2xn",
    "outputId": "c0bf7b43-ee81-42a9-ea8d-f107dd4b98ea"
   },
   "outputs": [
    {
     "data": {
      "text/plain": [
       "(60000, 10)"
      ]
     },
     "execution_count": 11,
     "metadata": {},
     "output_type": "execute_result"
    }
   ],
   "source": [
    "y_train.shape"
   ]
  },
  {
   "cell_type": "code",
   "execution_count": null,
   "metadata": {
    "colab": {
     "base_uri": "https://localhost:8080/"
    },
    "id": "OMLrX6pXz-cK",
    "outputId": "3e001710-c050-4d15-cea1-ecf863e6f704"
   },
   "outputs": [
    {
     "data": {
      "text/plain": [
       "(10000, 784)"
      ]
     },
     "execution_count": 12,
     "metadata": {},
     "output_type": "execute_result"
    }
   ],
   "source": [
    "x_test.shape"
   ]
  },
  {
   "cell_type": "code",
   "execution_count": null,
   "metadata": {
    "colab": {
     "base_uri": "https://localhost:8080/"
    },
    "id": "e7apynln0JXQ",
    "outputId": "be5bb9f0-a515-4288-8a97-8f19992a2c89"
   },
   "outputs": [
    {
     "data": {
      "text/plain": [
       "(10000, 10)"
      ]
     },
     "execution_count": 13,
     "metadata": {},
     "output_type": "execute_result"
    }
   ],
   "source": [
    "y_test.shape"
   ]
  },
  {
   "cell_type": "markdown",
   "metadata": {
    "id": "qXfNyubnGtv8"
   },
   "source": [
    "**Cargar el modeloinicial.h5**"
   ]
  },
  {
   "cell_type": "code",
   "execution_count": 3,
   "metadata": {
    "colab": {
     "base_uri": "https://localhost:8080/"
    },
    "id": "C0-jnvV5vV_E",
    "outputId": "7a21da57-3b2e-40a6-86f4-e1f48ea1219f"
   },
   "outputs": [
    {
     "name": "stdout",
     "output_type": "stream",
     "text": [
      "x_shape: (60000, 28, 28)\n",
      "y_shape: (60000,)\n",
      "313/313 [==============================] - 0s 952us/step - loss: 0.0167 - accuracy: 0.9001\n",
      "\n",
      "test loss 0.016736574470996857\n",
      "accuracy 0.9000999927520752\n",
      "Epoch 1/2\n",
      "938/938 [==============================] - 1s 1ms/step - loss: 0.0173 - accuracy: 0.8957\n",
      "Epoch 2/2\n",
      "938/938 [==============================] - 1s 1ms/step - loss: 0.0167 - accuracy: 0.8989\n",
      "313/313 [==============================] - 0s 1ms/step - loss: 0.0155 - accuracy: 0.9061\n",
      "\n",
      "test loss 0.015545634552836418\n",
      "accuracy 0.9060999751091003\n",
      "{\"class_name\": \"Sequential\", \"config\": {\"name\": \"sequential\", \"layers\": [{\"class_name\": \"InputLayer\", \"config\": {\"batch_input_shape\": [null, 784], \"dtype\": \"float32\", \"sparse\": false, \"ragged\": false, \"name\": \"dense_input\"}}, {\"class_name\": \"Dense\", \"config\": {\"name\": \"dense\", \"trainable\": true, \"batch_input_shape\": [null, 784], \"dtype\": \"float32\", \"units\": 10, \"activation\": \"softmax\", \"use_bias\": true, \"kernel_initializer\": {\"class_name\": \"GlorotUniform\", \"config\": {\"seed\": null}}, \"bias_initializer\": {\"class_name\": \"Ones\", \"config\": {}}, \"kernel_regularizer\": null, \"bias_regularizer\": null, \"activity_regularizer\": null, \"kernel_constraint\": null, \"bias_constraint\": null}}]}, \"keras_version\": \"2.6.0\", \"backend\": \"tensorflow\"}\n"
     ]
    }
   ],
   "source": [
    "import numpy as np\n",
    "from keras.datasets import mnist\n",
    "from keras.utils import np_utils\n",
    "from keras.models import Sequential\n",
    "from keras.layers import Dense\n",
    "from tensorflow.keras.optimizers import SGD\n",
    "from keras.models import load_model\n",
    "# Cargar datos\n",
    "(x_train,y_train),(x_test,y_test) = mnist.load_data()\n",
    "# (60000,28,28)\n",
    "print('x_shape:',x_train.shape)\n",
    "# (60000)\n",
    "print('y_shape:',y_train.shape)\n",
    "# (60000,28,28)->(60000,784)\n",
    "x_train = x_train.reshape(x_train.shape[0],-1)/255.0\n",
    "x_test = x_test.reshape(x_test.shape[0],-1)/255.0\n",
    "# Cambiar a un formato de categorias son 10 (el numero total de nÃºmeros)\n",
    "y_train = np_utils.to_categorical(y_train,num_classes=10)\n",
    "y_test = np_utils.to_categorical(y_test,num_classes=10)\n",
    " \n",
    "# Carga el modelo.\n",
    "model = load_model('modeloinicial.h5')\n",
    " \n",
    "# Evaluar el modelo.\n",
    "loss,accuracy = model.evaluate(x_test,y_test)\n",
    " \n",
    "print('\\ntest loss',loss)\n",
    "print('accuracy',accuracy)\n",
    " \n",
    "# Modelo de entrenamiento,ajustar el modelo\n",
    "model.fit(x_train,y_train,batch_size=64,epochs=2)\n",
    " \n",
    "# Modelo de evaluaciÃ³n\n",
    "loss,accuracy = model.evaluate(x_test,y_test)\n",
    " \n",
    "print('\\ntest loss',loss)\n",
    "print('accuracy',accuracy)\n",
    " \n",
    "# Guardar parÃ¡metros, cargar parÃ¡metros(pesos)\n",
    "model.save_weights('model_pesos.h5')\n",
    "model.load_weights('model_pesos.h5')\n",
    "# Guardar la estructura de la red, cargar la estructura de red\n",
    "from keras.models import model_from_json\n",
    "json_string = model.to_json()\n",
    "model = model_from_json(json_string)\n",
    " \n",
    "print(json_string)"
   ]
  },
  {
   "cell_type": "markdown",
   "metadata": {
    "id": "sEUEl47Em6IP"
   },
   "source": [
    "**Imprimir las capas del modelo de red neuronal**"
   ]
  },
  {
   "cell_type": "code",
   "execution_count": 4,
   "metadata": {
    "colab": {
     "base_uri": "https://localhost:8080/"
    },
    "id": "oG2OhSOexyex",
    "outputId": "6efc466d-208d-4fd8-f873-83d796b40ffb"
   },
   "outputs": [
    {
     "name": "stdout",
     "output_type": "stream",
     "text": [
      "Model: \"sequential\"\n",
      "_________________________________________________________________\n",
      "Layer (type)                 Output Shape              Param #   \n",
      "=================================================================\n",
      "dense (Dense)                (None, 10)                7850      \n",
      "=================================================================\n",
      "Total params: 7,850\n",
      "Trainable params: 7,850\n",
      "Non-trainable params: 0\n",
      "_________________________________________________________________\n",
      "None\n"
     ]
    }
   ],
   "source": [
    "print(model.summary())"
   ]
  },
  {
   "cell_type": "markdown",
   "metadata": {
    "id": "AcSzVSjgumWY"
   },
   "source": [
    "Para hacer la prediccion de la imagen , la probabilidad debe sumar 1."
   ]
  },
  {
   "cell_type": "code",
   "execution_count": 10,
   "metadata": {
    "id": "fjCQ7cQZuF4C"
   },
   "outputs": [],
   "source": [
    "\n",
    "prediccion = model.predict(x_test)"
   ]
  },
  {
   "cell_type": "markdown",
   "metadata": {
    "id": "-L38zNoYsXHE"
   },
   "source": []
  },
  {
   "cell_type": "code",
   "execution_count": 12,
   "metadata": {
    "colab": {
     "base_uri": "https://localhost:8080/"
    },
    "id": "6YF3Ui-er5IW",
    "outputId": "1cbdaccd-1768-481d-ec29-93883db77504"
   },
   "outputs": [
    {
     "data": {
      "text/plain": [
       "array([0.08703849, 0.02751966, 0.13814485, 0.11133784, 0.21279202,\n",
       "       0.07633734, 0.09467182, 0.08971225, 0.09756819, 0.0648775 ],\n",
       "      dtype=float32)"
      ]
     },
     "execution_count": 12,
     "metadata": {},
     "output_type": "execute_result"
    }
   ],
   "source": [
    "prediccion[1]"
   ]
  },
  {
   "cell_type": "code",
   "execution_count": 13,
   "metadata": {
    "colab": {
     "base_uri": "https://localhost:8080/"
    },
    "id": "iRtGeMIlvbDU",
    "outputId": "32eb6f8d-917a-4e8e-ba2f-f6391ca787f7"
   },
   "outputs": [
    {
     "data": {
      "text/plain": [
       "array([0.06925007, 0.06983136, 0.15717739, 0.08532973, 0.14593339,\n",
       "       0.11683442, 0.12002686, 0.05671936, 0.0980637 , 0.08083368],\n",
       "      dtype=float32)"
      ]
     },
     "execution_count": 13,
     "metadata": {},
     "output_type": "execute_result"
    }
   ],
   "source": [
    "prediccion[0]"
   ]
  },
  {
   "cell_type": "markdown",
   "metadata": {
    "id": "RRD9v4zYvH4R"
   },
   "source": [
    "**La probabilidad debe sumar 1**"
   ]
  },
  {
   "cell_type": "code",
   "execution_count": 9,
   "metadata": {
    "colab": {
     "base_uri": "https://localhost:8080/"
    },
    "id": "o2Q51I5vuvAy",
    "outputId": "8d4c47fe-3941-4a54-a549-5855474e03a1"
   },
   "outputs": [
    {
     "data": {
      "text/plain": [
       "0.9999999599999999"
      ]
     },
     "execution_count": 9,
     "metadata": {},
     "output_type": "execute_result"
    }
   ],
   "source": [
    "0.06925007+ 0.06983136+ 0.15717739+ 0.08532973+ 0.14593339+0.11683442+ 0.12002686+ 0.05671936+ 0.0980637 + 0.08083368"
   ]
  },
  {
   "cell_type": "markdown",
   "metadata": {
    "id": "7qDUPhLayTIo"
   },
   "source": [
    "**Cada valor corresponde a la probabilidad que sea el numero 0,1,2,3 hasta el 9.**\n",
    "\n",
    "**Esta probabilidad sale cuando definimos el modelo de la red neuronal secuencial utilizando activation='softmax'**"
   ]
  },
  {
   "cell_type": "markdown",
   "metadata": {
    "id": "nxIyPCIboIDf",
    "tags": []
   },
   "source": [
    "# **Realice lo siguiente:**"
   ]
  },
  {
   "cell_type": "markdown",
   "metadata": {
    "id": "dGRAuAkLViGm"
   },
   "source": [
    "\n",
    "*   Modifique el tipo de optimizador por ejemplo optimizer='adam'\n",
    "*   Modifique los valores de learning rate, ejemplo lr=0.001\n",
    "\n",
    "*   Modifique epochs,batch_size,ejemplo epochs=10, batch_size=200\n",
    "\n",
    "*   Agregue una capa oculta al modelo con 784 neuronas.\n",
    "\n",
    "*   Modifique Dropout, ejemplo Dropout=0.2. Esto permite excluir aleatoriamente el 20% de las neuronas en el entrenamiento para evitar el sobreajuste\n",
    "\n",
    "*    Evalue el modelo con loss y accuracy\n",
    "loss,accuracy = model.evaluate(x_test,y_test)\n",
    "\n",
    "\n",
    "\n",
    "*   Modifique loss dentro de model.compile(), ejemplo loss='categorical_crossentropy'\n",
    "\n",
    "*   Imprima las capas de neuronas del modelo print(model.summary())\n",
    "\n",
    "*   Guarde el modelo model.save('modeloinicial.h5')# pip install h5py\n",
    "\n",
    "*  Guarde los pesos del modelo mediante: model.save_weights('model_pesos.h5')\n",
    "\n"
   ]
  },
  {
   "cell_type": "code",
   "execution_count": null,
   "metadata": {
    "id": "kFj_FkuaoQHQ"
   },
   "outputs": [],
   "source": [
    "# Escriba aqui el cÃ³digo que responde a lo solicitado  agregue mas celdas de cÃ³digo si lo necesita."
   ]
  }
 ],
 "metadata": {
  "colab": {
   "collapsed_sections": [],
   "name": "Entrenar_modelo_keras.ipynb",
   "provenance": []
  },
  "kernelspec": {
   "display_name": "Python 3 (ipykernel)",
   "language": "python",
   "name": "python3"
  },
  "language_info": {
   "codemirror_mode": {
    "name": "ipython",
    "version": 3
   },
   "file_extension": ".py",
   "mimetype": "text/x-python",
   "name": "python",
   "nbconvert_exporter": "python",
   "pygments_lexer": "ipython3",
   "version": "3.11.3"
  }
 },
 "nbformat": 4,
 "nbformat_minor": 4
}
