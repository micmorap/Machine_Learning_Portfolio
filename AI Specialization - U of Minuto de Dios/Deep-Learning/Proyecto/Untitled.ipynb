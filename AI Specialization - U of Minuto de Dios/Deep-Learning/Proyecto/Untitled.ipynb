{
 "cells": [
  {
   "cell_type": "code",
   "execution_count": 1,
   "id": "0165200f-feb2-4b7f-b742-5ba448664d11",
   "metadata": {},
   "outputs": [
    {
     "name": "stderr",
     "output_type": "stream",
     "text": [
      "2023-06-23 08:10:09.354480: I tensorflow/core/platform/cpu_feature_guard.cc:182] This TensorFlow binary is optimized to use available CPU instructions in performance-critical operations.\n",
      "To enable the following instructions: SSE4.1 SSE4.2, in other operations, rebuild TensorFlow with the appropriate compiler flags.\n"
     ]
    },
    {
     "name": "stdout",
     "output_type": "stream",
     "text": [
      "Intel MKL WARNING: Support of Intel(R) Streaming SIMD Extensions 4.2 (Intel(R) SSE4.2) enabled only processors has been deprecated. Intel oneAPI Math Kernel Library 2025.0 will require Intel(R) Advanced Vector Extensions (Intel(R) AVX) instructions.\n",
      "Intel MKL WARNING: Support of Intel(R) Streaming SIMD Extensions 4.2 (Intel(R) SSE4.2) enabled only processors has been deprecated. Intel oneAPI Math Kernel Library 2025.0 will require Intel(R) Advanced Vector Extensions (Intel(R) AVX) instructions.\n"
     ]
    },
    {
     "ename": "ImportError",
     "evalue": "Extension horovod.tensorflow has not been built: /Users/michaelandr/opt/anaconda3/envs/semana5_dl/lib/python3.11/site-packages/horovod/tensorflow/mpi_lib.cpython-311-darwin.so not found\nIf this is not expected, reinstall Horovod with HOROVOD_WITH_TENSORFLOW=1 to debug the build error.",
     "output_type": "error",
     "traceback": [
      "\u001b[0;31m---------------------------------------------------------------------------\u001b[0m",
      "\u001b[0;31mImportError\u001b[0m                               Traceback (most recent call last)",
      "Cell \u001b[0;32mIn[1], line 2\u001b[0m\n\u001b[1;32m      1\u001b[0m \u001b[38;5;28;01mimport\u001b[39;00m \u001b[38;5;21;01mtensorflow\u001b[39;00m \u001b[38;5;28;01mas\u001b[39;00m \u001b[38;5;21;01mtf\u001b[39;00m\n\u001b[0;32m----> 2\u001b[0m \u001b[38;5;28;01mimport\u001b[39;00m \u001b[38;5;21;01mhorovod\u001b[39;00m\u001b[38;5;21;01m.\u001b[39;00m\u001b[38;5;21;01mtensorflow\u001b[39;00m \u001b[38;5;28;01mas\u001b[39;00m \u001b[38;5;21;01mhvd\u001b[39;00m\n",
      "File \u001b[0;32m~/opt/anaconda3/envs/semana5_dl/lib/python3.11/site-packages/horovod/tensorflow/__init__.py:25\u001b[0m\n\u001b[1;32m     21\u001b[0m \u001b[38;5;28;01mimport\u001b[39;00m \u001b[38;5;21;01mwarnings\u001b[39;00m\n\u001b[1;32m     23\u001b[0m \u001b[38;5;28;01mfrom\u001b[39;00m \u001b[38;5;21;01mhorovod\u001b[39;00m\u001b[38;5;21;01m.\u001b[39;00m\u001b[38;5;21;01mcommon\u001b[39;00m\u001b[38;5;21;01m.\u001b[39;00m\u001b[38;5;21;01mutil\u001b[39;00m \u001b[38;5;28;01mimport\u001b[39;00m check_extension, gpu_available, split_list\n\u001b[0;32m---> 25\u001b[0m check_extension(\u001b[38;5;124m'\u001b[39m\u001b[38;5;124mhorovod.tensorflow\u001b[39m\u001b[38;5;124m'\u001b[39m, \u001b[38;5;124m'\u001b[39m\u001b[38;5;124mHOROVOD_WITH_TENSORFLOW\u001b[39m\u001b[38;5;124m'\u001b[39m, \u001b[38;5;18m__file__\u001b[39m, \u001b[38;5;124m'\u001b[39m\u001b[38;5;124mmpi_lib\u001b[39m\u001b[38;5;124m'\u001b[39m)\n\u001b[1;32m     27\u001b[0m \u001b[38;5;28;01mfrom\u001b[39;00m \u001b[38;5;21;01mhorovod\u001b[39;00m\u001b[38;5;21;01m.\u001b[39;00m\u001b[38;5;21;01mtensorflow\u001b[39;00m \u001b[38;5;28;01mimport\u001b[39;00m elastic\n\u001b[1;32m     28\u001b[0m \u001b[38;5;28;01mfrom\u001b[39;00m \u001b[38;5;21;01mhorovod\u001b[39;00m\u001b[38;5;21;01m.\u001b[39;00m\u001b[38;5;21;01mtensorflow\u001b[39;00m\u001b[38;5;21;01m.\u001b[39;00m\u001b[38;5;21;01mcompression\u001b[39;00m \u001b[38;5;28;01mimport\u001b[39;00m Compression\n",
      "File \u001b[0;32m~/opt/anaconda3/envs/semana5_dl/lib/python3.11/site-packages/horovod/common/util.py:56\u001b[0m, in \u001b[0;36mcheck_extension\u001b[0;34m(ext_name, ext_env_var, pkg_path, *args)\u001b[0m\n\u001b[1;32m     54\u001b[0m full_path \u001b[38;5;241m=\u001b[39m get_extension_full_path(pkg_path, \u001b[38;5;241m*\u001b[39margs)\n\u001b[1;32m     55\u001b[0m \u001b[38;5;28;01mif\u001b[39;00m \u001b[38;5;129;01mnot\u001b[39;00m os\u001b[38;5;241m.\u001b[39mpath\u001b[38;5;241m.\u001b[39mexists(full_path):\n\u001b[0;32m---> 56\u001b[0m     \u001b[38;5;28;01mraise\u001b[39;00m \u001b[38;5;167;01mImportError\u001b[39;00m(\n\u001b[1;32m     57\u001b[0m         \u001b[38;5;124m'\u001b[39m\u001b[38;5;124mExtension \u001b[39m\u001b[38;5;132;01m{}\u001b[39;00m\u001b[38;5;124m has not been built: \u001b[39m\u001b[38;5;132;01m{}\u001b[39;00m\u001b[38;5;124m not found\u001b[39m\u001b[38;5;130;01m\\n\u001b[39;00m\u001b[38;5;124m'\u001b[39m\n\u001b[1;32m     58\u001b[0m         \u001b[38;5;124m'\u001b[39m\u001b[38;5;124mIf this is not expected, reinstall Horovod with \u001b[39m\u001b[38;5;132;01m{}\u001b[39;00m\u001b[38;5;124m=1 to debug the build error.\u001b[39m\u001b[38;5;124m'\u001b[39m\u001b[38;5;241m.\u001b[39mformat(\n\u001b[1;32m     59\u001b[0m             ext_name, full_path, ext_env_var\n\u001b[1;32m     60\u001b[0m         )\n\u001b[1;32m     61\u001b[0m     )\n",
      "\u001b[0;31mImportError\u001b[0m: Extension horovod.tensorflow has not been built: /Users/michaelandr/opt/anaconda3/envs/semana5_dl/lib/python3.11/site-packages/horovod/tensorflow/mpi_lib.cpython-311-darwin.so not found\nIf this is not expected, reinstall Horovod with HOROVOD_WITH_TENSORFLOW=1 to debug the build error."
     ]
    }
   ],
   "source": [
    "import tensorflow as tf\n",
    "import horovod.tensorflow as hvd"
   ]
  },
  {
   "cell_type": "code",
   "execution_count": null,
   "id": "00b13921-75a5-44e8-b1c2-66f1b2e79cef",
   "metadata": {},
   "outputs": [],
   "source": []
  }
 ],
 "metadata": {
  "kernelspec": {
   "display_name": "Python 3 (ipykernel)",
   "language": "python",
   "name": "python3"
  },
  "language_info": {
   "codemirror_mode": {
    "name": "ipython",
    "version": 3
   },
   "file_extension": ".py",
   "mimetype": "text/x-python",
   "name": "python",
   "nbconvert_exporter": "python",
   "pygments_lexer": "ipython3",
   "version": "3.11.3"
  }
 },
 "nbformat": 4,
 "nbformat_minor": 5
}
