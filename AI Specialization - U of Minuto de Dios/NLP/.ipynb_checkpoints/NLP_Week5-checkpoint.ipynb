{
 "cells": [
  {
   "cell_type": "markdown",
   "id": "86c55afd",
   "metadata": {},
   "source": [
    "# Trabajo Semana 5 - NLP\n",
    "### Asignatura: Procesamiento de Lenguaje Natural\n",
    "#### Especialización en Inteligencia Artificial\n",
    "##### Realizado por: Michael Andrés Mora Poveda"
   ]
  },
  {
   "cell_type": "markdown",
   "id": "4dd1a85f",
   "metadata": {},
   "source": [
    "### Objetivo:\n",
    "\n",
    "El código presentado a continuación tiene como objetivo realizar análisis de sentimientos para el dataset IMDB Movie Review por medio de NLP utilizando el algoritmo Naive Bayes y la librería Textblob. Dicha info se puede encontrar en la página oficial de Kaggle (https://www.kaggle.com/datasets/lakshmi25npathi/imdb-dataset-of-50k-movie-reviews)"
   ]
  },
  {
   "cell_type": "code",
   "execution_count": null,
   "id": "031626f6",
   "metadata": {},
   "outputs": [],
   "source": [
    "import pandas as pd\n",
    "import numpy as np\n",
    "from textblob import TextBlob\n",
    "from sklearn.naive_bayes import GaussianNB\n",
    "from sklearn.metrics import accuracy_score, mean_absolute_error"
   ]
  },
  {
   "cell_type": "markdown",
   "id": "ac9fe5fd",
   "metadata": {},
   "source": [
    "#### Cargamos el dataset de entrenamiento\n"
   ]
  },
  {
   "cell_type": "code",
   "execution_count": null,
   "id": "edd7b7b7",
   "metadata": {},
   "outputs": [],
   "source": [
    "df = pd.read_csv(\"imdb_reviews.csv\")"
   ]
  },
  {
   "cell_type": "markdown",
   "id": "f0829e3c",
   "metadata": {},
   "source": [
    "#### Dividimos el dataset en variables de entrada y salida"
   ]
  },
  {
   "cell_type": "code",
   "execution_count": null,
   "id": "06539eea",
   "metadata": {},
   "outputs": [],
   "source": [
    "X = df[\"review\"]\n",
    "y = df[\"sentiment\"]\n"
   ]
  },
  {
   "cell_type": "markdown",
   "id": "2ff0d876",
   "metadata": {},
   "source": [
    "#### Convertimos las críticas a texto en polaridad"
   ]
  },
  {
   "cell_type": "code",
   "execution_count": null,
   "id": "e1633a00",
   "metadata": {},
   "outputs": [],
   "source": [
    "X = X.apply(lambda review: TextBlob(review).sentiment.polarity)"
   ]
  },
  {
   "cell_type": "markdown",
   "id": "e52e1f51",
   "metadata": {},
   "source": [
    "#### Entrenamos el modelo de Naive Bayes"
   ]
  },
  {
   "cell_type": "code",
   "execution_count": null,
   "id": "f3d3ed59",
   "metadata": {},
   "outputs": [],
   "source": [
    "model = GaussianNB()\n",
    "model.fit(X, y)\n",
    "\n"
   ]
  },
  {
   "cell_type": "markdown",
   "id": "b2306e16",
   "metadata": {},
   "source": [
    "#### Evaluamos el modelo"
   ]
  },
  {
   "cell_type": "code",
   "execution_count": null,
   "id": "5086dca6",
   "metadata": {},
   "outputs": [],
   "source": [
    "y_pred = model.predict(X)\n",
    "accuracy = accuracy_score(y, y_pred)\n",
    "mae = mean_absolute_error(y, y_pred)"
   ]
  },
  {
   "cell_type": "markdown",
   "id": "e0954ee6",
   "metadata": {},
   "source": [
    "#### Imprimimos los resultados"
   ]
  },
  {
   "cell_type": "code",
   "execution_count": null,
   "id": "206842f8",
   "metadata": {},
   "outputs": [],
   "source": [
    "print(\"Accuracy:\", accuracy)\n",
    "print(\"MAE:\", mae)"
   ]
  },
  {
   "cell_type": "markdown",
   "id": "32b58f24",
   "metadata": {},
   "source": [
    "#### Calculamos el peso promedio por variable\n"
   ]
  },
  {
   "cell_type": "code",
   "execution_count": null,
   "id": "56ee42f3",
   "metadata": {},
   "outputs": [],
   "source": [
    "weights = model.coef_\n",
    "weights_mean = np.mean(weights)"
   ]
  },
  {
   "cell_type": "markdown",
   "id": "5f20a555",
   "metadata": {},
   "source": [
    "#### Imprimimos el peso promedio por variable\n"
   ]
  },
  {
   "cell_type": "code",
   "execution_count": null,
   "id": "25a8fd6b",
   "metadata": {},
   "outputs": [],
   "source": [
    "print(\"Peso promedio por variable:\", weights_mean)\n"
   ]
  }
 ],
 "metadata": {
  "kernelspec": {
   "display_name": "Python 3 (ipykernel)",
   "language": "python",
   "name": "python3"
  },
  "language_info": {
   "codemirror_mode": {
    "name": "ipython",
    "version": 3
   },
   "file_extension": ".py",
   "mimetype": "text/x-python",
   "name": "python",
   "nbconvert_exporter": "python",
   "pygments_lexer": "ipython3",
   "version": "3.8.12"
  }
 },
 "nbformat": 4,
 "nbformat_minor": 5
}
