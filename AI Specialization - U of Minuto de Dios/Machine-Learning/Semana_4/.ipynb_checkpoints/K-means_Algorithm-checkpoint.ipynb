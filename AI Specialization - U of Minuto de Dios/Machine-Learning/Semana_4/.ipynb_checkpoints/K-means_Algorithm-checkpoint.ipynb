{
 "cells": [
  {
   "cell_type": "markdown",
   "id": "bba0497c",
   "metadata": {},
   "source": [
    "# Trabajo Semana 4 - K-means Algorithm\n",
    "### Asignatura: Machine Learning\n",
    "#### Especialización en Inteligencia Artificial\n",
    "##### Realizado por: Michael Andrés Mora Poveda"
   ]
  },
  {
   "cell_type": "markdown",
   "id": "1c2336c3",
   "metadata": {},
   "source": [
    "<font size='3'>\n",
    "Hola a todos, el objectivo de este trabajo es aplicar algoritmos <b>no supervisados</b> a los datasets trabajados en la semana dos: <b>Congressional Voting Records Data Set</b> y <b>adults</b>\n",
    "    \n",
    "    \n",
    "\n",
    "Los siguientes links serán útiles para conocer la estructura de los datasets:\n",
    "\n",
    "* https://archive.ics.uci.edu/ml/datasets/adult    \n",
    "* https://www.kaggle.com/datasets/devvret/congressional-voting-records\n",
    "* https://github.com/micmorap/Machine_Learning_Portfolio/blob/main/AI%20Specialization%20-%20U%20of%20Minuto%20de%20Dios/Machine_Learning/Semana_2/Análisis%20exploratorio%20de%20datos%20-%20ML.ipynb\n",
    "    \n",
    "\n",
    "\n",
    "</font>"
   ]
  },
  {
   "cell_type": "markdown",
   "id": "816cba36",
   "metadata": {},
   "source": [
    "## 1. K-Modes para Congressional Voting Records dataset\n",
    "<font size='3'>\n",
    "<br>\n",
    "Para empezar, vamos a importar las librerías clásicas y el dataset correspondiente:\n",
    "</br>\n",
    "</font>"
   ]
  },
  {
   "cell_type": "code",
   "execution_count": 1,
   "id": "aed13670",
   "metadata": {
    "scrolled": true
   },
   "outputs": [],
   "source": [
    "#Se importan las librerías clásicas:\n",
    "import seaborn as sns\n",
    "import pandas as pd\n",
    "import matplotlib.pyplot as plt\n",
    "import numpy as np\n",
    "import seaborn as sns\n",
    "from sklearn.cluster import KMeans\n",
    "import plotly as pty\n",
    "import plotly.graph_objs as go\n",
    "from sklearn.preprocessing import StandardScaler\n",
    "from kmodes.kmodes import KModes\n"
   ]
  },
  {
   "cell_type": "code",
   "execution_count": 2,
   "id": "1837bea4",
   "metadata": {
    "scrolled": false
   },
   "outputs": [
    {
     "data": {
      "text/html": [
       "<div>\n",
       "<style scoped>\n",
       "    .dataframe tbody tr th:only-of-type {\n",
       "        vertical-align: middle;\n",
       "    }\n",
       "\n",
       "    .dataframe tbody tr th {\n",
       "        vertical-align: top;\n",
       "    }\n",
       "\n",
       "    .dataframe thead th {\n",
       "        text-align: right;\n",
       "    }\n",
       "</style>\n",
       "<table border=\"1\" class=\"dataframe\">\n",
       "  <thead>\n",
       "    <tr style=\"text-align: right;\">\n",
       "      <th></th>\n",
       "      <th>republican</th>\n",
       "      <th>n</th>\n",
       "      <th>y</th>\n",
       "      <th>n.1</th>\n",
       "      <th>y.1</th>\n",
       "      <th>y.2</th>\n",
       "      <th>y.3</th>\n",
       "      <th>n.2</th>\n",
       "      <th>n.3</th>\n",
       "      <th>n.4</th>\n",
       "      <th>y.4</th>\n",
       "      <th>?</th>\n",
       "      <th>y.5</th>\n",
       "      <th>y.6</th>\n",
       "      <th>y.7</th>\n",
       "      <th>n.5</th>\n",
       "      <th>y.8</th>\n",
       "    </tr>\n",
       "  </thead>\n",
       "  <tbody>\n",
       "    <tr>\n",
       "      <th>0</th>\n",
       "      <td>republican</td>\n",
       "      <td>n</td>\n",
       "      <td>y</td>\n",
       "      <td>n</td>\n",
       "      <td>y</td>\n",
       "      <td>y</td>\n",
       "      <td>y</td>\n",
       "      <td>n</td>\n",
       "      <td>n</td>\n",
       "      <td>n</td>\n",
       "      <td>n</td>\n",
       "      <td>n</td>\n",
       "      <td>y</td>\n",
       "      <td>y</td>\n",
       "      <td>y</td>\n",
       "      <td>n</td>\n",
       "      <td>?</td>\n",
       "    </tr>\n",
       "    <tr>\n",
       "      <th>1</th>\n",
       "      <td>democrat</td>\n",
       "      <td>?</td>\n",
       "      <td>y</td>\n",
       "      <td>y</td>\n",
       "      <td>?</td>\n",
       "      <td>y</td>\n",
       "      <td>y</td>\n",
       "      <td>n</td>\n",
       "      <td>n</td>\n",
       "      <td>n</td>\n",
       "      <td>n</td>\n",
       "      <td>y</td>\n",
       "      <td>n</td>\n",
       "      <td>y</td>\n",
       "      <td>y</td>\n",
       "      <td>n</td>\n",
       "      <td>n</td>\n",
       "    </tr>\n",
       "  </tbody>\n",
       "</table>\n",
       "</div>"
      ],
      "text/plain": [
       "   republican  n  y n.1 y.1 y.2 y.3 n.2 n.3 n.4 y.4  ? y.5 y.6 y.7 n.5 y.8\n",
       "0  republican  n  y   n   y   y   y   n   n   n   n  n   y   y   y   n   ?\n",
       "1    democrat  ?  y   y   ?   y   y   n   n   n   n  y   n   y   y   n   n"
      ]
     },
     "execution_count": 2,
     "metadata": {},
     "output_type": "execute_result"
    }
   ],
   "source": [
    "#Importamos los archivos contenidos en el folder y chequeamos los datasets:\n",
    "dfHouseVotes = pd.read_csv('house-votes-84.data', sep=',')\n",
    "dfHouseVotes.head(2)"
   ]
  },
  {
   "cell_type": "code",
   "execution_count": 3,
   "id": "bfc92fad",
   "metadata": {
    "scrolled": false
   },
   "outputs": [],
   "source": [
    "# Leer la metadata asociada al dataset\n",
    "with open(\"house-votes-84.names\") as f:\n",
    "    #print(f.read())\n",
    "    (f.read())"
   ]
  },
  {
   "cell_type": "markdown",
   "id": "82c7d5e9",
   "metadata": {},
   "source": [
    "<font size='3'>\n",
    "<br>\n",
    "De acuerdo a la metadata tomada del repositorio, vamos a proceder con renombrar los headers del dataset:\n",
    "</br>\n",
    "</font>"
   ]
  },
  {
   "cell_type": "code",
   "execution_count": 4,
   "id": "629c1fe7",
   "metadata": {
    "scrolled": true
   },
   "outputs": [],
   "source": [
    "# Definimos el listado de columnas y renombramos los headers del dataset\n",
    "dfHouseVotes.columns = ['Class Name','handicapped-infants','water-project-cost-sharing',\n",
    "                        'adoption-of-the-budget-resolution','physician-fee-freeze','el-salvador-aid',\n",
    "                        'religious-groups-in-schools','anti-satellite-test-ban','aid-to-nicaraguan-contras',\n",
    "                        'mx-missile','immigration','synfuels-corporation-cutback','education-spending',\n",
    "                        'superfund-right-to-sue','crime','duty-free-exports',\n",
    "                        'export-administration-act-south-africa']"
   ]
  },
  {
   "cell_type": "code",
   "execution_count": 5,
   "id": "9855a90a",
   "metadata": {
    "scrolled": true
   },
   "outputs": [
    {
     "data": {
      "text/html": [
       "<div>\n",
       "<style scoped>\n",
       "    .dataframe tbody tr th:only-of-type {\n",
       "        vertical-align: middle;\n",
       "    }\n",
       "\n",
       "    .dataframe tbody tr th {\n",
       "        vertical-align: top;\n",
       "    }\n",
       "\n",
       "    .dataframe thead th {\n",
       "        text-align: right;\n",
       "    }\n",
       "</style>\n",
       "<table border=\"1\" class=\"dataframe\">\n",
       "  <thead>\n",
       "    <tr style=\"text-align: right;\">\n",
       "      <th></th>\n",
       "      <th>Class Name</th>\n",
       "      <th>handicapped-infants</th>\n",
       "      <th>water-project-cost-sharing</th>\n",
       "      <th>adoption-of-the-budget-resolution</th>\n",
       "      <th>physician-fee-freeze</th>\n",
       "      <th>el-salvador-aid</th>\n",
       "      <th>religious-groups-in-schools</th>\n",
       "      <th>anti-satellite-test-ban</th>\n",
       "      <th>aid-to-nicaraguan-contras</th>\n",
       "      <th>mx-missile</th>\n",
       "      <th>immigration</th>\n",
       "      <th>synfuels-corporation-cutback</th>\n",
       "      <th>education-spending</th>\n",
       "      <th>superfund-right-to-sue</th>\n",
       "      <th>crime</th>\n",
       "      <th>duty-free-exports</th>\n",
       "      <th>export-administration-act-south-africa</th>\n",
       "    </tr>\n",
       "  </thead>\n",
       "  <tbody>\n",
       "    <tr>\n",
       "      <th>433</th>\n",
       "      <td>republican</td>\n",
       "      <td>n</td>\n",
       "      <td>y</td>\n",
       "      <td>n</td>\n",
       "      <td>y</td>\n",
       "      <td>y</td>\n",
       "      <td>y</td>\n",
       "      <td>n</td>\n",
       "      <td>n</td>\n",
       "      <td>n</td>\n",
       "      <td>y</td>\n",
       "      <td>n</td>\n",
       "      <td>y</td>\n",
       "      <td>y</td>\n",
       "      <td>y</td>\n",
       "      <td>?</td>\n",
       "      <td>n</td>\n",
       "    </tr>\n",
       "  </tbody>\n",
       "</table>\n",
       "</div>"
      ],
      "text/plain": [
       "     Class Name handicapped-infants water-project-cost-sharing  \\\n",
       "433  republican                   n                          y   \n",
       "\n",
       "    adoption-of-the-budget-resolution physician-fee-freeze el-salvador-aid  \\\n",
       "433                                 n                    y               y   \n",
       "\n",
       "    religious-groups-in-schools anti-satellite-test-ban  \\\n",
       "433                           y                       n   \n",
       "\n",
       "    aid-to-nicaraguan-contras mx-missile immigration  \\\n",
       "433                         n          n           y   \n",
       "\n",
       "    synfuels-corporation-cutback education-spending superfund-right-to-sue  \\\n",
       "433                            n                  y                      y   \n",
       "\n",
       "    crime duty-free-exports export-administration-act-south-africa  \n",
       "433     y                 ?                                      n  "
      ]
     },
     "execution_count": 5,
     "metadata": {},
     "output_type": "execute_result"
    }
   ],
   "source": [
    "# chequeamos de nuevo\n",
    "dfHouseVotes.tail(1)"
   ]
  },
  {
   "cell_type": "code",
   "execution_count": 38,
   "id": "3018df56",
   "metadata": {},
   "outputs": [
    {
     "data": {
      "text/plain": [
       "pandas.core.frame.DataFrame"
      ]
     },
     "execution_count": 38,
     "metadata": {},
     "output_type": "execute_result"
    }
   ],
   "source": [
    "vote_categorical_data = dfHouseVotes.set_index(\"Class Name\")\n",
    "#type(vote_categorical_data)"
   ]
  },
  {
   "cell_type": "markdown",
   "id": "333abf9d",
   "metadata": {},
   "source": [
    "<font size='3'>\n",
    "<br>\n",
    "Con el dataset ya revisado y depurado, vamos a realizar la iteración para encontrar el número óptimo de clústers:\n",
    "</br>\n",
    "</font>"
   ]
  },
  {
   "cell_type": "code",
   "execution_count": 69,
   "id": "7181e175",
   "metadata": {
    "scrolled": true
   },
   "outputs": [
    {
     "name": "stdout",
     "output_type": "stream",
     "text": [
      "Init: initializing centroids\n",
      "Init: initializing clusters\n",
      "Starting iterations...\n",
      "Run 1, iteration: 1/100, moves: 0, cost: 3390.0\n",
      "Init: initializing centroids\n",
      "Init: initializing clusters\n",
      "Starting iterations...\n",
      "Run 2, iteration: 1/100, moves: 0, cost: 3390.0\n",
      "Init: initializing centroids\n",
      "Init: initializing clusters\n",
      "Starting iterations...\n",
      "Run 3, iteration: 1/100, moves: 0, cost: 3390.0\n",
      "Init: initializing centroids\n",
      "Init: initializing clusters\n",
      "Starting iterations...\n",
      "Run 4, iteration: 1/100, moves: 0, cost: 3390.0\n",
      "Init: initializing centroids\n",
      "Init: initializing clusters\n",
      "Starting iterations...\n",
      "Run 5, iteration: 1/100, moves: 0, cost: 3390.0\n",
      "Best run was number 1\n",
      "Init: initializing centroids\n",
      "Init: initializing clusters\n",
      "Starting iterations...\n",
      "Run 1, iteration: 1/100, moves: 7, cost: 1699.0\n",
      "Init: initializing centroids\n",
      "Init: initializing clusters\n",
      "Starting iterations...\n",
      "Run 2, iteration: 1/100, moves: 42, cost: 1699.0\n",
      "Run 2, iteration: 2/100, moves: 2, cost: 1699.0\n",
      "Init: initializing centroids\n",
      "Init: initializing clusters\n",
      "Starting iterations...\n",
      "Run 3, iteration: 1/100, moves: 134, cost: 1699.0\n",
      "Run 3, iteration: 2/100, moves: 9, cost: 1699.0\n",
      "Init: initializing centroids\n",
      "Init: initializing clusters\n",
      "Starting iterations...\n",
      "Run 4, iteration: 1/100, moves: 10, cost: 1699.0\n",
      "Init: initializing centroids\n",
      "Init: initializing clusters\n",
      "Starting iterations...\n",
      "Run 5, iteration: 1/100, moves: 56, cost: 1699.0\n",
      "Best run was number 1\n",
      "Init: initializing centroids\n",
      "Init: initializing clusters\n",
      "Starting iterations...\n",
      "Run 1, iteration: 1/100, moves: 53, cost: 1586.0\n",
      "Run 1, iteration: 2/100, moves: 11, cost: 1586.0\n",
      "Init: initializing centroids\n",
      "Init: initializing clusters\n",
      "Starting iterations...\n",
      "Run 2, iteration: 1/100, moves: 50, cost: 1539.0\n",
      "Run 2, iteration: 2/100, moves: 12, cost: 1539.0\n",
      "Init: initializing centroids\n",
      "Init: initializing clusters\n",
      "Starting iterations...\n",
      "Run 3, iteration: 1/100, moves: 224, cost: 1632.0\n",
      "Run 3, iteration: 2/100, moves: 27, cost: 1596.0\n",
      "Run 3, iteration: 3/100, moves: 13, cost: 1596.0\n",
      "Init: initializing centroids\n",
      "Init: initializing clusters\n",
      "Starting iterations...\n",
      "Run 4, iteration: 1/100, moves: 311, cost: 1619.0\n",
      "Run 4, iteration: 2/100, moves: 23, cost: 1619.0\n",
      "Init: initializing centroids\n",
      "Init: initializing clusters\n",
      "Starting iterations...\n",
      "Run 5, iteration: 1/100, moves: 33, cost: 1579.0\n",
      "Best run was number 2\n",
      "Init: initializing centroids\n",
      "Init: initializing clusters\n",
      "Starting iterations...\n",
      "Run 1, iteration: 1/100, moves: 102, cost: 1446.0\n",
      "Run 1, iteration: 2/100, moves: 11, cost: 1446.0\n",
      "Init: initializing centroids\n",
      "Init: initializing clusters\n",
      "Starting iterations...\n",
      "Run 2, iteration: 1/100, moves: 57, cost: 1544.0\n",
      "Run 2, iteration: 2/100, moves: 6, cost: 1544.0\n",
      "Init: initializing centroids\n",
      "Init: initializing clusters\n",
      "Starting iterations...\n",
      "Run 3, iteration: 1/100, moves: 82, cost: 1489.0\n",
      "Init: initializing centroids\n",
      "Init: initializing clusters\n",
      "Starting iterations...\n",
      "Run 4, iteration: 1/100, moves: 129, cost: 1530.0\n",
      "Run 4, iteration: 2/100, moves: 42, cost: 1459.0\n",
      "Run 4, iteration: 3/100, moves: 23, cost: 1459.0\n",
      "Init: initializing centroids\n",
      "Init: initializing clusters\n",
      "Starting iterations...\n",
      "Run 5, iteration: 1/100, moves: 45, cost: 1535.0\n",
      "Run 5, iteration: 2/100, moves: 8, cost: 1535.0\n",
      "Best run was number 1\n"
     ]
    },
    {
     "name": "stderr",
     "output_type": "stream",
     "text": [
      "/var/folders/xh/l9ggclrd1fx2brvxlnc_9hv40000gn/T/ipykernel_3049/3864616271.py:11: UserWarning: color is redundantly defined by the 'color' keyword argument and the fmt string \"bo-\" (-> color='b'). The keyword argument will take precedence.\n",
      "  plt.plot(K, cost, 'bo-', c= 'steelblue')\n"
     ]
    },
    {
     "data": {
      "image/png": "[encoded data removed]",
      "text/plain": [
       "<Figure size 700x300 with 1 Axes>"
      ]
     },
     "metadata": {},
     "output_type": "display_data"
    }
   ],
   "source": [
    "# Elbow curve to find optimal K\n",
    "cost = []\n",
    "K = range(1,5)\n",
    "for num_clusters in list(K):\n",
    "    kmode = KModes(n_clusters=num_clusters, init = \"random\", n_init = 5, verbose=1)\n",
    "    kmode.fit_predict(vote_categorical_data)\n",
    "    cost.append(kmode.cost_)\n",
    "\n",
    "plt.figure(1, figsize = (7,3))    \n",
    "\n",
    "plt.plot(K, cost, 'bo-', c= 'steelblue')\n",
    "plt.xlabel('No. of clusters')\n",
    "plt.ylabel('Cost')\n",
    "plt.title('Elbow Method For Optimal k', fontsize = 15, weight='bold', color= 'midnightblue')\n",
    "plt.show()"
   ]
  },
  {
   "cell_type": "markdown",
   "id": "f5a7c5e3",
   "metadata": {},
   "source": [
    "<font size='3'>\n",
    "<br>\n",
    "Dada la gráfica anterior, el número óptimo de clústers es 2. Por lo tanto, vamos a aplicar el algoritmo con base a esta información.\n",
    "</br>\n",
    "</font>"
   ]
  },
  {
   "cell_type": "code",
   "execution_count": 39,
   "id": "e723924a",
   "metadata": {
    "scrolled": true
   },
   "outputs": [
    {
     "name": "stdout",
     "output_type": "stream",
     "text": [
      "Init: initializing centroids\n",
      "Init: initializing clusters\n",
      "Starting iterations...\n",
      "Run 1, iteration: 1/100, moves: 44, cost: 1705.0\n",
      "Init: initializing centroids\n",
      "Init: initializing clusters\n",
      "Starting iterations...\n",
      "Run 2, iteration: 1/100, moves: 56, cost: 1699.0\n",
      "Init: initializing centroids\n",
      "Init: initializing clusters\n",
      "Starting iterations...\n",
      "Run 3, iteration: 1/100, moves: 73, cost: 1705.0\n",
      "Run 3, iteration: 2/100, moves: 7, cost: 1705.0\n",
      "Init: initializing centroids\n",
      "Init: initializing clusters\n",
      "Starting iterations...\n",
      "Run 4, iteration: 1/100, moves: 29, cost: 1699.0\n",
      "Init: initializing centroids\n",
      "Init: initializing clusters\n",
      "Starting iterations...\n",
      "Run 5, iteration: 1/100, moves: 20, cost: 1699.0\n",
      "Best run was number 2\n"
     ]
    },
    {
     "data": {
      "text/plain": [
       "array([0, 0, 0, 0, 0, 0, 0, 0, 1, 0, 0, 1, 1, 0, 0, 1, 1, 0, 1, 1, 1, 1,\n",
       "       1, 1, 1, 1, 1, 0, 1, 0, 1, 1, 0, 1, 0, 0, 0, 0, 1, 1, 1, 1, 1, 1,\n",
       "       1, 1, 1, 1, 0, 1, 0, 1, 0, 0, 0, 0, 0, 0, 0, 1, 0, 1, 1, 1, 0, 0,\n",
       "       0, 1, 1, 1, 1, 1, 1, 1, 0, 0, 0, 0, 0, 1, 1, 0, 0, 0, 0, 0, 0, 0,\n",
       "       0, 1, 1, 1, 1, 0, 1, 0, 0, 1, 0, 0, 0, 1, 0, 1, 1, 0, 0, 1, 1, 1,\n",
       "       0, 1, 0, 1, 1, 1, 0, 1, 0, 0, 0, 0, 0, 1, 0, 0, 1, 1, 1, 1, 1, 0,\n",
       "       0, 0, 0, 0, 1, 1, 1, 1, 0, 0, 1, 1, 1, 0, 1, 0, 1, 0, 0, 1, 1, 0,\n",
       "       0, 0, 1, 0, 1, 0, 0, 0, 0, 0, 1, 1, 1, 0, 1, 1, 0, 1, 0, 1, 1, 1,\n",
       "       1, 1, 1, 1, 1, 1, 1, 1, 1, 1, 1, 0, 1, 0, 0, 1, 1, 1, 0, 1, 0, 1,\n",
       "       1, 1, 1, 1, 1, 0, 1, 0, 0, 1, 1, 1, 0, 1, 1, 0, 0, 1, 0, 1, 1, 1,\n",
       "       0, 1, 0, 0, 0, 1, 1, 0, 0, 0, 0, 1, 0, 1, 0, 1, 1, 1, 0, 0, 1, 0,\n",
       "       1, 1, 1, 1, 0, 0, 1, 0, 0, 1, 0, 1, 1, 0, 0, 1, 1, 1, 1, 1, 1, 1,\n",
       "       1, 0, 1, 1, 1, 1, 1, 1, 0, 1, 0, 0, 0, 0, 0, 1, 0, 0, 0, 1, 1, 1,\n",
       "       1, 0, 0, 1, 1, 1, 1, 0, 0, 0, 1, 1, 1, 0, 1, 0, 0, 0, 0, 0, 1, 0,\n",
       "       1, 0, 1, 1, 0, 0, 0, 0, 1, 1, 1, 0, 1, 0, 0, 0, 0, 1, 0, 1, 1, 0,\n",
       "       1, 1, 1, 1, 0, 1, 1, 1, 0, 0, 1, 1, 0, 1, 0, 0, 0, 1, 0, 1, 0, 0,\n",
       "       0, 1, 1, 0, 0, 1, 0, 1, 1, 1, 0, 0, 0, 1, 1, 1, 0, 1, 1, 0, 0, 0,\n",
       "       0, 1, 0, 0, 0, 1, 1, 0, 1, 0, 0, 0, 0, 0, 1, 0, 1, 0, 0, 0, 1, 0,\n",
       "       0, 0, 0, 0, 0, 1, 0, 0, 0, 0, 0, 1, 0, 0, 1, 0, 0, 1, 1, 0, 1, 1,\n",
       "       1, 0, 0, 1, 1, 1, 1, 1, 0, 1, 1, 0, 1, 0, 0, 0], dtype=uint16)"
      ]
     },
     "execution_count": 39,
     "metadata": {},
     "output_type": "execute_result"
    }
   ],
   "source": [
    "# Building the model with 2 clusters\n",
    "kmode = KModes(n_clusters=2, init = \"random\", n_init = 5, verbose=1)\n",
    "clusters = kmode.fit_predict(vote_categorical_data)\n",
    "clusters"
   ]
  },
  {
   "cell_type": "code",
   "execution_count": 50,
   "id": "285c6a7d",
   "metadata": {
    "scrolled": true
   },
   "outputs": [
    {
     "data": {
      "text/html": [
       "<div>\n",
       "<style scoped>\n",
       "    .dataframe tbody tr th:only-of-type {\n",
       "        vertical-align: middle;\n",
       "    }\n",
       "\n",
       "    .dataframe tbody tr th {\n",
       "        vertical-align: top;\n",
       "    }\n",
       "\n",
       "    .dataframe thead th {\n",
       "        text-align: right;\n",
       "    }\n",
       "</style>\n",
       "<table border=\"1\" class=\"dataframe\">\n",
       "  <thead>\n",
       "    <tr style=\"text-align: right;\">\n",
       "      <th></th>\n",
       "      <th>Cluster</th>\n",
       "      <th>handicapped-infants</th>\n",
       "      <th>water-project-cost-sharing</th>\n",
       "      <th>adoption-of-the-budget-resolution</th>\n",
       "      <th>physician-fee-freeze</th>\n",
       "      <th>el-salvador-aid</th>\n",
       "      <th>religious-groups-in-schools</th>\n",
       "      <th>anti-satellite-test-ban</th>\n",
       "      <th>aid-to-nicaraguan-contras</th>\n",
       "      <th>mx-missile</th>\n",
       "      <th>immigration</th>\n",
       "      <th>synfuels-corporation-cutback</th>\n",
       "      <th>education-spending</th>\n",
       "      <th>superfund-right-to-sue</th>\n",
       "      <th>crime</th>\n",
       "      <th>duty-free-exports</th>\n",
       "      <th>export-administration-act-south-africa</th>\n",
       "    </tr>\n",
       "    <tr>\n",
       "      <th>Class Name</th>\n",
       "      <th></th>\n",
       "      <th></th>\n",
       "      <th></th>\n",
       "      <th></th>\n",
       "      <th></th>\n",
       "      <th></th>\n",
       "      <th></th>\n",
       "      <th></th>\n",
       "      <th></th>\n",
       "      <th></th>\n",
       "      <th></th>\n",
       "      <th></th>\n",
       "      <th></th>\n",
       "      <th></th>\n",
       "      <th></th>\n",
       "      <th></th>\n",
       "      <th></th>\n",
       "    </tr>\n",
       "  </thead>\n",
       "  <tbody>\n",
       "    <tr>\n",
       "      <th>republican</th>\n",
       "      <td>0</td>\n",
       "      <td>n</td>\n",
       "      <td>y</td>\n",
       "      <td>n</td>\n",
       "      <td>y</td>\n",
       "      <td>y</td>\n",
       "      <td>y</td>\n",
       "      <td>n</td>\n",
       "      <td>n</td>\n",
       "      <td>n</td>\n",
       "      <td>n</td>\n",
       "      <td>n</td>\n",
       "      <td>y</td>\n",
       "      <td>y</td>\n",
       "      <td>y</td>\n",
       "      <td>n</td>\n",
       "      <td>?</td>\n",
       "    </tr>\n",
       "    <tr>\n",
       "      <th>democrat</th>\n",
       "      <td>0</td>\n",
       "      <td>?</td>\n",
       "      <td>y</td>\n",
       "      <td>y</td>\n",
       "      <td>?</td>\n",
       "      <td>y</td>\n",
       "      <td>y</td>\n",
       "      <td>n</td>\n",
       "      <td>n</td>\n",
       "      <td>n</td>\n",
       "      <td>n</td>\n",
       "      <td>y</td>\n",
       "      <td>n</td>\n",
       "      <td>y</td>\n",
       "      <td>y</td>\n",
       "      <td>n</td>\n",
       "      <td>n</td>\n",
       "    </tr>\n",
       "    <tr>\n",
       "      <th>democrat</th>\n",
       "      <td>0</td>\n",
       "      <td>n</td>\n",
       "      <td>y</td>\n",
       "      <td>y</td>\n",
       "      <td>n</td>\n",
       "      <td>?</td>\n",
       "      <td>y</td>\n",
       "      <td>n</td>\n",
       "      <td>n</td>\n",
       "      <td>n</td>\n",
       "      <td>n</td>\n",
       "      <td>y</td>\n",
       "      <td>n</td>\n",
       "      <td>y</td>\n",
       "      <td>n</td>\n",
       "      <td>n</td>\n",
       "      <td>y</td>\n",
       "    </tr>\n",
       "    <tr>\n",
       "      <th>democrat</th>\n",
       "      <td>0</td>\n",
       "      <td>y</td>\n",
       "      <td>y</td>\n",
       "      <td>y</td>\n",
       "      <td>n</td>\n",
       "      <td>y</td>\n",
       "      <td>y</td>\n",
       "      <td>n</td>\n",
       "      <td>n</td>\n",
       "      <td>n</td>\n",
       "      <td>n</td>\n",
       "      <td>y</td>\n",
       "      <td>?</td>\n",
       "      <td>y</td>\n",
       "      <td>y</td>\n",
       "      <td>y</td>\n",
       "      <td>y</td>\n",
       "    </tr>\n",
       "    <tr>\n",
       "      <th>democrat</th>\n",
       "      <td>0</td>\n",
       "      <td>n</td>\n",
       "      <td>y</td>\n",
       "      <td>y</td>\n",
       "      <td>n</td>\n",
       "      <td>y</td>\n",
       "      <td>y</td>\n",
       "      <td>n</td>\n",
       "      <td>n</td>\n",
       "      <td>n</td>\n",
       "      <td>n</td>\n",
       "      <td>n</td>\n",
       "      <td>n</td>\n",
       "      <td>y</td>\n",
       "      <td>y</td>\n",
       "      <td>y</td>\n",
       "      <td>y</td>\n",
       "    </tr>\n",
       "    <tr>\n",
       "      <th>...</th>\n",
       "      <td>...</td>\n",
       "      <td>...</td>\n",
       "      <td>...</td>\n",
       "      <td>...</td>\n",
       "      <td>...</td>\n",
       "      <td>...</td>\n",
       "      <td>...</td>\n",
       "      <td>...</td>\n",
       "      <td>...</td>\n",
       "      <td>...</td>\n",
       "      <td>...</td>\n",
       "      <td>...</td>\n",
       "      <td>...</td>\n",
       "      <td>...</td>\n",
       "      <td>...</td>\n",
       "      <td>...</td>\n",
       "      <td>...</td>\n",
       "    </tr>\n",
       "    <tr>\n",
       "      <th>republican</th>\n",
       "      <td>0</td>\n",
       "      <td>n</td>\n",
       "      <td>n</td>\n",
       "      <td>y</td>\n",
       "      <td>y</td>\n",
       "      <td>y</td>\n",
       "      <td>y</td>\n",
       "      <td>n</td>\n",
       "      <td>n</td>\n",
       "      <td>y</td>\n",
       "      <td>y</td>\n",
       "      <td>n</td>\n",
       "      <td>y</td>\n",
       "      <td>y</td>\n",
       "      <td>y</td>\n",
       "      <td>n</td>\n",
       "      <td>y</td>\n",
       "    </tr>\n",
       "    <tr>\n",
       "      <th>democrat</th>\n",
       "      <td>1</td>\n",
       "      <td>n</td>\n",
       "      <td>n</td>\n",
       "      <td>y</td>\n",
       "      <td>n</td>\n",
       "      <td>n</td>\n",
       "      <td>n</td>\n",
       "      <td>y</td>\n",
       "      <td>y</td>\n",
       "      <td>y</td>\n",
       "      <td>y</td>\n",
       "      <td>n</td>\n",
       "      <td>n</td>\n",
       "      <td>n</td>\n",
       "      <td>n</td>\n",
       "      <td>n</td>\n",
       "      <td>y</td>\n",
       "    </tr>\n",
       "    <tr>\n",
       "      <th>republican</th>\n",
       "      <td>0</td>\n",
       "      <td>n</td>\n",
       "      <td>?</td>\n",
       "      <td>n</td>\n",
       "      <td>y</td>\n",
       "      <td>y</td>\n",
       "      <td>y</td>\n",
       "      <td>n</td>\n",
       "      <td>n</td>\n",
       "      <td>n</td>\n",
       "      <td>n</td>\n",
       "      <td>y</td>\n",
       "      <td>y</td>\n",
       "      <td>y</td>\n",
       "      <td>y</td>\n",
       "      <td>n</td>\n",
       "      <td>y</td>\n",
       "    </tr>\n",
       "    <tr>\n",
       "      <th>republican</th>\n",
       "      <td>0</td>\n",
       "      <td>n</td>\n",
       "      <td>n</td>\n",
       "      <td>n</td>\n",
       "      <td>y</td>\n",
       "      <td>y</td>\n",
       "      <td>y</td>\n",
       "      <td>?</td>\n",
       "      <td>?</td>\n",
       "      <td>?</td>\n",
       "      <td>?</td>\n",
       "      <td>n</td>\n",
       "      <td>y</td>\n",
       "      <td>y</td>\n",
       "      <td>y</td>\n",
       "      <td>n</td>\n",
       "      <td>y</td>\n",
       "    </tr>\n",
       "    <tr>\n",
       "      <th>republican</th>\n",
       "      <td>0</td>\n",
       "      <td>n</td>\n",
       "      <td>y</td>\n",
       "      <td>n</td>\n",
       "      <td>y</td>\n",
       "      <td>y</td>\n",
       "      <td>y</td>\n",
       "      <td>n</td>\n",
       "      <td>n</td>\n",
       "      <td>n</td>\n",
       "      <td>y</td>\n",
       "      <td>n</td>\n",
       "      <td>y</td>\n",
       "      <td>y</td>\n",
       "      <td>y</td>\n",
       "      <td>?</td>\n",
       "      <td>n</td>\n",
       "    </tr>\n",
       "  </tbody>\n",
       "</table>\n",
       "<p>434 rows × 17 columns</p>\n",
       "</div>"
      ],
      "text/plain": [
       "            Cluster handicapped-infants water-project-cost-sharing  \\\n",
       "Class Name                                                           \n",
       "republican        0                   n                          y   \n",
       "democrat          0                   ?                          y   \n",
       "democrat          0                   n                          y   \n",
       "democrat          0                   y                          y   \n",
       "democrat          0                   n                          y   \n",
       "...             ...                 ...                        ...   \n",
       "republican        0                   n                          n   \n",
       "democrat          1                   n                          n   \n",
       "republican        0                   n                          ?   \n",
       "republican        0                   n                          n   \n",
       "republican        0                   n                          y   \n",
       "\n",
       "           adoption-of-the-budget-resolution physician-fee-freeze  \\\n",
       "Class Name                                                          \n",
       "republican                                 n                    y   \n",
       "democrat                                   y                    ?   \n",
       "democrat                                   y                    n   \n",
       "democrat                                   y                    n   \n",
       "democrat                                   y                    n   \n",
       "...                                      ...                  ...   \n",
       "republican                                 y                    y   \n",
       "democrat                                   y                    n   \n",
       "republican                                 n                    y   \n",
       "republican                                 n                    y   \n",
       "republican                                 n                    y   \n",
       "\n",
       "           el-salvador-aid religious-groups-in-schools  \\\n",
       "Class Name                                               \n",
       "republican               y                           y   \n",
       "democrat                 y                           y   \n",
       "democrat                 ?                           y   \n",
       "democrat                 y                           y   \n",
       "democrat                 y                           y   \n",
       "...                    ...                         ...   \n",
       "republican               y                           y   \n",
       "democrat                 n                           n   \n",
       "republican               y                           y   \n",
       "republican               y                           y   \n",
       "republican               y                           y   \n",
       "\n",
       "           anti-satellite-test-ban aid-to-nicaraguan-contras mx-missile  \\\n",
       "Class Name                                                                \n",
       "republican                       n                         n          n   \n",
       "democrat                         n                         n          n   \n",
       "democrat                         n                         n          n   \n",
       "democrat                         n                         n          n   \n",
       "democrat                         n                         n          n   \n",
       "...                            ...                       ...        ...   \n",
       "republican                       n                         n          y   \n",
       "democrat                         y                         y          y   \n",
       "republican                       n                         n          n   \n",
       "republican                       ?                         ?          ?   \n",
       "republican                       n                         n          n   \n",
       "\n",
       "           immigration synfuels-corporation-cutback education-spending  \\\n",
       "Class Name                                                               \n",
       "republican           n                            n                  y   \n",
       "democrat             n                            y                  n   \n",
       "democrat             n                            y                  n   \n",
       "democrat             n                            y                  ?   \n",
       "democrat             n                            n                  n   \n",
       "...                ...                          ...                ...   \n",
       "republican           y                            n                  y   \n",
       "democrat             y                            n                  n   \n",
       "republican           n                            y                  y   \n",
       "republican           ?                            n                  y   \n",
       "republican           y                            n                  y   \n",
       "\n",
       "           superfund-right-to-sue crime duty-free-exports  \\\n",
       "Class Name                                                  \n",
       "republican                      y     y                 n   \n",
       "democrat                        y     y                 n   \n",
       "democrat                        y     n                 n   \n",
       "democrat                        y     y                 y   \n",
       "democrat                        y     y                 y   \n",
       "...                           ...   ...               ...   \n",
       "republican                      y     y                 n   \n",
       "democrat                        n     n                 n   \n",
       "republican                      y     y                 n   \n",
       "republican                      y     y                 n   \n",
       "republican                      y     y                 ?   \n",
       "\n",
       "           export-administration-act-south-africa  \n",
       "Class Name                                         \n",
       "republican                                      ?  \n",
       "democrat                                        n  \n",
       "democrat                                        y  \n",
       "democrat                                        y  \n",
       "democrat                                        y  \n",
       "...                                           ...  \n",
       "republican                                      y  \n",
       "democrat                                        y  \n",
       "republican                                      y  \n",
       "republican                                      y  \n",
       "republican                                      n  \n",
       "\n",
       "[434 rows x 17 columns]"
      ]
     },
     "execution_count": 50,
     "metadata": {},
     "output_type": "execute_result"
    }
   ],
   "source": [
    "# Asignamos el cluster correspondiente a cada uno de los registros del dataset:\n",
    "vote_categorical_data.insert(0, \"Cluster\", clusters)\n",
    "vote_categorical_data"
   ]
  },
  {
   "cell_type": "code",
   "execution_count": 47,
   "id": "0b735e9e",
   "metadata": {
    "scrolled": true
   },
   "outputs": [
    {
     "data": {
      "text/html": [
       "<div>\n",
       "<style scoped>\n",
       "    .dataframe tbody tr th:only-of-type {\n",
       "        vertical-align: middle;\n",
       "    }\n",
       "\n",
       "    .dataframe tbody tr th {\n",
       "        vertical-align: top;\n",
       "    }\n",
       "\n",
       "    .dataframe thead th {\n",
       "        text-align: right;\n",
       "    }\n",
       "</style>\n",
       "<table border=\"1\" class=\"dataframe\">\n",
       "  <thead>\n",
       "    <tr style=\"text-align: right;\">\n",
       "      <th></th>\n",
       "      <th>handicapped-infants</th>\n",
       "      <th>water-project-cost-sharing</th>\n",
       "      <th>adoption-of-the-budget-resolution</th>\n",
       "      <th>physician-fee-freeze</th>\n",
       "      <th>el-salvador-aid</th>\n",
       "      <th>religious-groups-in-schools</th>\n",
       "      <th>anti-satellite-test-ban</th>\n",
       "      <th>aid-to-nicaraguan-contras</th>\n",
       "      <th>mx-missile</th>\n",
       "      <th>immigration</th>\n",
       "      <th>synfuels-corporation-cutback</th>\n",
       "      <th>education-spending</th>\n",
       "      <th>superfund-right-to-sue</th>\n",
       "      <th>crime</th>\n",
       "      <th>duty-free-exports</th>\n",
       "      <th>export-administration-act-south-africa</th>\n",
       "    </tr>\n",
       "    <tr>\n",
       "      <th>Cluster</th>\n",
       "      <th></th>\n",
       "      <th></th>\n",
       "      <th></th>\n",
       "      <th></th>\n",
       "      <th></th>\n",
       "      <th></th>\n",
       "      <th></th>\n",
       "      <th></th>\n",
       "      <th></th>\n",
       "      <th></th>\n",
       "      <th></th>\n",
       "      <th></th>\n",
       "      <th></th>\n",
       "      <th></th>\n",
       "      <th></th>\n",
       "      <th></th>\n",
       "    </tr>\n",
       "  </thead>\n",
       "  <tbody>\n",
       "    <tr>\n",
       "      <th>0</th>\n",
       "      <td>212</td>\n",
       "      <td>212</td>\n",
       "      <td>212</td>\n",
       "      <td>212</td>\n",
       "      <td>212</td>\n",
       "      <td>212</td>\n",
       "      <td>212</td>\n",
       "      <td>212</td>\n",
       "      <td>212</td>\n",
       "      <td>212</td>\n",
       "      <td>212</td>\n",
       "      <td>212</td>\n",
       "      <td>212</td>\n",
       "      <td>212</td>\n",
       "      <td>212</td>\n",
       "      <td>212</td>\n",
       "    </tr>\n",
       "    <tr>\n",
       "      <th>1</th>\n",
       "      <td>222</td>\n",
       "      <td>222</td>\n",
       "      <td>222</td>\n",
       "      <td>222</td>\n",
       "      <td>222</td>\n",
       "      <td>222</td>\n",
       "      <td>222</td>\n",
       "      <td>222</td>\n",
       "      <td>222</td>\n",
       "      <td>222</td>\n",
       "      <td>222</td>\n",
       "      <td>222</td>\n",
       "      <td>222</td>\n",
       "      <td>222</td>\n",
       "      <td>222</td>\n",
       "      <td>222</td>\n",
       "    </tr>\n",
       "  </tbody>\n",
       "</table>\n",
       "</div>"
      ],
      "text/plain": [
       "         handicapped-infants  water-project-cost-sharing  \\\n",
       "Cluster                                                    \n",
       "0                        212                         212   \n",
       "1                        222                         222   \n",
       "\n",
       "         adoption-of-the-budget-resolution  physician-fee-freeze  \\\n",
       "Cluster                                                            \n",
       "0                                      212                   212   \n",
       "1                                      222                   222   \n",
       "\n",
       "         el-salvador-aid  religious-groups-in-schools  \\\n",
       "Cluster                                                 \n",
       "0                    212                          212   \n",
       "1                    222                          222   \n",
       "\n",
       "         anti-satellite-test-ban  aid-to-nicaraguan-contras  mx-missile  \\\n",
       "Cluster                                                                   \n",
       "0                            212                        212         212   \n",
       "1                            222                        222         222   \n",
       "\n",
       "         immigration  synfuels-corporation-cutback  education-spending  \\\n",
       "Cluster                                                                  \n",
       "0                212                           212                 212   \n",
       "1                222                           222                 222   \n",
       "\n",
       "         superfund-right-to-sue  crime  duty-free-exports  \\\n",
       "Cluster                                                     \n",
       "0                           212    212                212   \n",
       "1                           222    222                222   \n",
       "\n",
       "         export-administration-act-south-africa  \n",
       "Cluster                                          \n",
       "0                                           212  \n",
       "1                                           222  "
      ]
     },
     "execution_count": 47,
     "metadata": {},
     "output_type": "execute_result"
    }
   ],
   "source": [
    "# Distribución por conteo de cada uno de los clústers:\n",
    "vote_categorical_data.groupby('Cluster').count()"
   ]
  },
  {
   "cell_type": "markdown",
   "id": "93cec3c5",
   "metadata": {},
   "source": [
    "<font size='3'>\n",
    "<br>\n",
    "En términos porcentaules, el 48% pertenece al primer clúster y el 52% restante al segundo clúster.\n",
    "</br>\n",
    "Ahora, vamos a ver un ejemplo del test Chi cuadrado para ver la relación entre dos variables categóricas\n",
    "de nuestro dataset:\n",
    "</font>"
   ]
  },
  {
   "cell_type": "code",
   "execution_count": 61,
   "id": "672c10d0",
   "metadata": {},
   "outputs": [],
   "source": [
    "# importamos librería stats de SciPy y tomamos dos columnas aleatorias del dataset:\n",
    "from scipy.stats import chi2_contingency\n",
    "data_chi_test = pd.crosstab(index=vote_categorical_data['immigration'], columns=vote_categorical_data['handicapped-infants'])"
   ]
  },
  {
   "cell_type": "code",
   "execution_count": 62,
   "id": "acd809bc",
   "metadata": {},
   "outputs": [
    {
     "name": "stdout",
     "output_type": "stream",
     "text": [
      "Chi-squared test statistic: 45.766653948826736\n",
      "P-value: 2.754179185429524e-09\n",
      "Degrees of freedom: 4\n",
      "Expected values:\n",
      " [[  0.19354839   3.79032258   3.01612903]\n",
      " [  5.86175115 114.79262673  91.34562212]\n",
      " [  5.94470046 116.41705069  92.63824885]]\n"
     ]
    }
   ],
   "source": [
    "# ejecutamos la función chi2_contingency para calcular el Chi cuadrado,\n",
    "# P-value, grados de libertad y valores esperados:\n",
    "chi2, pval, dof, expected = chi2_contingency(data_chi_test)\n",
    "print('Chi-squared test statistic:', chi2)\n",
    "print('P-value:', pval)\n",
    "print('Degrees of freedom:', dof)\n",
    "print('Expected values:\\n', expected)"
   ]
  },
  {
   "cell_type": "code",
   "execution_count": 63,
   "id": "c690950f",
   "metadata": {},
   "outputs": [
    {
     "name": "stdout",
     "output_type": "stream",
     "text": [
      "There is a significant association between the two categorical variables.\n"
     ]
    }
   ],
   "source": [
    "#Condicional para saber si existe asociación significativa entre dichos features:\n",
    "if pval < 0.05:\n",
    "    print('There is a significant association between the two categorical variables.')\n",
    "else:\n",
    "    print('There is no significant association between the two categorical variables.')"
   ]
  },
  {
   "cell_type": "markdown",
   "id": "7f53e216",
   "metadata": {},
   "source": [
    "## 2. K-Means para Adults dataset\n",
    "<font size='3'>\n",
    "\n",
    "</font>"
   ]
  },
  {
   "cell_type": "markdown",
   "id": "01fb8a6f",
   "metadata": {},
   "source": [
    "<font size='3'>\n",
    "Para este segundo ejercicio, aplicaremos el algoritmo <b>K-means<b> (no supervisado) para <b>adults dataset</b>:\n",
    "<br>\n",
    "</font>"
   ]
  },
  {
   "cell_type": "code",
   "execution_count": 8,
   "id": "7e7bc3bc",
   "metadata": {
    "scrolled": true
   },
   "outputs": [],
   "source": [
    "# Leemos el dataset y reajustamos columnas:\n",
    "dfAdults = pd.read_csv('adult.data', sep=',')"
   ]
  },
  {
   "cell_type": "code",
   "execution_count": 9,
   "id": "3b3a4cf6",
   "metadata": {},
   "outputs": [],
   "source": [
    "# Metadata del dataset\n",
    "with open(\"adult.names\") as f:\n",
    "    (f.read())\n",
    "    #print(f.read()) "
   ]
  },
  {
   "cell_type": "markdown",
   "id": "47def0ff",
   "metadata": {},
   "source": [
    "<font size='3'>\n",
    "<br>\n",
    "De acuerdo a la metadata tomada del repositorio, vamos a proceder con renombrar los headers del dataset:\n",
    "</br>\n",
    "</font>"
   ]
  },
  {
   "cell_type": "code",
   "execution_count": 10,
   "id": "397808b1",
   "metadata": {
    "scrolled": true
   },
   "outputs": [],
   "source": [
    "# Renombramos las columnas:\n",
    "dfAdults.columns = ['age','workclass','fnlwgt', 'education','education-number','marital-status','occupation',\n",
    "'relationship','race','sex','capital-gain','capital-loss','hours-per-week','native-country','salary-condition']"
   ]
  },
  {
   "cell_type": "code",
   "execution_count": 11,
   "id": "79633979",
   "metadata": {
    "scrolled": true
   },
   "outputs": [],
   "source": [
    "# Chequeamos la estructura general ajustada del dataset y hacemos una copia de backup:\n",
    "dfAdults.tail(1)\n",
    "df_Adults_2 = dfAdults.copy()"
   ]
  },
  {
   "cell_type": "markdown",
   "id": "bd361a8d",
   "metadata": {},
   "source": [
    "<font size='3'>\n",
    "<br>\n",
    "Ahora, aplicaremos K-means en <b>2D</b> basados entre las variables capital-gain y hours-per-week:\n",
    "</br>\n",
    "</font>"
   ]
  },
  {
   "cell_type": "code",
   "execution_count": 12,
   "id": "1f112950",
   "metadata": {},
   "outputs": [
    {
     "data": {
      "image/png": "[encoded data removed]",
      "text/plain": [
       "<Figure size 700x300 with 1 Axes>"
      ]
     },
     "metadata": {},
     "output_type": "display_data"
    }
   ],
   "source": [
    "# Creamos un scatterplot en 2D entre capital ganado y horas trabajadas por semana:\n",
    "plt.figure(1, figsize = (7,3))\n",
    "plt.title(\"Scatter plot capital-gain vs.age\", fontsize = 18, weight='bold', color= 'midnightblue')\n",
    "plt.xlabel(\"Capital gain\", fontsize = 15)\n",
    "plt.ylabel(\"Age\", fontsize = 15)\n",
    "plt.scatter(x= \"capital-gain\", y=\"age\", data = dfAdults, s = 50, c='lightseagreen', alpha = 0.3)\n",
    "plt.show()"
   ]
  },
  {
   "cell_type": "markdown",
   "id": "209aea0a",
   "metadata": {},
   "source": [
    "<font size='3'>\n",
    "<br>\n",
    "Luego, vamos a enfocarnos en buscar el número correcto de clústers <b>k</b> para este ejercicio, teniendo en cuenta dos features: <b>capital gain</b> y <b>Age</b> \n",
    "</br>\n",
    "</font>"
   ]
  },
  {
   "cell_type": "code",
   "execution_count": 13,
   "id": "942655db",
   "metadata": {
    "scrolled": true
   },
   "outputs": [],
   "source": [
    "# Hacemos el scaling de las variables para evitar sesgos:\n",
    "# Seleccionamos las columnas e instanciamos un objeto StandardScaler:\n",
    "cols_to_scale = ['capital-gain', 'age']\n",
    "scaler = StandardScaler()"
   ]
  },
  {
   "cell_type": "code",
   "execution_count": 14,
   "id": "f0af69db",
   "metadata": {
    "scrolled": true
   },
   "outputs": [],
   "source": [
    "# Hacemos la estandarización con los métodos fit y transform:\n",
    "scaler.fit(dfAdults[cols_to_scale])\n",
    "dfAdults[cols_to_scale] = scaler.transform(dfAdults[cols_to_scale])"
   ]
  },
  {
   "cell_type": "code",
   "execution_count": 15,
   "id": "d0d35d99",
   "metadata": {},
   "outputs": [
    {
     "data": {
      "text/html": [
       "<div>\n",
       "<style scoped>\n",
       "    .dataframe tbody tr th:only-of-type {\n",
       "        vertical-align: middle;\n",
       "    }\n",
       "\n",
       "    .dataframe tbody tr th {\n",
       "        vertical-align: top;\n",
       "    }\n",
       "\n",
       "    .dataframe thead th {\n",
       "        text-align: right;\n",
       "    }\n",
       "</style>\n",
       "<table border=\"1\" class=\"dataframe\">\n",
       "  <thead>\n",
       "    <tr style=\"text-align: right;\">\n",
       "      <th></th>\n",
       "      <th>capital-gain</th>\n",
       "      <th>age</th>\n",
       "    </tr>\n",
       "  </thead>\n",
       "  <tbody>\n",
       "    <tr>\n",
       "      <th>0</th>\n",
       "      <td>-0.145914</td>\n",
       "      <td>0.837097</td>\n",
       "    </tr>\n",
       "    <tr>\n",
       "      <th>1</th>\n",
       "      <td>-0.145914</td>\n",
       "      <td>-0.042640</td>\n",
       "    </tr>\n",
       "    <tr>\n",
       "      <th>2</th>\n",
       "      <td>-0.145914</td>\n",
       "      <td>1.057031</td>\n",
       "    </tr>\n",
       "  </tbody>\n",
       "</table>\n",
       "</div>"
      ],
      "text/plain": [
       "   capital-gain       age\n",
       "0     -0.145914  0.837097\n",
       "1     -0.145914 -0.042640\n",
       "2     -0.145914  1.057031"
      ]
     },
     "execution_count": 15,
     "metadata": {},
     "output_type": "execute_result"
    }
   ],
   "source": [
    "# Chequeamos esta transformación:\n",
    "dfAdults[cols_to_scale].head(3)"
   ]
  },
  {
   "cell_type": "code",
   "execution_count": 16,
   "id": "c80e922b",
   "metadata": {},
   "outputs": [
    {
     "data": {
      "image/png": "[encoded data removed]",
      "text/plain": [
       "<Figure size 700x300 with 1 Axes>"
      ]
     },
     "metadata": {},
     "output_type": "display_data"
    }
   ],
   "source": [
    "# Creamos un scatterplot en 2D entre capital ganado y horas trabajadas por semana:\n",
    "plt.figure(1, figsize = (7,3))\n",
    "plt.title(\"Scatter plot capital-gain vs.age\", fontsize = 17, weight='bold', color= 'midnightblue')\n",
    "plt.xlabel(\"Capital gain\", fontsize = 15)\n",
    "plt.ylabel(\"Age\", fontsize = 15)\n",
    "plt.scatter(x= \"capital-gain\", y=\"age\", data = dfAdults, s = 50, c='lightcoral', alpha = 0.5)\n",
    "plt.show()"
   ]
  },
  {
   "cell_type": "code",
   "execution_count": 17,
   "id": "bc998a19",
   "metadata": {},
   "outputs": [
    {
     "data": {
      "text/plain": [
       "array([[-0.14591373,  0.83709708],\n",
       "       [-0.14591373, -0.04264043],\n",
       "       [-0.14591373,  1.05703146],\n",
       "       ...,\n",
       "       [-0.14591373,  1.42358875],\n",
       "       [-0.14591373, -1.21562378],\n",
       "       [ 1.88840054,  0.98372   ]])"
      ]
     },
     "execution_count": 17,
     "metadata": {},
     "output_type": "execute_result"
    }
   ],
   "source": [
    "X = dfAdults[cols_to_scale].values\n",
    "X"
   ]
  },
  {
   "cell_type": "code",
   "execution_count": 18,
   "id": "45337535",
   "metadata": {
    "scrolled": true
   },
   "outputs": [],
   "source": [
    "# Calculamos para el rango de entre 1 y 10 clústers el performance con la métrica de inercia.\n",
    "# Esta calcula distancia promedio al cuadrado entre cada punto y su centroide más cercano:\n",
    "inertia = []\n",
    "for k in range(1, 10):\n",
    "    iteration = KMeans(n_clusters = k ,init='k-means++', n_init = 10 ,max_iter=300, tol=0.0001,\n",
    "                       random_state= 111)\n",
    "    iteration.fit(X)\n",
    "    inertia.append(iteration.inertia_)"
   ]
  },
  {
   "cell_type": "code",
   "execution_count": 19,
   "id": "b0932bbf",
   "metadata": {
    "scrolled": true
   },
   "outputs": [
    {
     "data": {
      "image/png": "[encoded data removed]",
      "text/plain": [
       "<Figure size 800x300 with 1 Axes>"
      ]
     },
     "metadata": {},
     "output_type": "display_data"
    }
   ],
   "source": [
    "# Luego graficamos el scatterplot entre el número de clústers k y la métrica de inercia:\n",
    "plt.figure(1 , figsize = (8 ,3))\n",
    "plt.title(\"Elbow (Métrica de rendimiento Inercia vs k)\", fontsize = 16, weight='bold', color= 'midnightblue')\n",
    "plt.plot(np.arange(1 , 10) , inertia , 'o', color = \"firebrick\")\n",
    "plt.plot(np.arange(1 , 10) , inertia , '-' , alpha = 0.5, color = \"darkolivegreen\")\n",
    "plt.xlabel('Número de Clústers', fontsize = 15) , plt.ylabel('Inercia', fontsize = 15)\n",
    "plt.show()"
   ]
  },
  {
   "cell_type": "markdown",
   "id": "2d957ce7",
   "metadata": {},
   "source": [
    "<font size='3'>\n",
    "<br>\n",
    "De acuerdo al gráfico anterior y al \"elbow\" que nos indica el número óptimo de clústers para este dataset, vamos a crear la visualización de los centroides y sus correspondientes regiones. Además con los scatterplots para la data con o sin estandarizar, comprobamos que para este ejercicio no es necesario aplicar el StandardScaler a nuestros datos.\n",
    "</br>\n",
    "</font>"
   ]
  },
  {
   "cell_type": "code",
   "execution_count": 20,
   "id": "9cc57dfd",
   "metadata": {
    "scrolled": true
   },
   "outputs": [],
   "source": [
    "# Tomamos de nuestro backup la data original para estas dos variables:\n",
    "X1 = df_Adults_2[['capital-gain', 'age']].values"
   ]
  },
  {
   "cell_type": "code",
   "execution_count": 21,
   "id": "9438632d",
   "metadata": {
    "scrolled": true
   },
   "outputs": [],
   "source": [
    "# Ejecutamos el algoritmo para 4 clústers:\n",
    "four_groups = KMeans(n_clusters = 4 ,init='k-means++', n_init = 10 ,max_iter=300, tol=0.0001, random_state= 111 )\n",
    "four_groups.fit(X1)\n",
    "labels = four_groups.labels_\n",
    "centroides = four_groups.cluster_centers_"
   ]
  },
  {
   "cell_type": "code",
   "execution_count": 22,
   "id": "bd3d9880",
   "metadata": {
    "scrolled": true
   },
   "outputs": [
    {
     "data": {
      "image/png": "[encoded data removed]",
      "text/plain": [
       "<Figure size 700x300 with 1 Axes>"
      ]
     },
     "metadata": {},
     "output_type": "display_data"
    }
   ],
   "source": [
    "# Por último graficamos los clúster y los centroides correspondientes:\n",
    "plt.figure(1 , figsize = (7, 3))\n",
    "plt.clf()\n",
    "plt.title(\"Clústers y centroides\", fontsize = 18, weight='bold', color= 'midnightblue')\n",
    "plt.scatter(x=\"capital-gain\" , y= \"age\", data = df_Adults_2, s = 50, c=labels, alpha = 0.5)\n",
    "plt.scatter(x = centroides[: , 0] , y =  centroides[: , 1] , s = 300 , c = 'red' , alpha = 0.5)\n",
    "plt.ylabel('Age', fontsize = 15)\n",
    "plt.xlabel('Capital gain', fontsize = 15)\n",
    "plt.show()"
   ]
  },
  {
   "cell_type": "markdown",
   "id": "b60ab587",
   "metadata": {},
   "source": [
    "## Conclusiones\n"
   ]
  },
  {
   "cell_type": "markdown",
   "id": "3dd65677",
   "metadata": {
    "scrolled": true
   },
   "source": [
    "<font size='3'>\n",
    "\n",
    "* A nivel general este es uno de los algoritmos no supervisados más prácticos de aplicar en problemas de clasificación.\n",
    "\n",
    "\n",
    "* Como apreciamos en los scatterplots, no siempre es necesario estandarizar o normalizar la data, se debe revisar este paso con detenimiento para evitar sesgos e imprecisiones.\n",
    "\n",
    "\n",
    "* La métrica de performance de inercia calcula el mean square distance entre cada observación y su centroide más cercano.\n",
    "\n",
    "\n",
    "* El concepto de **Elbow** o codo nos ayuda a determinar el número __k__ de clústeres más adecuado para el ejercicio intentando evitar overfitting ó underfitting teniendo en cuenta la relación entre los valores que tome **k** y su inercia asociada.\n",
    "    \n",
    "    \n",
    "* Para el algoritmo K-Modes es importante tener en cuenta el uso de la distancia Hamming en vez de la euclidiana (como se usa normalmente para K-Means) y del uso de la moda como medida de tendencia central en vez de la media aritmética, dado que está diseñado para variables categóricas.\n",
    "    \n",
    "    \n",
    "* El **Chi-Squared test** es el análogo del coeficiente de correlación de Pearson para las variables categóricas."
   ]
  },
  {
   "cell_type": "markdown",
   "id": "b893138b",
   "metadata": {},
   "source": [
    "#### Referencias:\n",
    "[1]. Dua, D. and Graff, C. (2019). UCI Machine Learning Repository [http://archive.ics.uci.edu/ml]. Irvine, CA: University of California, School of Information and Computer Science.\n",
    "\n",
    "[2]. Congressional Voting Records. (2020).Kaggle.Taken from:https://www.kaggle.com/datasets/devvret/congressional-voting-records\n",
    "\n",
    "[3]. Pedregosa, F., Varoquaux, Gael, Gramfort, A., Michel, V., Thirion, B., Grisel, O., … others. (2011). Scikit-learn: Machine learning in Python. Journal of Machine Learning Research, 12(Oct), 2825–2830.\n",
    "\n",
    "[4].  Hunter, J. D. (2007). Matplotlib: A 2D graphics environment. Computing in Science &amp; Engineering, 9(3), 90–95.\n",
    "\n",
    "[5]. Heeral, D. (2021).\"KMeans Clustering for Customer Data\", Taken from: https://www.kaggle.com/code/heeraldedhia/kmeans-clustering-for-customer-data/notebook \n",
    "\n",
    "[6]. Bonthu, H. (2022). KModes Clustering Algorithm for Categorical data. Taken from: https://www.analyticsvidhya.com/blog/2021/06/kmodes-clustering-algorithm-for-categorical-data/?#\n",
    "\n",
    "[7]. K-Mode Clustering in Python. (2023). K-Mode Clustering in Python. Taken from: https://www.geeksforgeeks.org/k-mode-clustering-in-python/\n",
    "\n",
    "\n",
    "[8]. Kaplan, D. (2022). K Mode Clustering Python (Full Code). Taken from: https://enjoymachinelearning.com/blog/k-mode-clustering-python/\n"
   ]
  }
 ],
 "metadata": {
  "kernelspec": {
   "display_name": "Python 3 (ipykernel)",
   "language": "python",
   "name": "python3"
  },
  "language_info": {
   "codemirror_mode": {
    "name": "ipython",
    "version": 3
   },
   "file_extension": ".py",
   "mimetype": "text/x-python",
   "name": "python",
   "nbconvert_exporter": "python",
   "pygments_lexer": "ipython3",
   "version": "3.8.12"
  }
 },
 "nbformat": 4,
 "nbformat_minor": 5
}
