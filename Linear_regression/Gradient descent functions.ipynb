{
 "cells": [
  {
   "cell_type": "markdown",
   "id": "4092b67e",
   "metadata": {},
   "source": [
    "# Gradient descent functions\n",
    "\n",
    "### Hi there, the main goal of this notebook is create the functions that calculates the gradient to the slope \"m\" and intercept \"b\" from a linear function applied in linear regression models."
   ]
  },
  {
   "cell_type": "markdown",
   "id": "aec5f9e4",
   "metadata": {},
   "source": [
    "First step: Import the basic packages:"
   ]
  },
  {
   "cell_type": "code",
   "execution_count": 1,
   "id": "777064c3",
   "metadata": {},
   "outputs": [],
   "source": [
    "import matplotlib.pyplot as plt\n",
    "import pandas as pd\n",
    "import numpy as np\n",
    "import os"
   ]
  },
  {
   "cell_type": "markdown",
   "id": "af51d304",
   "metadata": {},
   "source": [
    "Second step: Create the function to calculate the gradient descent in **b** intercept point according to the next definition:\n",
    "\n",
    "$$ - \\frac{2}{N}\\sum_{i = 1}^{N}(y_{i}-(mx_{i}+b)) $$\n",
    "\n",
    "Where:\n",
    "\n",
    "* __N__ is the number of points we've in our dataset\n",
    "* __m__ is the current gradient guess\n",
    "* __b__ is the current intercept guess"
   ]
  },
  {
   "cell_type": "code",
   "execution_count": 5,
   "id": "0e9799f9",
   "metadata": {},
   "outputs": [],
   "source": [
    "def get_gradient_at_b(x, y, b, m):   \n",
    "    \"\"\"\n",
    "    Calculate the best value of **b** to reduce the loss function \n",
    "    to the linear regression model:\n",
    "    \n",
    "    Parameters\n",
    "    ----------\n",
    "    \n",
    "    x: List,\n",
    "      List with the values of dataset to make the training and prediction, that means, the predictors values.\n",
    "    \n",
    "    y: List,\n",
    "      List with the values of dataset wich you want predict, that means, the target variable .\n",
    "\n",
    "    b: double,\n",
    "      Last result of intercept __b__ into linear regression equation got in the first training \n",
    "      or a initialized value. This value will be improved according to the iterations to get its \n",
    "      best value and minimize the loss.\n",
    "    \n",
    "    m: double,\n",
    "      Last result of slope __m__ into linear regression equation got in the first training \n",
    "      or a initialized value.\n",
    "    \"\"\"\n",
    "    N = len(x)\n",
    "    diff = 0\n",
    "    for i in range(N):\n",
    "        x_val = x[i]\n",
    "        y_val = y[i]\n",
    "        diff += (y_val - ((m * x_val) + b))\n",
    "    b_gradient = -(2/N) * diff   \n",
    "    return b_gradient\n",
    "\n"
   ]
  },
  {
   "cell_type": "markdown",
   "id": "52f9cb0b",
   "metadata": {},
   "source": [
    "Third step: Create the function to calculate the gradient descent to **m** slope according to the next definition:\n",
    "\n",
    "$$ - \\frac{2}{N}\\sum_{i = 1}^{N}x_{i}(y_{i}-(mx_{i}+b)) $$\n",
    "\n",
    "Where:\n",
    "\n",
    "* __N__ is the number of points we've in our dataset\n",
    "* __m__ is the current gradient guess\n",
    "* __b__ is the current intercept guess"
   ]
  },
  {
   "cell_type": "code",
   "execution_count": 7,
   "id": "db88ffb2",
   "metadata": {},
   "outputs": [],
   "source": [
    "def get_gradient_at_m(x, y, b, m):\n",
    "    \"\"\"\n",
    "    Calculate the value of slope m associated to the linear regression model:\n",
    "    \n",
    "    Parameters\n",
    "    ----------\n",
    "    \n",
    "    x: List,\n",
    "      List with the values of dataset to make the training and prediction, that means, the predictors values.\n",
    "    \n",
    "    y: List,\n",
    "      List with the values of dataset wich you want predict, that means, the target variable .\n",
    "\n",
    "    b: double,\n",
    "      Last result of intercept __b__ into linear regression equation got in the first training \n",
    "      or a initialized value. \n",
    "    \n",
    "    m: double,\n",
    "      Last result of slope __m__ into linear regression equation got in the first training \n",
    "      or a initialized value. This value will be improved according to the iterations to get its \n",
    "      best value and minimize the loss.\n",
    "    \"\"\"    \n",
    "    N = len(x)\n",
    "    diff = 0\n",
    "    for i in range(N):\n",
    "        x_val = x[i]\n",
    "        y_val = y[i]\n",
    "        diff += x_val * (y_val - ((m * x_val) + b))\n",
    "    m_gradient = -(2/N) * diff  \n",
    "    return m_gradient"
   ]
  },
  {
   "cell_type": "markdown",
   "id": "d8ef0a0f",
   "metadata": {},
   "source": [
    "The next function have into account all the parameters explained above mixed with the learning rate, with aim to get the best values to reduce the loss:"
   ]
  },
  {
   "cell_type": "code",
   "execution_count": 8,
   "id": "cc3d4b88",
   "metadata": {},
   "outputs": [],
   "source": [
    "def step_gradient(b_current, m_current, x, y, learning_rate):\n",
    "    \"\"\"\n",
    "    Calculate the values of slope b and intercept m associated to the linear regression model:\n",
    "    \n",
    "    Parameters\n",
    "    ----------\n",
    "    \n",
    "    x: List,\n",
    "      List with the values of dataset to make the training and prediction, that means, the predictors values.\n",
    "    \n",
    "    y: List,\n",
    "      List with the values of dataset wich you want predict, that means, the target variable .\n",
    "\n",
    "    b_current: double,\n",
    "      Last result of intercept __b__ into linear regression equation got in the first training \n",
    "      or a initialized value. \n",
    "    \n",
    "    m_current: double,\n",
    "      Last result of slope __m__ into linear regression equation got in the first training \n",
    "      or a initialized value. This value will be improved according to the iterations to get its \n",
    "      best value and minimize the loss.\n",
    "    \n",
    "    learning_rate: double,\n",
    "      It's a number that help us to minimize the loss function and find its convergence. For instance,\n",
    "      this value could be 0.0001, 0.01 or 0.001 but you must be carefully to avoid highly steps when\n",
    "      you're searching the best parameters although you should establish the number of iterations.\n",
    "      \n",
    "    Returns\n",
    "    -------\n",
    "    The best m and b values to the linear regression model.\n",
    "      \n",
    "    \"\"\"    \n",
    "    b_gradient = get_gradient_at_b(x, y, b_current, m_current)\n",
    "    m_gradient = get_gradient_at_m(x, y, b_current, m_current)\n",
    "    b = b_current - (learning_rate * b_gradient)\n",
    "    m = m_current - (learning_rate * m_gradient)\n",
    "    return [b, m]\n",
    "\n",
    "\n"
   ]
  },
  {
   "cell_type": "code",
   "execution_count": 10,
   "id": "34dc972f",
   "metadata": {},
   "outputs": [],
   "source": [
    "def gradient_descent(x, y, learning_rate, num_iterations):\n",
    "    \"\"\"\n",
    "    Calculate the best values of slope m and intercept b associated to the linear regression model:\n",
    "    \n",
    "    Parameters\n",
    "    ----------\n",
    "    \n",
    "    x: List,\n",
    "      List with the values of dataset to make the training and prediction, that means, the predictors values.\n",
    "    \n",
    "    y: List,\n",
    "      List with the values of dataset wich you want predict, that means, the target variable .\n",
    "    \n",
    "    learning_rate: double,\n",
    "      It's a number that help us to minimize the loss function and find its convergence. For instance,\n",
    "      this value could be 0.0001, 0.01 or 0.001 but you must be carefully to avoid highly steps when\n",
    "      you're searching the best parameters although you should establish the number of iterations.\n",
    "    \n",
    "    num_iterations: double,\n",
    "      This number specify how many times you want calculate the gradients and apply them the learning\n",
    "      rate to get the best parameters.\n",
    "      \n",
    "    Returns\n",
    "    -------\n",
    "    The best m and b values to the linear regression model.\n",
    "      \n",
    "    \"\"\"  \n",
    "    m = 0\n",
    "    b = 0\n",
    "    for i in range(num_iterations):\n",
    "        b, m = step_gradient(b, m, x, y, learning_rate)\n",
    "    return [b,m]"
   ]
  },
  {
   "cell_type": "markdown",
   "id": "4f842c05",
   "metadata": {},
   "source": [
    "Now, considering that we apply al the functions above to calculate the best values to a linear regression model,\n",
    "we'll test with two lists associated to a dataframe with revenue information in 12 months:"
   ]
  },
  {
   "cell_type": "code",
   "execution_count": 11,
   "id": "5943057a",
   "metadata": {},
   "outputs": [],
   "source": [
    "months = [1, 2, 3, 4, 5, 6, 7, 8, 9, 10, 11, 12]\n",
    "revenue = [52, 74, 79, 95, 115, 110, 129, 126, 147, 146, 156, 184]"
   ]
  },
  {
   "cell_type": "code",
   "execution_count": 16,
   "id": "77abbe03",
   "metadata": {},
   "outputs": [
    {
     "data": {
      "image/png": "[encoded data removed]",
      "text/plain": [
       "<Figure size 640x480 with 1 Axes>"
      ]
     },
     "metadata": {},
     "output_type": "display_data"
    }
   ],
   "source": [
    "plt.plot(months, revenue, 'o')\n",
    "plt.xlabel('Months')\n",
    "plt.ylabel('Revenue')\n",
    "plt.title('Dataset Revenue 1 year')\n",
    "plt.show()"
   ]
  },
  {
   "cell_type": "code",
   "execution_count": 17,
   "id": "d8a00357",
   "metadata": {},
   "outputs": [],
   "source": [
    "b, m = gradient_descent(months, revenue, 0.01, 1000)"
   ]
  },
  {
   "cell_type": "code",
   "execution_count": 24,
   "id": "435a1608",
   "metadata": {},
   "outputs": [
    {
     "name": "stdout",
     "output_type": "stream",
     "text": [
      "Best value to b is 49.6\n",
      "Best value to m is 10.46\n"
     ]
    }
   ],
   "source": [
    "print('Best value to b is {}'.format(round(b, 2)))\n",
    "print('Best value to m is {}'.format(round(m, 2)))"
   ]
  },
  {
   "cell_type": "code",
   "execution_count": 25,
   "id": "ca631f76",
   "metadata": {},
   "outputs": [],
   "source": [
    "y = [m*x + b for x in months]"
   ]
  },
  {
   "cell_type": "code",
   "execution_count": 27,
   "id": "f76ad36e",
   "metadata": {},
   "outputs": [
    {
     "data": {
      "image/png": "[encoded data removed]",
      "text/plain": [
       "<Figure size 640x480 with 1 Axes>"
      ]
     },
     "metadata": {},
     "output_type": "display_data"
    }
   ],
   "source": [
    "plt.plot(months, revenue, \"o\")\n",
    "plt.plot(months, y, color = 'r')\n",
    "plt.show()"
   ]
  }
 ],
 "metadata": {
  "kernelspec": {
   "display_name": "Python 3 (ipykernel)",
   "language": "python",
   "name": "python3"
  },
  "language_info": {
   "codemirror_mode": {
    "name": "ipython",
    "version": 3
   },
   "file_extension": ".py",
   "mimetype": "text/x-python",
   "name": "python",
   "nbconvert_exporter": "python",
   "pygments_lexer": "ipython3",
   "version": "3.8.12"
  }
 },
 "nbformat": 4,
 "nbformat_minor": 5
}
