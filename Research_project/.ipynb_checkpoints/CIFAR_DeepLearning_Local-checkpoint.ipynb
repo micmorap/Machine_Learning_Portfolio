{
 "cells": [
  {
   "cell_type": "markdown",
   "id": "ae48a73b-0089-4b36-b3e9-2fe6aad76b42",
   "metadata": {},
   "source": [
    "# Research project - Distributed deep learning with Pythorch\n",
    "\n",
    "## Local version\n",
    "\n",
    "### AI Specialization University Minuto de Dios\n",
    "\n",
    "#### Made by: Michael Andrés Mora Poveda\n",
    "\n",
    "Objective:\n",
    "\n",
    "The aim of this notebook is apply convolutional neural networks to train a multiclassifier with CIFAR-10 dataset \n",
    "in local version and with Pytorch deep learning framework. Moreover, it's important taking into account that other\n",
    "purpose is calculate the time processing to contrast it with on-cloud distributed version on Azure.\n",
    "\n",
    "All the descriptions and explanations about this dataset could be find in the following url:\n",
    "\n",
    "**https://www.cs.toronto.edu/~kriz/cifar.html**\n",
    "\n"
   ]
  },
  {
   "cell_type": "markdown",
   "id": "101ab568-c330-44bb-86b9-5e8615e972ec",
   "metadata": {},
   "source": [
    "##### 1. Import the respective packages:"
   ]
  },
  {
   "cell_type": "code",
   "execution_count": 1,
   "id": "4fb6d832-8ac2-4011-93d0-c24d17c0ce6a",
   "metadata": {},
   "outputs": [],
   "source": [
    "import torch\n",
    "import torch.nn as nn\n",
    "import torch.optim as optim\n",
    "import torchvision\n",
    "import torchvision.transforms as transforms\n",
    "import numpy as np\n",
    "import pandas as pd\n",
    "import time\n",
    "import torch.nn.functional as F\n",
    "import torch.optim as optim\n",
    "import matplotlib.pyplot as plt\n",
    "import numpy as np"
   ]
  },
  {
   "cell_type": "markdown",
   "id": "796ab003-37a2-4196-b094-42092e6b9cac",
   "metadata": {},
   "source": [
    "##### 2. Parameterize the transformations to normalize the images:"
   ]
  },
  {
   "cell_type": "code",
   "execution_count": 2,
   "id": "fc5c3e60-c558-46f1-b397-e8ad63fa9647",
   "metadata": {},
   "outputs": [],
   "source": [
    "# Transformaciones y carga del conjunto de entrenamiento\n",
    "transform = transforms.Compose([\n",
    "    transforms.ToTensor(),\n",
    "    transforms.Normalize((0.5, 0.5, 0.5), (0.5, 0.5, 0.5))\n",
    "])\n"
   ]
  },
  {
   "cell_type": "markdown",
   "id": "384745e9-d76e-4d07-bf1f-ae03434c3362",
   "metadata": {},
   "source": [
    "##### 3. Import the dataset directly from Pytorch dataset module and apply the data loader function to save all the files into data folder:"
   ]
  },
  {
   "cell_type": "code",
   "execution_count": 3,
   "id": "1a3ff4a4-d612-4aa3-bd6f-e93379848786",
   "metadata": {},
   "outputs": [
    {
     "name": "stdout",
     "output_type": "stream",
     "text": [
      "Files already downloaded and verified\n",
      "Files already downloaded and verified\n"
     ]
    }
   ],
   "source": [
    "trainset = torchvision.datasets.CIFAR10(root='./data', train=True, download=True, transform=transform)\n",
    "trainloader = torch.utils.data.DataLoader(trainset, batch_size=128, shuffle=False, num_workers=2)\n",
    "testset = torchvision.datasets.CIFAR10(root='./data', train=False, download=True, transform=transform)\n",
    "testloader = torch.utils.data.DataLoader(testset, batch_size=128, shuffle=False, num_workers=2)"
   ]
  },
  {
   "cell_type": "markdown",
   "id": "0126264b-6e3a-4a27-add4-035e24c01266",
   "metadata": {},
   "source": [
    "##### 4. Define the labels to each one of the categories and confirm the datasets size:"
   ]
  },
  {
   "cell_type": "code",
   "execution_count": 4,
   "id": "deb701a4-c77d-4f7d-812f-60817823cedd",
   "metadata": {},
   "outputs": [
    {
     "name": "stdout",
     "output_type": "stream",
     "text": [
      "Train set size: 50000 images\n",
      "Test set size: 10000 images\n"
     ]
    }
   ],
   "source": [
    "print(\"Train set size: {} images\".format(len(trainset)))\n",
    "print(\"Test set size: {} images\".format(len(testset)))"
   ]
  },
  {
   "cell_type": "code",
   "execution_count": 5,
   "id": "9e67639c-ee3e-4491-be78-f638983ecaec",
   "metadata": {},
   "outputs": [],
   "source": [
    "# Clases del CIFAR-10\n",
    "classes = ('avion', 'automovil', 'pajaro', 'gato', 'ciervo', 'perro', 'rana', 'caballo', 'barco', 'camion')"
   ]
  },
  {
   "cell_type": "markdown",
   "id": "c3f2c62d-af8a-49b9-86b2-cc926f832afc",
   "metadata": {},
   "source": [
    "##### 5. Define the Net class to instiate the convolutional neural network:"
   ]
  },
  {
   "cell_type": "code",
   "execution_count": 6,
   "id": "cad2bf04-5e81-49c0-beb4-81aa83c0cd3c",
   "metadata": {
    "scrolled": true
   },
   "outputs": [
    {
     "name": "stdout",
     "output_type": "stream",
     "text": [
      "Net(\n",
      "  (conv1): Conv2d(3, 6, kernel_size=(5, 5), stride=(1, 1))\n",
      "  (pool): MaxPool2d(kernel_size=2, stride=2, padding=0, dilation=1, ceil_mode=False)\n",
      "  (conv2): Conv2d(6, 16, kernel_size=(5, 5), stride=(1, 1))\n",
      "  (fc1): Linear(in_features=400, out_features=120, bias=True)\n",
      "  (fc2): Linear(in_features=120, out_features=84, bias=True)\n",
      "  (fc3): Linear(in_features=84, out_features=10, bias=True)\n",
      ")\n"
     ]
    }
   ],
   "source": [
    "class Net(nn.Module):\n",
    "    def __init__(self):\n",
    "        super().__init__()\n",
    "        self.conv1 = nn.Conv2d(3, 6, 5)\n",
    "        self.pool = nn.MaxPool2d(2, 2)\n",
    "        self.conv2 = nn.Conv2d(6, 16, 5)\n",
    "        self.fc1 = nn.Linear(16 * 5 * 5, 120)\n",
    "        self.fc2 = nn.Linear(120, 84)\n",
    "        self.fc3 = nn.Linear(84, 10)\n",
    "\n",
    "    def forward(self, x):\n",
    "        x = self.pool(F.relu(self.conv1(x)))\n",
    "        x = self.pool(F.relu(self.conv2(x)))\n",
    "        x = torch.flatten(x, 1) # flatten all dimensions except batch\n",
    "        x = F.relu(self.fc1(x))\n",
    "        x = F.relu(self.fc2(x))\n",
    "        x = self.fc3(x)\n",
    "        return x\n",
    "\n",
    "\n",
    "net = Net()\n",
    "print(net)"
   ]
  },
  {
   "cell_type": "markdown",
   "id": "764aecd2-75b6-4fe3-bbd8-7e737e2fe903",
   "metadata": {},
   "source": [
    "##### 6. Instantiate the loss functions and learning rate:"
   ]
  },
  {
   "cell_type": "code",
   "execution_count": 7,
   "id": "e96a279d-a58d-4b66-9ee2-ef0aa275af8d",
   "metadata": {},
   "outputs": [],
   "source": [
    "criterion = nn.CrossEntropyLoss()\n",
    "optimizer = optim.SGD(net.parameters(), lr=0.001, momentum=0.9)"
   ]
  },
  {
   "cell_type": "markdown",
   "id": "085cb33d-dff2-4edf-a2ca-b9fe3f920a44",
   "metadata": {},
   "source": [
    "##### 7. Train the model with 160 epochs:"
   ]
  },
  {
   "cell_type": "code",
   "execution_count": 8,
   "id": "9ae40315-d854-4955-b4f4-6fed16592a08",
   "metadata": {},
   "outputs": [
    {
     "name": "stdout",
     "output_type": "stream",
     "text": [
      "Epoch 1/160 : [==============================] - Loss: 898.9239 - Accuracy: 0.1283\n",
      "Epoch 2/160 : [==============================] - Loss: 885.6296 - Accuracy: 0.1730\n",
      "Epoch 3/160 : [==============================] - Loss: 816.2727 - Accuracy: 0.2557\n",
      "Epoch 4/160 : [==============================] - Loss: 751.4255 - Accuracy: 0.3074\n",
      "Epoch 5/160 : [==============================] - Loss: 700.4856 - Accuracy: 0.3513\n",
      "Epoch 6/160 : [==============================] - Loss: 662.8073 - Accuracy: 0.3811\n",
      "Epoch 7/160 : [==============================] - Loss: 640.6123 - Accuracy: 0.4005\n",
      "Epoch 8/160 : [==============================] - Loss: 623.8283 - Accuracy: 0.4171\n",
      "Epoch 9/160 : [==============================] - Loss: 609.4080 - Accuracy: 0.4318\n",
      "Epoch 10/160 : [==============================] - Loss: 597.0669 - Accuracy: 0.4445\n",
      "Epoch 11/160 : [==============================] - Loss: 586.0097 - Accuracy: 0.4560\n",
      "Epoch 12/160 : [==============================] - Loss: 575.4233 - Accuracy: 0.4672\n",
      "Epoch 13/160 : [==============================] - Loss: 565.0527 - Accuracy: 0.4781\n",
      "Epoch 14/160 : [==============================] - Loss: 554.9615 - Accuracy: 0.4876\n",
      "Epoch 15/160 : [==============================] - Loss: 544.8231 - Accuracy: 0.4988\n",
      "Epoch 16/160 : [==============================] - Loss: 534.8006 - Accuracy: 0.5096\n",
      "Epoch 17/160 : [==============================] - Loss: 525.1274 - Accuracy: 0.5186\n",
      "Epoch 18/160 : [==============================] - Loss: 515.8303 - Accuracy: 0.5292\n",
      "Epoch 19/160 : [==============================] - Loss: 506.8566 - Accuracy: 0.5372\n",
      "Epoch 20/160 : [==============================] - Loss: 498.1930 - Accuracy: 0.5468\n",
      "Epoch 21/160 : [==============================] - Loss: 489.7872 - Accuracy: 0.5554\n",
      "Epoch 22/160 : [==============================] - Loss: 481.7219 - Accuracy: 0.5624\n",
      "Epoch 23/160 : [==============================] - Loss: 474.0427 - Accuracy: 0.5713\n",
      "Epoch 24/160 : [==============================] - Loss: 467.0306 - Accuracy: 0.5780\n",
      "Epoch 25/160 : [==============================] - Loss: 460.0472 - Accuracy: 0.5851\n",
      "Epoch 26/160 : [==============================] - Loss: 453.4125 - Accuracy: 0.5907\n",
      "Epoch 27/160 : [==============================] - Loss: 447.2076 - Accuracy: 0.5964\n",
      "Epoch 28/160 : [==============================] - Loss: 441.3185 - Accuracy: 0.6020\n",
      "Epoch 29/160 : [==============================] - Loss: 435.6901 - Accuracy: 0.6066\n",
      "Epoch 30/160 : [==============================] - Loss: 430.2395 - Accuracy: 0.6127\n",
      "Epoch 31/160 : [==============================] - Loss: 425.0874 - Accuracy: 0.6178\n",
      "Epoch 32/160 : [==============================] - Loss: 420.0613 - Accuracy: 0.6227\n",
      "Epoch 33/160 : [==============================] - Loss: 415.3963 - Accuracy: 0.6262\n",
      "Epoch 34/160 : [==============================] - Loss: 410.8640 - Accuracy: 0.6302\n",
      "Epoch 35/160 : [==============================] - Loss: 406.4641 - Accuracy: 0.6344\n",
      "Epoch 36/160 : [==============================] - Loss: 402.2203 - Accuracy: 0.6383\n",
      "Epoch 37/160 : [==============================] - Loss: 398.0046 - Accuracy: 0.6417\n",
      "Epoch 38/160 : [==============================] - Loss: 393.9927 - Accuracy: 0.6452\n",
      "Epoch 39/160 : [==============================] - Loss: 390.0848 - Accuracy: 0.6484\n",
      "Epoch 40/160 : [==============================] - Loss: 386.2115 - Accuracy: 0.6521\n",
      "Epoch 41/160 : [==============================] - Loss: 382.4449 - Accuracy: 0.6562\n",
      "Epoch 42/160 : [==============================] - Loss: 378.7830 - Accuracy: 0.6598\n",
      "Epoch 43/160 : [==============================] - Loss: 375.1782 - Accuracy: 0.6634\n",
      "Epoch 44/160 : [==============================] - Loss: 371.5493 - Accuracy: 0.6668\n",
      "Epoch 45/160 : [==============================] - Loss: 368.1188 - Accuracy: 0.6702\n",
      "Epoch 46/160 : [==============================] - Loss: 364.7209 - Accuracy: 0.6731\n",
      "Epoch 47/160 : [==============================] - Loss: 361.4508 - Accuracy: 0.6764\n",
      "Epoch 48/160 : [==============================] - Loss: 358.0729 - Accuracy: 0.6794\n",
      "Epoch 49/160 : [==============================] - Loss: 354.7807 - Accuracy: 0.6821\n",
      "Epoch 50/160 : [==============================] - Loss: 351.5905 - Accuracy: 0.6850\n",
      "Epoch 51/160 : [==============================] - Loss: 348.5470 - Accuracy: 0.6885\n",
      "Epoch 52/160 : [==============================] - Loss: 345.4486 - Accuracy: 0.6913\n",
      "Epoch 53/160 : [==============================] - Loss: 342.3196 - Accuracy: 0.6937\n",
      "Epoch 54/160 : [==============================] - Loss: 339.3106 - Accuracy: 0.6966\n",
      "Epoch 55/160 : [==============================] - Loss: 336.2655 - Accuracy: 0.6996\n",
      "Epoch 56/160 : [==============================] - Loss: 333.3990 - Accuracy: 0.7028\n",
      "Epoch 57/160 : [==============================] - Loss: 330.4651 - Accuracy: 0.7053\n",
      "Epoch 58/160 : [==============================] - Loss: 327.6519 - Accuracy: 0.7077\n",
      "Epoch 59/160 : [==============================] - Loss: 324.7617 - Accuracy: 0.7103\n",
      "Epoch 60/160 : [==============================] - Loss: 321.7315 - Accuracy: 0.7124\n",
      "Epoch 61/160 : [==============================] - Loss: 318.8925 - Accuracy: 0.7155\n",
      "Epoch 62/160 : [==============================] - Loss: 316.0958 - Accuracy: 0.7184\n",
      "Epoch 63/160 : [==============================] - Loss: 313.3581 - Accuracy: 0.7208\n",
      "Epoch 64/160 : [==============================] - Loss: 310.6394 - Accuracy: 0.7234\n",
      "Epoch 65/160 : [==============================] - Loss: 307.9451 - Accuracy: 0.7259\n",
      "Epoch 66/160 : [==============================] - Loss: 305.2364 - Accuracy: 0.7281\n",
      "Epoch 67/160 : [==============================] - Loss: 302.6512 - Accuracy: 0.7304\n",
      "Epoch 68/160 : [==============================] - Loss: 300.0277 - Accuracy: 0.7329\n",
      "Epoch 69/160 : [==============================] - Loss: 297.4739 - Accuracy: 0.7355\n",
      "Epoch 70/160 : [==============================] - Loss: 294.9195 - Accuracy: 0.7384\n",
      "Epoch 71/160 : [==============================] - Loss: 292.3091 - Accuracy: 0.7412\n",
      "Epoch 72/160 : [==============================] - Loss: 289.7634 - Accuracy: 0.7442\n",
      "Epoch 73/160 : [==============================] - Loss: 287.3206 - Accuracy: 0.7460\n",
      "Epoch 74/160 : [==============================] - Loss: 284.6707 - Accuracy: 0.7484\n",
      "Epoch 75/160 : [==============================] - Loss: 282.2973 - Accuracy: 0.7508\n",
      "Epoch 76/160 : [==============================] - Loss: 279.9122 - Accuracy: 0.7523\n",
      "Epoch 77/160 : [==============================] - Loss: 277.5340 - Accuracy: 0.7548\n",
      "Epoch 78/160 : [==============================] - Loss: 275.1532 - Accuracy: 0.7570\n",
      "Epoch 79/160 : [==============================] - Loss: 272.8546 - Accuracy: 0.7587\n",
      "Epoch 80/160 : [==============================] - Loss: 270.5391 - Accuracy: 0.7605\n",
      "Epoch 81/160 : [==============================] - Loss: 268.2304 - Accuracy: 0.7628\n",
      "Epoch 82/160 : [==============================] - Loss: 265.9706 - Accuracy: 0.7653\n",
      "Epoch 83/160 : [==============================] - Loss: 263.7743 - Accuracy: 0.7675\n",
      "Epoch 84/160 : [==============================] - Loss: 261.3527 - Accuracy: 0.7698\n",
      "Epoch 85/160 : [==============================] - Loss: 258.9738 - Accuracy: 0.7726\n",
      "Epoch 86/160 : [==============================] - Loss: 256.7356 - Accuracy: 0.7743\n",
      "Epoch 87/160 : [==============================] - Loss: 254.4090 - Accuracy: 0.7771\n",
      "Epoch 88/160 : [==============================] - Loss: 252.2011 - Accuracy: 0.7795\n",
      "Epoch 89/160 : [==============================] - Loss: 250.1150 - Accuracy: 0.7812\n",
      "Epoch 90/160 : [==============================] - Loss: 248.0096 - Accuracy: 0.7836\n",
      "Epoch 91/160 : [==============================] - Loss: 245.7994 - Accuracy: 0.7857\n",
      "Epoch 92/160 : [==============================] - Loss: 243.5924 - Accuracy: 0.7872\n",
      "Epoch 93/160 : [==============================] - Loss: 241.4737 - Accuracy: 0.7892\n",
      "Epoch 94/160 : [==============================] - Loss: 239.2267 - Accuracy: 0.7909\n",
      "Epoch 95/160 : [==============================] - Loss: 237.0377 - Accuracy: 0.7929\n",
      "Epoch 96/160 : [==============================] - Loss: 234.8796 - Accuracy: 0.7952\n",
      "Epoch 97/160 : [==============================] - Loss: 232.8255 - Accuracy: 0.7967\n",
      "Epoch 98/160 : [==============================] - Loss: 230.7757 - Accuracy: 0.7993\n",
      "Epoch 99/160 : [==============================] - Loss: 228.5999 - Accuracy: 0.8011\n",
      "Epoch 100/160 : [==============================] - Loss: 226.5888 - Accuracy: 0.8031\n",
      "Epoch 101/160 : [==============================] - Loss: 224.5822 - Accuracy: 0.8050\n",
      "Epoch 102/160 : [==============================] - Loss: 222.5259 - Accuracy: 0.8071\n",
      "Epoch 103/160 : [==============================] - Loss: 220.4505 - Accuracy: 0.8092\n",
      "Epoch 104/160 : [==============================] - Loss: 218.4081 - Accuracy: 0.8111\n",
      "Epoch 105/160 : [==============================] - Loss: 216.4261 - Accuracy: 0.8125\n",
      "Epoch 106/160 : [==============================] - Loss: 214.2871 - Accuracy: 0.8141\n",
      "Epoch 107/160 : [==============================] - Loss: 212.2259 - Accuracy: 0.8157\n",
      "Epoch 108/160 : [==============================] - Loss: 210.3446 - Accuracy: 0.8182\n",
      "Epoch 109/160 : [==============================] - Loss: 208.2343 - Accuracy: 0.8198\n",
      "Epoch 110/160 : [==============================] - Loss: 206.2688 - Accuracy: 0.8215\n",
      "Epoch 111/160 : [==============================] - Loss: 204.2738 - Accuracy: 0.8235\n",
      "Epoch 112/160 : [==============================] - Loss: 202.4059 - Accuracy: 0.8256\n",
      "Epoch 113/160 : [==============================] - Loss: 200.5746 - Accuracy: 0.8269\n",
      "Epoch 114/160 : [==============================] - Loss: 198.9618 - Accuracy: 0.8285\n",
      "Epoch 115/160 : [==============================] - Loss: 197.1315 - Accuracy: 0.8303\n",
      "Epoch 116/160 : [==============================] - Loss: 195.4691 - Accuracy: 0.8319\n",
      "Epoch 117/160 : [==============================] - Loss: 193.7133 - Accuracy: 0.8337\n",
      "Epoch 118/160 : [==============================] - Loss: 191.9415 - Accuracy: 0.8356\n",
      "Epoch 119/160 : [==============================] - Loss: 190.3371 - Accuracy: 0.8366\n",
      "Epoch 120/160 : [==============================] - Loss: 188.6197 - Accuracy: 0.8387\n",
      "Epoch 121/160 : [==============================] - Loss: 187.1841 - Accuracy: 0.8400\n",
      "Epoch 122/160 : [==============================] - Loss: 185.4717 - Accuracy: 0.8422\n",
      "Epoch 123/160 : [==============================] - Loss: 184.2001 - Accuracy: 0.8430\n",
      "Epoch 124/160 : [==============================] - Loss: 182.5924 - Accuracy: 0.8449\n",
      "Epoch 125/160 : [==============================] - Loss: 181.2327 - Accuracy: 0.8463\n",
      "Epoch 126/160 : [==============================] - Loss: 179.8894 - Accuracy: 0.8476\n",
      "Epoch 127/160 : [==============================] - Loss: 178.6560 - Accuracy: 0.8483\n",
      "Epoch 128/160 : [==============================] - Loss: 177.4184 - Accuracy: 0.8492\n",
      "Epoch 129/160 : [==============================] - Loss: 176.5033 - Accuracy: 0.8498\n",
      "Epoch 130/160 : [==============================] - Loss: 175.5811 - Accuracy: 0.8499\n",
      "Epoch 131/160 : [==============================] - Loss: 174.6156 - Accuracy: 0.8505\n",
      "Epoch 132/160 : [==============================] - Loss: 174.3012 - Accuracy: 0.8499\n",
      "Epoch 133/160 : [==============================] - Loss: 173.9956 - Accuracy: 0.8495\n",
      "Epoch 134/160 : [==============================] - Loss: 173.5503 - Accuracy: 0.8500\n",
      "Epoch 135/160 : [==============================] - Loss: 173.1363 - Accuracy: 0.8499\n",
      "Epoch 136/160 : [==============================] - Loss: 172.5851 - Accuracy: 0.8490\n",
      "Epoch 137/160 : [==============================] - Loss: 172.6506 - Accuracy: 0.8489\n",
      "Epoch 138/160 : [==============================] - Loss: 172.6845 - Accuracy: 0.8481\n",
      "Epoch 139/160 : [==============================] - Loss: 173.1781 - Accuracy: 0.8472\n",
      "Epoch 140/160 : [==============================] - Loss: 173.5116 - Accuracy: 0.8466\n",
      "Epoch 141/160 : [==============================] - Loss: 172.5976 - Accuracy: 0.8471\n",
      "Epoch 142/160 : [==============================] - Loss: 172.9767 - Accuracy: 0.8453\n",
      "Epoch 143/160 : [==============================] - Loss: 172.9294 - Accuracy: 0.8453\n",
      "Epoch 144/160 : [==============================] - Loss: 173.2138 - Accuracy: 0.8445\n",
      "Epoch 145/160 : [==============================] - Loss: 173.9856 - Accuracy: 0.8435\n",
      "Epoch 146/160 : [==============================] - Loss: 175.1235 - Accuracy: 0.8416\n",
      "Epoch 147/160 : [==============================] - Loss: 176.5636 - Accuracy: 0.8397\n",
      "Epoch 148/160 : [==============================] - Loss: 178.4077 - Accuracy: 0.8371\n",
      "Epoch 149/160 : [==============================] - Loss: 179.0973 - Accuracy: 0.8356\n",
      "Epoch 150/160 : [==============================] - Loss: 179.0302 - Accuracy: 0.8350\n",
      "Epoch 151/160 : [==============================] - Loss: 177.6967 - Accuracy: 0.8379\n",
      "Epoch 152/160 : [==============================] - Loss: 176.1049 - Accuracy: 0.8395\n",
      "Epoch 153/160 : [==============================] - Loss: 174.6646 - Accuracy: 0.8396\n",
      "Epoch 154/160 : [==============================] - Loss: 173.4453 - Accuracy: 0.8404\n",
      "Epoch 155/160 : [==============================] - Loss: 172.0692 - Accuracy: 0.8427\n",
      "Epoch 156/160 : [==============================] - Loss: 170.7378 - Accuracy: 0.8440\n",
      "Epoch 157/160 : [==============================] - Loss: 168.8199 - Accuracy: 0.8461\n",
      "Epoch 158/160 : [==============================] - Loss: 166.8787 - Accuracy: 0.8476\n",
      "Epoch 159/160 : [==============================] - Loss: 165.0782 - Accuracy: 0.8497\n",
      "Epoch 160/160 : [==============================] - Loss: 162.3015 - Accuracy: 0.8529\n"
     ]
    }
   ],
   "source": [
    "start_time = time.time()\n",
    "\n",
    "num_epochs = 160\n",
    "\n",
    "for epoch in range(num_epochs):  # loop over the dataset multiple times\n",
    "\n",
    "    running_loss = 0.0\n",
    "    correct_predictions = 0\n",
    "    total_samples = 0\n",
    "    \n",
    "    for i, data in enumerate(trainloader, 0):\n",
    "        # get the inputs; data is a list of [inputs, labels]\n",
    "        inputs, labels = data\n",
    "        \n",
    "        # zero the parameter gradients\n",
    "        optimizer.zero_grad()\n",
    "\n",
    "        # forward + backward + optimize\n",
    "        outputs = net(inputs)\n",
    "        loss = criterion(outputs, labels)\n",
    "        loss.backward()\n",
    "        optimizer.step()\n",
    "        _, predicted = torch.max(outputs, 1)  # Obtén las clases predichas\n",
    "        \n",
    "\n",
    "        # print statistics\n",
    "        running_loss += loss.item()\n",
    "        correct_predictions += (predicted == labels).sum().item()\n",
    "        total_samples += labels.size(0)  # El tamaño del lote (batch)\n",
    "            \n",
    "    epoch_accuracy = correct_predictions / total_samples\n",
    "    print(f'Epoch {epoch + 1}/{num_epochs} : [==============================] - Loss: {running_loss:.4f} - Accuracy: {epoch_accuracy:.4f}')\n"
   ]
  },
  {
   "cell_type": "code",
   "execution_count": 9,
   "id": "3658e558-a5af-422c-bf21-b2298e64d731",
   "metadata": {},
   "outputs": [
    {
     "name": "stdout",
     "output_type": "stream",
     "text": [
      "Finished Training\n",
      "Tiempo de ejecución: 8917.832212 seconds\n",
      "Tiempo de ejecución: 148.630537 minutes\n"
     ]
    }
   ],
   "source": [
    "print('Finished Training')\n",
    "end_time = time.time()\n",
    "execution_time2 = (end_time - start_time) / 60\n",
    "execution_time = end_time - start_time\n",
    "print(f\"Tiempo de ejecución: {execution_time:.6f} seconds\")\n",
    "print(f\"Tiempo de ejecución: {execution_time2:.6f} minutes\")"
   ]
  },
  {
   "cell_type": "markdown",
   "id": "fff0e5e9-6f52-4b78-9d8f-7014f13f36db",
   "metadata": {},
   "source": [
    "As you can see in the cell above, the execution time is inefficient, approximately 44 minutes.\n",
    "\n",
    "##### 8. Visualize a couple of pictures:"
   ]
  },
  {
   "cell_type": "code",
   "execution_count": 10,
   "id": "30fe6d40-6a83-424d-a90b-ef13dbf9809f",
   "metadata": {},
   "outputs": [
    {
     "data": {
      "image/png": "[encoded data removed]",
      "text/plain": [
       "<Figure size 640x480 with 1 Axes>"
      ]
     },
     "metadata": {},
     "output_type": "display_data"
    },
    {
     "name": "stdout",
     "output_type": "stream",
     "text": [
      "caballo barco rana  caballo\n"
     ]
    }
   ],
   "source": [
    "import random\n",
    "\n",
    "def imshow(img):\n",
    "    img = img / 2 + 0.5     # unnormalize\n",
    "    npimg = img.numpy()\n",
    "    plt.imshow(np.transpose(npimg, (1, 2, 0)))\n",
    "    plt.show()\n",
    "\n",
    "# Obtener 4 índices aleatorios para seleccionar imágenes\n",
    "random_indices = random.sample(range(len(trainset)), 4)\n",
    "dataiter = iter(trainloader)\n",
    "images, labels = next(dataiter)\n",
    "\n",
    "# Obtener las imágenes y etiquetas correspondientes a los índices aleatorios\n",
    "random_images = [trainset[i][0] for i in random_indices]\n",
    "random_labels = [trainset[i][1] for i in random_indices]\n",
    "\n",
    "# Mostrar las 4 imágenes aleatorias\n",
    "imshow(torchvision.utils.make_grid(random_images))\n",
    "# Imprimir etiquetas de las imágenes aleatorias\n",
    "print(' '.join(f'{classes[random_labels[j]]:5s}' for j in range(4)))"
   ]
  },
  {
   "cell_type": "markdown",
   "id": "b4ea4ccf-4923-42b8-87ba-ea8ffe30d56e",
   "metadata": {},
   "source": [
    "##### 9. Save the model in our local folder:"
   ]
  },
  {
   "cell_type": "code",
   "execution_count": 11,
   "id": "b91e03d7-eb03-43b0-90be-8172d97d6781",
   "metadata": {},
   "outputs": [],
   "source": [
    "PATH = './cifar_net.pth'\n",
    "torch.save(net.state_dict(), PATH)"
   ]
  },
  {
   "cell_type": "markdown",
   "id": "3fb05ed8-0560-4320-82a4-2c67d9b84cf2",
   "metadata": {},
   "source": [
    "##### 10. Load the model to testing and visualize any results:"
   ]
  },
  {
   "cell_type": "code",
   "execution_count": 12,
   "id": "953cbe57-457e-45eb-9ec3-c473b725ceb7",
   "metadata": {},
   "outputs": [
    {
     "data": {
      "text/plain": [
       "<All keys matched successfully>"
      ]
     },
     "execution_count": 12,
     "metadata": {},
     "output_type": "execute_result"
    }
   ],
   "source": [
    "net = Net()\n",
    "net.load_state_dict(torch.load(PATH))"
   ]
  },
  {
   "cell_type": "code",
   "execution_count": 13,
   "id": "315da696-0bbd-4a83-ab4c-570766f30ce1",
   "metadata": {},
   "outputs": [],
   "source": [
    "outputs = net(images)"
   ]
  },
  {
   "cell_type": "code",
   "execution_count": 14,
   "id": "a08ce30d-b644-45db-bf2f-d36153b3e67f",
   "metadata": {},
   "outputs": [
    {
     "name": "stdout",
     "output_type": "stream",
     "text": [
      "Predicted:  rana  camion camion ciervo\n"
     ]
    }
   ],
   "source": [
    "_, predicted = torch.max(outputs, 1)\n",
    "\n",
    "print('Predicted: ', ' '.join(f'{classes[predicted[j]]:5s}'\n",
    "                              for j in range(4)))"
   ]
  },
  {
   "cell_type": "code",
   "execution_count": 15,
   "id": "25bd3e4a-dc30-4195-9f3e-48858bb13c61",
   "metadata": {},
   "outputs": [
    {
     "name": "stdout",
     "output_type": "stream",
     "text": [
      "Accuracy of the network on the 10000 test images: 58 %\n"
     ]
    }
   ],
   "source": [
    "correct = 0\n",
    "total = 0\n",
    "# since we're not training, we don't need to calculate the gradients for our outputs\n",
    "with torch.no_grad():\n",
    "    for data in testloader:\n",
    "        images, labels = data\n",
    "        # calculate outputs by running images through the network\n",
    "        outputs = net(images)\n",
    "        # the class with the highest energy is what we choose as prediction\n",
    "        _, predicted = torch.max(outputs.data, 1)\n",
    "        total += labels.size(0)\n",
    "        correct += (predicted == labels).sum().item()\n",
    "\n",
    "print(f'Accuracy of the network on the 10000 test images: {100 * correct // total} %')"
   ]
  },
  {
   "cell_type": "code",
   "execution_count": 16,
   "id": "192e03bd-559d-42cd-83c3-820be04e4091",
   "metadata": {},
   "outputs": [
    {
     "name": "stdout",
     "output_type": "stream",
     "text": [
      "Accuracy for class: avion is 46.2 %\n",
      "Accuracy for class: automovil is 83.8 %\n",
      "Accuracy for class: pajaro is 36.0 %\n",
      "Accuracy for class: gato  is 50.8 %\n",
      "Accuracy for class: ciervo is 48.3 %\n",
      "Accuracy for class: perro is 49.7 %\n",
      "Accuracy for class: rana  is 57.2 %\n",
      "Accuracy for class: caballo is 66.0 %\n",
      "Accuracy for class: barco is 82.1 %\n",
      "Accuracy for class: camion is 64.1 %\n"
     ]
    }
   ],
   "source": [
    "# prepare to count predictions for each class\n",
    "correct_pred = {classname: 0 for classname in classes}\n",
    "total_pred = {classname: 0 for classname in classes}\n",
    "\n",
    "# again no gradients needed\n",
    "with torch.no_grad():\n",
    "    for data in testloader:\n",
    "        images, labels = data\n",
    "        outputs = net(images)\n",
    "        _, predictions = torch.max(outputs, 1)\n",
    "        # collect the correct predictions for each class\n",
    "        for label, prediction in zip(labels, predictions):\n",
    "            if label == prediction:\n",
    "                correct_pred[classes[label]] += 1\n",
    "            total_pred[classes[label]] += 1\n",
    "\n",
    "\n",
    "# print accuracy for each class\n",
    "for classname, correct_count in correct_pred.items():\n",
    "    accuracy = 100 * float(correct_count) / total_pred[classname]\n",
    "    print(f'Accuracy for class: {classname:5s} is {accuracy:.1f} %')"
   ]
  },
  {
   "cell_type": "markdown",
   "id": "f0079ceb-f724-4223-9132-5b80823b1b2e",
   "metadata": {},
   "source": [
    "##### 11. The general result is not suitable to ou picture classifier."
   ]
  },
  {
   "cell_type": "markdown",
   "id": "f0c1c6e8-a1e1-46a6-9c2f-1142e2cdb393",
   "metadata": {},
   "source": [
    "### Conclusions\n",
    "\n",
    "* In general, you can see the poor performance of our deep learning model and the expensive time execution in a local machine.\n",
    "* Understand the needed of implement the same algorithm into a powerful machine with more hardware resources like GPU, CPU units and parallel and distributed training deep learning models through on-cloud services like Azure.\n"
   ]
  },
  {
   "cell_type": "code",
   "execution_count": null,
   "id": "769fce03-df88-4706-9ec3-477d31a4b550",
   "metadata": {},
   "outputs": [],
   "source": []
  }
 ],
 "metadata": {
  "kernelspec": {
   "display_name": "Python 3 (ipykernel)",
   "language": "python",
   "name": "python3"
  },
  "language_info": {
   "codemirror_mode": {
    "name": "ipython",
    "version": 3
   },
   "file_extension": ".py",
   "mimetype": "text/x-python",
   "name": "python",
   "nbconvert_exporter": "python",
   "pygments_lexer": "ipython3",
   "version": "3.8.12"
  }
 },
 "nbformat": 4,
 "nbformat_minor": 5
}
