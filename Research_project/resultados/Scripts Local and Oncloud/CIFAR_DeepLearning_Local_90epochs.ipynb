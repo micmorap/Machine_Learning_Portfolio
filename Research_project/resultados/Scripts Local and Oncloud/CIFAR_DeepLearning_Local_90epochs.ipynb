{
 "cells": [
  {
   "cell_type": "markdown",
   "id": "ae48a73b-0089-4b36-b3e9-2fe6aad76b42",
   "metadata": {},
   "source": [
    "# Research project - Distributed deep learning with Pythorch\n",
    "\n",
    "## Local version\n",
    "\n",
    "### AI Specialization University Minuto de Dios\n",
    "\n",
    "#### Made by: Michael Andrés Mora Poveda\n",
    "\n",
    "Objective:\n",
    "\n",
    "The aim of this notebook is apply convolutional neural networks to train a multiclassifier with CIFAR-10 dataset \n",
    "in local version and with Pytorch deep learning framework. Moreover, it's important taking into account that other\n",
    "purpose is calculate the time processing to contrast it with on-cloud distributed version on Azure.\n",
    "\n",
    "All the descriptions and explanations about this dataset could be find in the following url:\n",
    "\n",
    "**https://www.cs.toronto.edu/~kriz/cifar.html**\n",
    "\n"
   ]
  },
  {
   "cell_type": "markdown",
   "id": "101ab568-c330-44bb-86b9-5e8615e972ec",
   "metadata": {},
   "source": [
    "##### 1. Import the respective packages:"
   ]
  },
  {
   "cell_type": "code",
   "execution_count": 1,
   "id": "4fb6d832-8ac2-4011-93d0-c24d17c0ce6a",
   "metadata": {},
   "outputs": [],
   "source": [
    "import torch\n",
    "import torch.nn as nn\n",
    "import torch.optim as optim\n",
    "import torchvision\n",
    "import torchvision.transforms as transforms\n",
    "import numpy as np\n",
    "import pandas as pd\n",
    "import time\n",
    "import torch.nn.functional as F\n",
    "import torch.optim as optim\n",
    "import matplotlib.pyplot as plt\n",
    "import numpy as np"
   ]
  },
  {
   "cell_type": "markdown",
   "id": "796ab003-37a2-4196-b094-42092e6b9cac",
   "metadata": {},
   "source": [
    "##### 2. Parameterize the transformations to normalize the images:"
   ]
  },
  {
   "cell_type": "code",
   "execution_count": 2,
   "id": "fc5c3e60-c558-46f1-b397-e8ad63fa9647",
   "metadata": {},
   "outputs": [],
   "source": [
    "# Transformaciones y carga del conjunto de entrenamiento\n",
    "transform = transforms.Compose([\n",
    "    transforms.ToTensor(),\n",
    "    transforms.Normalize((0.5, 0.5, 0.5), (0.5, 0.5, 0.5))\n",
    "])\n"
   ]
  },
  {
   "cell_type": "markdown",
   "id": "384745e9-d76e-4d07-bf1f-ae03434c3362",
   "metadata": {},
   "source": [
    "##### 3. Import the dataset directly from Pytorch dataset module and apply the data loader function to save all the files into data folder:"
   ]
  },
  {
   "cell_type": "code",
   "execution_count": 3,
   "id": "1a3ff4a4-d612-4aa3-bd6f-e93379848786",
   "metadata": {},
   "outputs": [
    {
     "name": "stdout",
     "output_type": "stream",
     "text": [
      "Files already downloaded and verified\n",
      "Files already downloaded and verified\n"
     ]
    }
   ],
   "source": [
    "trainset = torchvision.datasets.CIFAR10(root='./data', train=True, download=True, transform=transform)\n",
    "trainloader = torch.utils.data.DataLoader(trainset, batch_size=128, shuffle=False, num_workers=2)\n",
    "testset = torchvision.datasets.CIFAR10(root='./data', train=False, download=True, transform=transform)\n",
    "testloader = torch.utils.data.DataLoader(testset, batch_size=128, shuffle=False, num_workers=2)"
   ]
  },
  {
   "cell_type": "markdown",
   "id": "0126264b-6e3a-4a27-add4-035e24c01266",
   "metadata": {},
   "source": [
    "##### 4. Define the labels to each one of the categories and confirm the datasets size:"
   ]
  },
  {
   "cell_type": "code",
   "execution_count": 4,
   "id": "deb701a4-c77d-4f7d-812f-60817823cedd",
   "metadata": {},
   "outputs": [
    {
     "name": "stdout",
     "output_type": "stream",
     "text": [
      "Train set size: 50000 images\n",
      "Test set size: 10000 images\n"
     ]
    }
   ],
   "source": [
    "print(\"Train set size: {} images\".format(len(trainset)))\n",
    "print(\"Test set size: {} images\".format(len(testset)))"
   ]
  },
  {
   "cell_type": "code",
   "execution_count": 5,
   "id": "9e67639c-ee3e-4491-be78-f638983ecaec",
   "metadata": {},
   "outputs": [],
   "source": [
    "# Clases del CIFAR-10\n",
    "classes = ('avion', 'automovil', 'pajaro', 'gato', 'ciervo', 'perro', 'rana', 'caballo', 'barco', 'camion')"
   ]
  },
  {
   "cell_type": "markdown",
   "id": "c3f2c62d-af8a-49b9-86b2-cc926f832afc",
   "metadata": {},
   "source": [
    "##### 5. Define the Net class to instiate the convolutional neural network:"
   ]
  },
  {
   "cell_type": "code",
   "execution_count": 6,
   "id": "cad2bf04-5e81-49c0-beb4-81aa83c0cd3c",
   "metadata": {
    "scrolled": true
   },
   "outputs": [
    {
     "name": "stdout",
     "output_type": "stream",
     "text": [
      "Net(\n",
      "  (conv1): Conv2d(3, 6, kernel_size=(5, 5), stride=(1, 1))\n",
      "  (pool): MaxPool2d(kernel_size=2, stride=2, padding=0, dilation=1, ceil_mode=False)\n",
      "  (conv2): Conv2d(6, 16, kernel_size=(5, 5), stride=(1, 1))\n",
      "  (fc1): Linear(in_features=400, out_features=120, bias=True)\n",
      "  (fc2): Linear(in_features=120, out_features=84, bias=True)\n",
      "  (fc3): Linear(in_features=84, out_features=10, bias=True)\n",
      ")\n"
     ]
    }
   ],
   "source": [
    "class Net(nn.Module):\n",
    "    def __init__(self):\n",
    "        super().__init__()\n",
    "        self.conv1 = nn.Conv2d(3, 6, 5)\n",
    "        self.pool = nn.MaxPool2d(2, 2)\n",
    "        self.conv2 = nn.Conv2d(6, 16, 5)\n",
    "        self.fc1 = nn.Linear(16 * 5 * 5, 120)\n",
    "        self.fc2 = nn.Linear(120, 84)\n",
    "        self.fc3 = nn.Linear(84, 10)\n",
    "\n",
    "    def forward(self, x):\n",
    "        x = self.pool(F.relu(self.conv1(x)))\n",
    "        x = self.pool(F.relu(self.conv2(x)))\n",
    "        x = torch.flatten(x, 1) # flatten all dimensions except batch\n",
    "        x = F.relu(self.fc1(x))\n",
    "        x = F.relu(self.fc2(x))\n",
    "        x = self.fc3(x)\n",
    "        return x\n",
    "\n",
    "\n",
    "net = Net()\n",
    "print(net)"
   ]
  },
  {
   "cell_type": "markdown",
   "id": "764aecd2-75b6-4fe3-bbd8-7e737e2fe903",
   "metadata": {},
   "source": [
    "##### 6. Instantiate the loss functions and learning rate:"
   ]
  },
  {
   "cell_type": "code",
   "execution_count": 7,
   "id": "e96a279d-a58d-4b66-9ee2-ef0aa275af8d",
   "metadata": {},
   "outputs": [],
   "source": [
    "criterion = nn.CrossEntropyLoss()\n",
    "optimizer = optim.SGD(net.parameters(), lr=0.001, momentum=0.9)"
   ]
  },
  {
   "cell_type": "markdown",
   "id": "085cb33d-dff2-4edf-a2ca-b9fe3f920a44",
   "metadata": {},
   "source": [
    "##### 7. Train the model with 30 epochs:"
   ]
  },
  {
   "cell_type": "code",
   "execution_count": 8,
   "id": "9ae40315-d854-4955-b4f4-6fed16592a08",
   "metadata": {},
   "outputs": [
    {
     "name": "stdout",
     "output_type": "stream",
     "text": [
      "Epoch 1/90 : [==============================] - Loss: 900.0748 - Accuracy: 0.1009\n",
      "Epoch 2/90 : [==============================] - Loss: 896.3551 - Accuracy: 0.1203\n",
      "Epoch 3/90 : [==============================] - Loss: 868.1389 - Accuracy: 0.1953\n",
      "Epoch 4/90 : [==============================] - Loss: 788.9604 - Accuracy: 0.2666\n",
      "Epoch 5/90 : [==============================] - Loss: 732.9049 - Accuracy: 0.3195\n",
      "Epoch 6/90 : [==============================] - Loss: 682.2350 - Accuracy: 0.3654\n",
      "Epoch 7/90 : [==============================] - Loss: 647.9455 - Accuracy: 0.3941\n",
      "Epoch 8/90 : [==============================] - Loss: 625.3015 - Accuracy: 0.4147\n",
      "Epoch 9/90 : [==============================] - Loss: 607.9127 - Accuracy: 0.4337\n",
      "Epoch 10/90 : [==============================] - Loss: 592.5774 - Accuracy: 0.4492\n",
      "Epoch 11/90 : [==============================] - Loss: 578.2146 - Accuracy: 0.4646\n",
      "Epoch 12/90 : [==============================] - Loss: 565.5561 - Accuracy: 0.4774\n",
      "Epoch 13/90 : [==============================] - Loss: 554.3477 - Accuracy: 0.4873\n",
      "Epoch 14/90 : [==============================] - Loss: 544.0462 - Accuracy: 0.4975\n",
      "Epoch 15/90 : [==============================] - Loss: 534.5627 - Accuracy: 0.5074\n",
      "Epoch 16/90 : [==============================] - Loss: 525.7015 - Accuracy: 0.5171\n",
      "Epoch 17/90 : [==============================] - Loss: 517.3893 - Accuracy: 0.5258\n",
      "Epoch 18/90 : [==============================] - Loss: 509.6937 - Accuracy: 0.5345\n",
      "Epoch 19/90 : [==============================] - Loss: 502.3945 - Accuracy: 0.5406\n",
      "Epoch 20/90 : [==============================] - Loss: 495.4418 - Accuracy: 0.5468\n",
      "Epoch 21/90 : [==============================] - Loss: 488.5630 - Accuracy: 0.5526\n",
      "Epoch 22/90 : [==============================] - Loss: 482.0222 - Accuracy: 0.5578\n",
      "Epoch 23/90 : [==============================] - Loss: 475.6425 - Accuracy: 0.5646\n",
      "Epoch 24/90 : [==============================] - Loss: 469.5669 - Accuracy: 0.5706\n",
      "Epoch 25/90 : [==============================] - Loss: 463.7445 - Accuracy: 0.5773\n",
      "Epoch 26/90 : [==============================] - Loss: 458.0936 - Accuracy: 0.5829\n",
      "Epoch 27/90 : [==============================] - Loss: 452.6018 - Accuracy: 0.5882\n",
      "Epoch 28/90 : [==============================] - Loss: 447.4211 - Accuracy: 0.5938\n",
      "Epoch 29/90 : [==============================] - Loss: 442.3186 - Accuracy: 0.5997\n",
      "Epoch 30/90 : [==============================] - Loss: 437.4901 - Accuracy: 0.6044\n",
      "Epoch 31/90 : [==============================] - Loss: 432.7936 - Accuracy: 0.6091\n",
      "Epoch 32/90 : [==============================] - Loss: 428.3596 - Accuracy: 0.6138\n",
      "Epoch 33/90 : [==============================] - Loss: 424.0498 - Accuracy: 0.6180\n",
      "Epoch 34/90 : [==============================] - Loss: 419.8271 - Accuracy: 0.6223\n",
      "Epoch 35/90 : [==============================] - Loss: 415.7014 - Accuracy: 0.6266\n",
      "Epoch 36/90 : [==============================] - Loss: 411.6929 - Accuracy: 0.6298\n",
      "Epoch 37/90 : [==============================] - Loss: 407.7464 - Accuracy: 0.6337\n",
      "Epoch 38/90 : [==============================] - Loss: 403.9530 - Accuracy: 0.6364\n",
      "Epoch 39/90 : [==============================] - Loss: 400.3306 - Accuracy: 0.6399\n",
      "Epoch 40/90 : [==============================] - Loss: 396.7619 - Accuracy: 0.6433\n",
      "Epoch 41/90 : [==============================] - Loss: 393.2858 - Accuracy: 0.6465\n",
      "Epoch 42/90 : [==============================] - Loss: 389.8710 - Accuracy: 0.6499\n",
      "Epoch 43/90 : [==============================] - Loss: 386.5906 - Accuracy: 0.6527\n",
      "Epoch 44/90 : [==============================] - Loss: 383.2211 - Accuracy: 0.6557\n",
      "Epoch 45/90 : [==============================] - Loss: 380.0122 - Accuracy: 0.6588\n",
      "Epoch 46/90 : [==============================] - Loss: 376.7442 - Accuracy: 0.6621\n",
      "Epoch 47/90 : [==============================] - Loss: 373.7398 - Accuracy: 0.6650\n",
      "Epoch 48/90 : [==============================] - Loss: 370.5507 - Accuracy: 0.6682\n",
      "Epoch 49/90 : [==============================] - Loss: 367.4451 - Accuracy: 0.6703\n",
      "Epoch 50/90 : [==============================] - Loss: 364.3532 - Accuracy: 0.6728\n",
      "Epoch 51/90 : [==============================] - Loss: 361.3367 - Accuracy: 0.6759\n",
      "Epoch 52/90 : [==============================] - Loss: 358.3925 - Accuracy: 0.6787\n",
      "Epoch 53/90 : [==============================] - Loss: 355.5142 - Accuracy: 0.6817\n",
      "Epoch 54/90 : [==============================] - Loss: 352.6611 - Accuracy: 0.6851\n",
      "Epoch 55/90 : [==============================] - Loss: 349.7714 - Accuracy: 0.6874\n",
      "Epoch 56/90 : [==============================] - Loss: 347.0683 - Accuracy: 0.6902\n",
      "Epoch 57/90 : [==============================] - Loss: 344.2544 - Accuracy: 0.6929\n",
      "Epoch 58/90 : [==============================] - Loss: 341.5616 - Accuracy: 0.6955\n",
      "Epoch 59/90 : [==============================] - Loss: 338.7490 - Accuracy: 0.6984\n",
      "Epoch 60/90 : [==============================] - Loss: 335.9393 - Accuracy: 0.7006\n",
      "Epoch 61/90 : [==============================] - Loss: 333.3491 - Accuracy: 0.7030\n",
      "Epoch 62/90 : [==============================] - Loss: 330.5930 - Accuracy: 0.7055\n",
      "Epoch 63/90 : [==============================] - Loss: 328.0381 - Accuracy: 0.7088\n",
      "Epoch 64/90 : [==============================] - Loss: 325.5009 - Accuracy: 0.7110\n",
      "Epoch 65/90 : [==============================] - Loss: 322.9877 - Accuracy: 0.7123\n",
      "Epoch 66/90 : [==============================] - Loss: 320.3791 - Accuracy: 0.7150\n",
      "Epoch 67/90 : [==============================] - Loss: 317.7198 - Accuracy: 0.7181\n",
      "Epoch 68/90 : [==============================] - Loss: 315.2189 - Accuracy: 0.7208\n",
      "Epoch 69/90 : [==============================] - Loss: 312.6436 - Accuracy: 0.7232\n",
      "Epoch 70/90 : [==============================] - Loss: 310.1831 - Accuracy: 0.7249\n",
      "Epoch 71/90 : [==============================] - Loss: 307.7087 - Accuracy: 0.7274\n",
      "Epoch 72/90 : [==============================] - Loss: 305.1894 - Accuracy: 0.7307\n",
      "Epoch 73/90 : [==============================] - Loss: 302.7719 - Accuracy: 0.7327\n",
      "Epoch 74/90 : [==============================] - Loss: 300.3940 - Accuracy: 0.7338\n",
      "Epoch 75/90 : [==============================] - Loss: 297.9907 - Accuracy: 0.7358\n",
      "Epoch 76/90 : [==============================] - Loss: 295.4796 - Accuracy: 0.7383\n",
      "Epoch 77/90 : [==============================] - Loss: 293.0637 - Accuracy: 0.7398\n",
      "Epoch 78/90 : [==============================] - Loss: 290.7524 - Accuracy: 0.7419\n",
      "Epoch 79/90 : [==============================] - Loss: 288.3754 - Accuracy: 0.7445\n",
      "Epoch 80/90 : [==============================] - Loss: 285.9964 - Accuracy: 0.7472\n",
      "Epoch 81/90 : [==============================] - Loss: 283.6266 - Accuracy: 0.7491\n",
      "Epoch 82/90 : [==============================] - Loss: 281.2127 - Accuracy: 0.7510\n",
      "Epoch 83/90 : [==============================] - Loss: 278.9726 - Accuracy: 0.7534\n",
      "Epoch 84/90 : [==============================] - Loss: 276.6603 - Accuracy: 0.7552\n",
      "Epoch 85/90 : [==============================] - Loss: 274.2956 - Accuracy: 0.7578\n",
      "Epoch 86/90 : [==============================] - Loss: 272.1783 - Accuracy: 0.7601\n",
      "Epoch 87/90 : [==============================] - Loss: 269.9171 - Accuracy: 0.7622\n",
      "Epoch 88/90 : [==============================] - Loss: 267.6871 - Accuracy: 0.7646\n",
      "Epoch 89/90 : [==============================] - Loss: 265.5205 - Accuracy: 0.7664\n",
      "Epoch 90/90 : [==============================] - Loss: 263.4142 - Accuracy: 0.7691\n"
     ]
    }
   ],
   "source": [
    "start_time = time.time()\n",
    "\n",
    "num_epochs = 90\n",
    "\n",
    "for epoch in range(num_epochs):  # loop over the dataset multiple times\n",
    "\n",
    "    running_loss = 0.0\n",
    "    correct_predictions = 0\n",
    "    total_samples = 0\n",
    "    \n",
    "    for i, data in enumerate(trainloader, 0):\n",
    "        # get the inputs; data is a list of [inputs, labels]\n",
    "        inputs, labels = data\n",
    "        \n",
    "        # zero the parameter gradients\n",
    "        optimizer.zero_grad()\n",
    "\n",
    "        # forward + backward + optimize\n",
    "        outputs = net(inputs)\n",
    "        loss = criterion(outputs, labels)\n",
    "        loss.backward()\n",
    "        optimizer.step()\n",
    "        _, predicted = torch.max(outputs, 1)  # Obtén las clases predichas\n",
    "        \n",
    "\n",
    "        # print statistics\n",
    "        running_loss += loss.item()\n",
    "        correct_predictions += (predicted == labels).sum().item()\n",
    "        total_samples += labels.size(0)  # El tamaño del lote (batch)\n",
    "            \n",
    "    epoch_accuracy = correct_predictions / total_samples\n",
    "    print(f'Epoch {epoch + 1}/{num_epochs} : [==============================] - Loss: {running_loss:.4f} - Accuracy: {epoch_accuracy:.4f}')\n"
   ]
  },
  {
   "cell_type": "code",
   "execution_count": 9,
   "id": "3658e558-a5af-422c-bf21-b2298e64d731",
   "metadata": {},
   "outputs": [
    {
     "name": "stdout",
     "output_type": "stream",
     "text": [
      "Finished Training\n",
      "Tiempo de ejecución: 2604.873467 seconds\n",
      "Tiempo de ejecución: 43.414558 minutes\n"
     ]
    }
   ],
   "source": [
    "print('Finished Training')\n",
    "end_time = time.time()\n",
    "execution_time2 = (end_time - start_time) / 60\n",
    "execution_time = end_time - start_time\n",
    "print(f\"Tiempo de ejecución: {execution_time:.6f} seconds\")\n",
    "print(f\"Tiempo de ejecución: {execution_time2:.6f} minutes\")"
   ]
  },
  {
   "cell_type": "markdown",
   "id": "fff0e5e9-6f52-4b78-9d8f-7014f13f36db",
   "metadata": {},
   "source": [
    "As you can see in the cell aboce, the execution time is inefficient, approximately 44 minutes.\n",
    "\n",
    "##### 8. Visualize a couple of pictures:"
   ]
  },
  {
   "cell_type": "code",
   "execution_count": 10,
   "id": "30fe6d40-6a83-424d-a90b-ef13dbf9809f",
   "metadata": {},
   "outputs": [
    {
     "data": {
      "image/png": "[encoded data removed]",
      "text/plain": [
       "<Figure size 640x480 with 1 Axes>"
      ]
     },
     "metadata": {},
     "output_type": "display_data"
    },
    {
     "name": "stdout",
     "output_type": "stream",
     "text": [
      "rana  perro rana  rana \n"
     ]
    }
   ],
   "source": [
    "import random\n",
    "\n",
    "def imshow(img):\n",
    "    img = img / 2 + 0.5     # unnormalize\n",
    "    npimg = img.numpy()\n",
    "    plt.imshow(np.transpose(npimg, (1, 2, 0)))\n",
    "    plt.show()\n",
    "\n",
    "# Obtener 4 índices aleatorios para seleccionar imágenes\n",
    "random_indices = random.sample(range(len(trainset)), 4)\n",
    "dataiter = iter(trainloader)\n",
    "images, labels = next(dataiter)\n",
    "\n",
    "# Obtener las imágenes y etiquetas correspondientes a los índices aleatorios\n",
    "random_images = [trainset[i][0] for i in random_indices]\n",
    "random_labels = [trainset[i][1] for i in random_indices]\n",
    "\n",
    "# Mostrar las 4 imágenes aleatorias\n",
    "imshow(torchvision.utils.make_grid(random_images))\n",
    "# Imprimir etiquetas de las imágenes aleatorias\n",
    "print(' '.join(f'{classes[random_labels[j]]:5s}' for j in range(4)))"
   ]
  },
  {
   "cell_type": "markdown",
   "id": "b4ea4ccf-4923-42b8-87ba-ea8ffe30d56e",
   "metadata": {},
   "source": [
    "##### 9. Save the model in our local folder:"
   ]
  },
  {
   "cell_type": "code",
   "execution_count": 11,
   "id": "b91e03d7-eb03-43b0-90be-8172d97d6781",
   "metadata": {},
   "outputs": [],
   "source": [
    "PATH = './cifar_net.pth'\n",
    "torch.save(net.state_dict(), PATH)"
   ]
  },
  {
   "cell_type": "markdown",
   "id": "3fb05ed8-0560-4320-82a4-2c67d9b84cf2",
   "metadata": {},
   "source": [
    "##### 10. Load the model to testing and visualize any results:"
   ]
  },
  {
   "cell_type": "code",
   "execution_count": 12,
   "id": "953cbe57-457e-45eb-9ec3-c473b725ceb7",
   "metadata": {},
   "outputs": [
    {
     "data": {
      "text/plain": [
       "<All keys matched successfully>"
      ]
     },
     "execution_count": 12,
     "metadata": {},
     "output_type": "execute_result"
    }
   ],
   "source": [
    "net = Net()\n",
    "net.load_state_dict(torch.load(PATH))"
   ]
  },
  {
   "cell_type": "code",
   "execution_count": 13,
   "id": "315da696-0bbd-4a83-ab4c-570766f30ce1",
   "metadata": {},
   "outputs": [],
   "source": [
    "outputs = net(images)"
   ]
  },
  {
   "cell_type": "code",
   "execution_count": 14,
   "id": "a08ce30d-b644-45db-bf2f-d36153b3e67f",
   "metadata": {},
   "outputs": [
    {
     "name": "stdout",
     "output_type": "stream",
     "text": [
      "Predicted:  perro camion camion ciervo\n"
     ]
    }
   ],
   "source": [
    "_, predicted = torch.max(outputs, 1)\n",
    "\n",
    "print('Predicted: ', ' '.join(f'{classes[predicted[j]]:5s}'\n",
    "                              for j in range(4)))"
   ]
  },
  {
   "cell_type": "code",
   "execution_count": 15,
   "id": "25bd3e4a-dc30-4195-9f3e-48858bb13c61",
   "metadata": {},
   "outputs": [
    {
     "name": "stdout",
     "output_type": "stream",
     "text": [
      "Accuracy of the network on the 10000 test images: 63 %\n"
     ]
    }
   ],
   "source": [
    "correct = 0\n",
    "total = 0\n",
    "# since we're not training, we don't need to calculate the gradients for our outputs\n",
    "with torch.no_grad():\n",
    "    for data in testloader:\n",
    "        images, labels = data\n",
    "        # calculate outputs by running images through the network\n",
    "        outputs = net(images)\n",
    "        # the class with the highest energy is what we choose as prediction\n",
    "        _, predicted = torch.max(outputs.data, 1)\n",
    "        total += labels.size(0)\n",
    "        correct += (predicted == labels).sum().item()\n",
    "\n",
    "print(f'Accuracy of the network on the 10000 test images: {100 * correct // total} %')"
   ]
  },
  {
   "cell_type": "code",
   "execution_count": 16,
   "id": "192e03bd-559d-42cd-83c3-820be04e4091",
   "metadata": {},
   "outputs": [
    {
     "name": "stdout",
     "output_type": "stream",
     "text": [
      "Accuracy for class: avion is 70.1 %\n",
      "Accuracy for class: automovil is 77.0 %\n",
      "Accuracy for class: pajaro is 42.9 %\n",
      "Accuracy for class: gato  is 52.2 %\n",
      "Accuracy for class: ciervo is 54.9 %\n",
      "Accuracy for class: perro is 48.7 %\n",
      "Accuracy for class: rana  is 72.7 %\n",
      "Accuracy for class: caballo is 69.3 %\n",
      "Accuracy for class: barco is 70.5 %\n",
      "Accuracy for class: camion is 73.3 %\n"
     ]
    }
   ],
   "source": [
    "# prepare to count predictions for each class\n",
    "correct_pred = {classname: 0 for classname in classes}\n",
    "total_pred = {classname: 0 for classname in classes}\n",
    "\n",
    "# again no gradients needed\n",
    "with torch.no_grad():\n",
    "    for data in testloader:\n",
    "        images, labels = data\n",
    "        outputs = net(images)\n",
    "        _, predictions = torch.max(outputs, 1)\n",
    "        # collect the correct predictions for each class\n",
    "        for label, prediction in zip(labels, predictions):\n",
    "            if label == prediction:\n",
    "                correct_pred[classes[label]] += 1\n",
    "            total_pred[classes[label]] += 1\n",
    "\n",
    "\n",
    "# print accuracy for each class\n",
    "for classname, correct_count in correct_pred.items():\n",
    "    accuracy = 100 * float(correct_count) / total_pred[classname]\n",
    "    print(f'Accuracy for class: {classname:5s} is {accuracy:.1f} %')"
   ]
  },
  {
   "cell_type": "markdown",
   "id": "f0079ceb-f724-4223-9132-5b80823b1b2e",
   "metadata": {},
   "source": [
    "##### 11. The general result is not suitable to ou picture classifier."
   ]
  },
  {
   "cell_type": "markdown",
   "id": "f0c1c6e8-a1e1-46a6-9c2f-1142e2cdb393",
   "metadata": {},
   "source": [
    "### Conclusions\n",
    "\n",
    "* In general, you can see the poor performance of our deep learning model and the expensive time execution in a local machine.\n",
    "* Understand the needed of implement the same algorithm into a powerful machine with more hardware resources like GPU, CPU units and parallel and distributed training deep learning models through on-cloud services like Azure.\n"
   ]
  },
  {
   "cell_type": "code",
   "execution_count": null,
   "id": "769fce03-df88-4706-9ec3-477d31a4b550",
   "metadata": {},
   "outputs": [],
   "source": []
  }
 ],
 "metadata": {
  "kernelspec": {
   "display_name": "Python 3 (ipykernel)",
   "language": "python",
   "name": "python3"
  },
  "language_info": {
   "codemirror_mode": {
    "name": "ipython",
    "version": 3
   },
   "file_extension": ".py",
   "mimetype": "text/x-python",
   "name": "python",
   "nbconvert_exporter": "python",
   "pygments_lexer": "ipython3",
   "version": "3.8.12"
  }
 },
 "nbformat": 4,
 "nbformat_minor": 5
}
